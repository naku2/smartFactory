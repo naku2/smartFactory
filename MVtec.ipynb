{
  "nbformat": 4,
  "nbformat_minor": 0,
  "metadata": {
    "colab": {
      "provenance": [],
      "gpuType": "T4",
      "mount_file_id": "1Lp9DkKFTjAVZU_CH63AN85xxf7t9CLxy",
      "authorship_tag": "ABX9TyPTHDRe1fSV7w1rRs6oDHI7",
      "include_colab_link": true
    },
    "kernelspec": {
      "name": "python3",
      "display_name": "Python 3"
    },
    "language_info": {
      "name": "python"
    },
    "accelerator": "GPU"
  },
  "cells": [
    {
      "cell_type": "markdown",
      "metadata": {
        "id": "view-in-github",
        "colab_type": "text"
      },
      "source": [
        "<a href=\"https://colab.research.google.com/github/naku2/smartFactory/blob/main/MVtec.ipynb\" target=\"_parent\"><img src=\"https://colab.research.google.com/assets/colab-badge.svg\" alt=\"Open In Colab\"/></a>"
      ]
    },
    {
      "cell_type": "code",
      "execution_count": null,
      "metadata": {
        "id": "NQm2acMszydF"
      },
      "outputs": [],
      "source": [
        "%matplotlib inline\n",
        "import numpy as np\n",
        "import pandas as pd\n",
        "import matplotlib.pyplot as plt\n",
        "import tensorflow as tf\n",
        "import os\n",
        "import math\n",
        "from tensorflow import keras\n",
        "from keras import optimizers\n",
        "from keras.utils import plot_model\n",
        "from keras.models import Sequential\n",
        "from keras.layers import Input, Conv2D, Dense, Flatten, MaxPooling2D\n",
        "from sklearn.metrics import mean_squared_error\n",
        "from sklearn.model_selection import train_test_split\n",
        "from PIL import Image"
      ]
    },
    {
      "cell_type": "markdown",
      "source": [
        "### 데이터 불러오기"
      ],
      "metadata": {
        "id": "68UDtTLT02mx"
      }
    },
    {
      "cell_type": "code",
      "source": [
        "input_folder = '/content/drive/MyDrive/transistor/train/good'\n",
        "output_folder = '/content/drive/MyDrive/transistor/train/good_scaled'\n",
        "\n",
        "image_files = os.listdir(input_folder)\n",
        "\n",
        "for image_file in image_files:\n",
        "  image_path = os.path.join(input_folder, image_file)\n",
        "\n",
        "  image = Image.open(image_path)\n",
        "\n",
        "  resized_image = image.resize((640, 640))\n",
        "\n",
        "  image_array = np.array(resized_image)\n",
        "\n",
        "  scaled_image_array = image_array / 255.0\n",
        "\n",
        "  output_path = os.path.join(output_folder, image_file)\n",
        "\n",
        "  np.save(output_path, scaled_image_array)\n",
        "\n",
        "  image.close()"
      ],
      "metadata": {
        "id": "-cwlkkx802IF"
      },
      "execution_count": null,
      "outputs": []
    },
    {
      "cell_type": "code",
      "source": [
        "output_files = os.listdir(output_folder)"
      ],
      "metadata": {
        "id": "TtvoFet4CuHk"
      },
      "execution_count": null,
      "outputs": []
    },
    {
      "cell_type": "code",
      "source": [
        "scaled_image_array.dtype"
      ],
      "metadata": {
        "colab": {
          "base_uri": "https://localhost:8080/"
        },
        "id": "bzq4SwIN_DIC",
        "outputId": "26823fa7-6b45-4005-e70c-34fb32492a61"
      },
      "execution_count": null,
      "outputs": [
        {
          "output_type": "execute_result",
          "data": {
            "text/plain": [
              "dtype('float64')"
            ]
          },
          "metadata": {},
          "execution_count": 32
        }
      ]
    },
    {
      "cell_type": "markdown",
      "source": [
        "이미지 전처리 후 라벨링"
      ],
      "metadata": {
        "id": "7hgd5WdlPQQQ"
      }
    },
    {
      "cell_type": "code",
      "source": [
        "for output_file in output_files:\n",
        "  print(output_file)"
      ],
      "metadata": {
        "colab": {
          "base_uri": "https://localhost:8080/"
        },
        "id": "J0f8OMUHDJWq",
        "outputId": "9f6428b9-d36a-48cc-a6d3-2d17b0a41eef"
      },
      "execution_count": null,
      "outputs": [
        {
          "output_type": "stream",
          "name": "stdout",
          "text": [
            "010.png.npy\n",
            "014.png.npy\n",
            "020.png.npy\n",
            "031.png.npy\n",
            "028.png.npy\n",
            "033.png.npy\n",
            "034.png.npy\n",
            "006.png.npy\n",
            "017.png.npy\n",
            "002.png.npy\n",
            "023.png.npy\n",
            "004.png.npy\n",
            "008.png.npy\n",
            "032.png.npy\n",
            "005.png.npy\n",
            "035.png.npy\n",
            "025.png.npy\n",
            "019.png.npy\n",
            "036.png.npy\n",
            "021.png.npy\n",
            "029.png.npy\n",
            "011.png.npy\n",
            "000.png.npy\n",
            "003.png.npy\n",
            "001.png.npy\n",
            "016.png.npy\n",
            "038.png.npy\n",
            "039.png.npy\n",
            "026.png.npy\n",
            "015.png.npy\n",
            "037.png.npy\n",
            "022.png.npy\n",
            "009.png.npy\n",
            "024.png.npy\n",
            "027.png.npy\n",
            "018.png.npy\n",
            "013.png.npy\n",
            "030.png.npy\n",
            "055.png.npy\n",
            "012.png.npy\n",
            "007.png.npy\n",
            "060.png.npy\n",
            "075.png.npy\n",
            "099.png.npy\n",
            "071.png.npy\n",
            "083.png.npy\n",
            "079.png.npy\n",
            "062.png.npy\n",
            "111.png.npy\n",
            "051.png.npy\n",
            "053.png.npy\n",
            "105.png.npy\n",
            "089.png.npy\n",
            "047.png.npy\n",
            "091.png.npy\n",
            "101.png.npy\n",
            "104.png.npy\n",
            "057.png.npy\n",
            "063.png.npy\n",
            "068.png.npy\n",
            "056.png.npy\n",
            "084.png.npy\n",
            "113.png.npy\n",
            "058.png.npy\n",
            "078.png.npy\n",
            "082.png.npy\n",
            "043.png.npy\n",
            "102.png.npy\n",
            "112.png.npy\n",
            "065.png.npy\n",
            "085.png.npy\n",
            "052.png.npy\n",
            "054.png.npy\n",
            "059.png.npy\n",
            "103.png.npy\n",
            "086.png.npy\n",
            "046.png.npy\n",
            "110.png.npy\n",
            "092.png.npy\n",
            "044.png.npy\n",
            "088.png.npy\n",
            "050.png.npy\n",
            "087.png.npy\n",
            "081.png.npy\n",
            "109.png.npy\n",
            "069.png.npy\n",
            "080.png.npy\n",
            "074.png.npy\n",
            "072.png.npy\n",
            "106.png.npy\n",
            "041.png.npy\n",
            "095.png.npy\n",
            "076.png.npy\n",
            "077.png.npy\n",
            "061.png.npy\n",
            "096.png.npy\n",
            "093.png.npy\n",
            "070.png.npy\n",
            "064.png.npy\n",
            "049.png.npy\n",
            "107.png.npy\n",
            "073.png.npy\n",
            "067.png.npy\n",
            "097.png.npy\n",
            "040.png.npy\n",
            "048.png.npy\n",
            "066.png.npy\n",
            "045.png.npy\n",
            "098.png.npy\n",
            "100.png.npy\n",
            "042.png.npy\n",
            "090.png.npy\n",
            "108.png.npy\n",
            "094.png.npy\n",
            "194.png.npy\n",
            "122.png.npy\n",
            "141.png.npy\n",
            "176.png.npy\n",
            "192.png.npy\n",
            "121.png.npy\n",
            "165.png.npy\n",
            "164.png.npy\n",
            "142.png.npy\n",
            "116.png.npy\n",
            "126.png.npy\n",
            "172.png.npy\n",
            "145.png.npy\n",
            "166.png.npy\n",
            "159.png.npy\n",
            "154.png.npy\n",
            "138.png.npy\n",
            "152.png.npy\n",
            "171.png.npy\n",
            "117.png.npy\n",
            "183.png.npy\n",
            "162.png.npy\n",
            "135.png.npy\n",
            "185.png.npy\n",
            "149.png.npy\n",
            "114.png.npy\n",
            "151.png.npy\n",
            "129.png.npy\n",
            "179.png.npy\n",
            "157.png.npy\n",
            "119.png.npy\n",
            "124.png.npy\n",
            "177.png.npy\n",
            "128.png.npy\n",
            "147.png.npy\n",
            "195.png.npy\n",
            "193.png.npy\n",
            "120.png.npy\n",
            "148.png.npy\n",
            "115.png.npy\n",
            "168.png.npy\n",
            "127.png.npy\n",
            "146.png.npy\n",
            "191.png.npy\n",
            "161.png.npy\n",
            "140.png.npy\n",
            "130.png.npy\n",
            "188.png.npy\n",
            "180.png.npy\n",
            "169.png.npy\n",
            "167.png.npy\n",
            "125.png.npy\n",
            "150.png.npy\n",
            "174.png.npy\n",
            "144.png.npy\n",
            "175.png.npy\n",
            "186.png.npy\n",
            "118.png.npy\n",
            "132.png.npy\n",
            "190.png.npy\n",
            "155.png.npy\n",
            "182.png.npy\n",
            "123.png.npy\n",
            "189.png.npy\n",
            "131.png.npy\n",
            "153.png.npy\n",
            "160.png.npy\n",
            "139.png.npy\n",
            "170.png.npy\n",
            "143.png.npy\n",
            "187.png.npy\n",
            "173.png.npy\n",
            "163.png.npy\n",
            "136.png.npy\n",
            "178.png.npy\n",
            "137.png.npy\n",
            "181.png.npy\n",
            "133.png.npy\n",
            "158.png.npy\n",
            "184.png.npy\n",
            "156.png.npy\n",
            "201.png.npy\n",
            "209.png.npy\n",
            "206.png.npy\n",
            "205.png.npy\n",
            "134.png.npy\n",
            "196.png.npy\n",
            "207.png.npy\n",
            "198.png.npy\n",
            "204.png.npy\n",
            "212.png.npy\n",
            "197.png.npy\n",
            "199.png.npy\n",
            "202.png.npy\n",
            "210.png.npy\n",
            "211.png.npy\n",
            "200.png.npy\n",
            "203.png.npy\n",
            "208.png.npy\n"
          ]
        }
      ]
    },
    {
      "cell_type": "code",
      "source": [
        "import csv\n",
        "\n",
        "label_file = \"label_files.csv\"\n",
        "\n",
        "fieldnames = [\"filename\", \"label\"]\n",
        "\n",
        "label_data = []\n",
        "\n",
        "for output_file in output_files:\n",
        "  label_data.append({\"filename\": output_file, \"label\": 0}) #0 = good\n",
        "\n",
        "with open(label_file, 'w', newline='') as f:\n",
        "  writer = csv.DictWriter(f, fieldnames=fieldnames)\n",
        "  writer.writeheader()\n",
        "  writer.writerows(label_data)"
      ],
      "metadata": {
        "id": "JPvpDdDKCPt1"
      },
      "execution_count": null,
      "outputs": []
    },
    {
      "cell_type": "code",
      "source": [
        "#무조건 csv로 만들어야 편하고 좋구나"
      ],
      "metadata": {
        "id": "YTbckxmiFKBm"
      },
      "execution_count": null,
      "outputs": []
    },
    {
      "cell_type": "code",
      "source": [
        "print(label_data)"
      ],
      "metadata": {
        "colab": {
          "base_uri": "https://localhost:8080/"
        },
        "id": "MzDlOMB5KhFV",
        "outputId": "c0e85053-48ca-4f9b-a529-8ef92297ab42"
      },
      "execution_count": null,
      "outputs": [
        {
          "output_type": "stream",
          "name": "stdout",
          "text": [
            "[{'filename': '010.png.npy', 'label': 0}, {'filename': '014.png.npy', 'label': 0}, {'filename': '020.png.npy', 'label': 0}, {'filename': '031.png.npy', 'label': 0}, {'filename': '028.png.npy', 'label': 0}, {'filename': '033.png.npy', 'label': 0}, {'filename': '034.png.npy', 'label': 0}, {'filename': '006.png.npy', 'label': 0}, {'filename': '017.png.npy', 'label': 0}, {'filename': '002.png.npy', 'label': 0}, {'filename': '023.png.npy', 'label': 0}, {'filename': '004.png.npy', 'label': 0}, {'filename': '008.png.npy', 'label': 0}, {'filename': '032.png.npy', 'label': 0}, {'filename': '005.png.npy', 'label': 0}, {'filename': '035.png.npy', 'label': 0}, {'filename': '025.png.npy', 'label': 0}, {'filename': '019.png.npy', 'label': 0}, {'filename': '036.png.npy', 'label': 0}, {'filename': '021.png.npy', 'label': 0}, {'filename': '029.png.npy', 'label': 0}, {'filename': '011.png.npy', 'label': 0}, {'filename': '000.png.npy', 'label': 0}, {'filename': '003.png.npy', 'label': 0}, {'filename': '001.png.npy', 'label': 0}, {'filename': '016.png.npy', 'label': 0}, {'filename': '038.png.npy', 'label': 0}, {'filename': '039.png.npy', 'label': 0}, {'filename': '026.png.npy', 'label': 0}, {'filename': '015.png.npy', 'label': 0}, {'filename': '037.png.npy', 'label': 0}, {'filename': '022.png.npy', 'label': 0}, {'filename': '009.png.npy', 'label': 0}, {'filename': '024.png.npy', 'label': 0}, {'filename': '027.png.npy', 'label': 0}, {'filename': '018.png.npy', 'label': 0}, {'filename': '013.png.npy', 'label': 0}, {'filename': '030.png.npy', 'label': 0}, {'filename': '055.png.npy', 'label': 0}, {'filename': '012.png.npy', 'label': 0}, {'filename': '007.png.npy', 'label': 0}, {'filename': '060.png.npy', 'label': 0}, {'filename': '075.png.npy', 'label': 0}, {'filename': '099.png.npy', 'label': 0}, {'filename': '071.png.npy', 'label': 0}, {'filename': '083.png.npy', 'label': 0}, {'filename': '079.png.npy', 'label': 0}, {'filename': '062.png.npy', 'label': 0}, {'filename': '111.png.npy', 'label': 0}, {'filename': '051.png.npy', 'label': 0}, {'filename': '053.png.npy', 'label': 0}, {'filename': '105.png.npy', 'label': 0}, {'filename': '089.png.npy', 'label': 0}, {'filename': '047.png.npy', 'label': 0}, {'filename': '091.png.npy', 'label': 0}, {'filename': '101.png.npy', 'label': 0}, {'filename': '104.png.npy', 'label': 0}, {'filename': '057.png.npy', 'label': 0}, {'filename': '063.png.npy', 'label': 0}, {'filename': '068.png.npy', 'label': 0}, {'filename': '056.png.npy', 'label': 0}, {'filename': '084.png.npy', 'label': 0}, {'filename': '113.png.npy', 'label': 0}, {'filename': '058.png.npy', 'label': 0}, {'filename': '078.png.npy', 'label': 0}, {'filename': '082.png.npy', 'label': 0}, {'filename': '043.png.npy', 'label': 0}, {'filename': '102.png.npy', 'label': 0}, {'filename': '112.png.npy', 'label': 0}, {'filename': '065.png.npy', 'label': 0}, {'filename': '085.png.npy', 'label': 0}, {'filename': '052.png.npy', 'label': 0}, {'filename': '054.png.npy', 'label': 0}, {'filename': '059.png.npy', 'label': 0}, {'filename': '103.png.npy', 'label': 0}, {'filename': '086.png.npy', 'label': 0}, {'filename': '046.png.npy', 'label': 0}, {'filename': '110.png.npy', 'label': 0}, {'filename': '092.png.npy', 'label': 0}, {'filename': '044.png.npy', 'label': 0}, {'filename': '088.png.npy', 'label': 0}, {'filename': '050.png.npy', 'label': 0}, {'filename': '087.png.npy', 'label': 0}, {'filename': '081.png.npy', 'label': 0}, {'filename': '109.png.npy', 'label': 0}, {'filename': '069.png.npy', 'label': 0}, {'filename': '080.png.npy', 'label': 0}, {'filename': '074.png.npy', 'label': 0}, {'filename': '072.png.npy', 'label': 0}, {'filename': '106.png.npy', 'label': 0}, {'filename': '041.png.npy', 'label': 0}, {'filename': '095.png.npy', 'label': 0}, {'filename': '076.png.npy', 'label': 0}, {'filename': '077.png.npy', 'label': 0}, {'filename': '061.png.npy', 'label': 0}, {'filename': '096.png.npy', 'label': 0}, {'filename': '093.png.npy', 'label': 0}, {'filename': '070.png.npy', 'label': 0}, {'filename': '064.png.npy', 'label': 0}, {'filename': '049.png.npy', 'label': 0}, {'filename': '107.png.npy', 'label': 0}, {'filename': '073.png.npy', 'label': 0}, {'filename': '067.png.npy', 'label': 0}, {'filename': '097.png.npy', 'label': 0}, {'filename': '040.png.npy', 'label': 0}, {'filename': '048.png.npy', 'label': 0}, {'filename': '066.png.npy', 'label': 0}, {'filename': '045.png.npy', 'label': 0}, {'filename': '098.png.npy', 'label': 0}, {'filename': '100.png.npy', 'label': 0}, {'filename': '042.png.npy', 'label': 0}, {'filename': '090.png.npy', 'label': 0}, {'filename': '108.png.npy', 'label': 0}, {'filename': '094.png.npy', 'label': 0}, {'filename': '194.png.npy', 'label': 0}, {'filename': '122.png.npy', 'label': 0}, {'filename': '141.png.npy', 'label': 0}, {'filename': '176.png.npy', 'label': 0}, {'filename': '192.png.npy', 'label': 0}, {'filename': '121.png.npy', 'label': 0}, {'filename': '165.png.npy', 'label': 0}, {'filename': '164.png.npy', 'label': 0}, {'filename': '142.png.npy', 'label': 0}, {'filename': '116.png.npy', 'label': 0}, {'filename': '126.png.npy', 'label': 0}, {'filename': '172.png.npy', 'label': 0}, {'filename': '145.png.npy', 'label': 0}, {'filename': '166.png.npy', 'label': 0}, {'filename': '159.png.npy', 'label': 0}, {'filename': '154.png.npy', 'label': 0}, {'filename': '138.png.npy', 'label': 0}, {'filename': '152.png.npy', 'label': 0}, {'filename': '171.png.npy', 'label': 0}, {'filename': '117.png.npy', 'label': 0}, {'filename': '183.png.npy', 'label': 0}, {'filename': '162.png.npy', 'label': 0}, {'filename': '135.png.npy', 'label': 0}, {'filename': '185.png.npy', 'label': 0}, {'filename': '149.png.npy', 'label': 0}, {'filename': '114.png.npy', 'label': 0}, {'filename': '151.png.npy', 'label': 0}, {'filename': '129.png.npy', 'label': 0}, {'filename': '179.png.npy', 'label': 0}, {'filename': '157.png.npy', 'label': 0}, {'filename': '119.png.npy', 'label': 0}, {'filename': '124.png.npy', 'label': 0}, {'filename': '177.png.npy', 'label': 0}, {'filename': '128.png.npy', 'label': 0}, {'filename': '147.png.npy', 'label': 0}, {'filename': '195.png.npy', 'label': 0}, {'filename': '193.png.npy', 'label': 0}, {'filename': '120.png.npy', 'label': 0}, {'filename': '148.png.npy', 'label': 0}, {'filename': '115.png.npy', 'label': 0}, {'filename': '168.png.npy', 'label': 0}, {'filename': '127.png.npy', 'label': 0}, {'filename': '146.png.npy', 'label': 0}, {'filename': '191.png.npy', 'label': 0}, {'filename': '161.png.npy', 'label': 0}, {'filename': '140.png.npy', 'label': 0}, {'filename': '130.png.npy', 'label': 0}, {'filename': '188.png.npy', 'label': 0}, {'filename': '180.png.npy', 'label': 0}, {'filename': '169.png.npy', 'label': 0}, {'filename': '167.png.npy', 'label': 0}, {'filename': '125.png.npy', 'label': 0}, {'filename': '150.png.npy', 'label': 0}, {'filename': '174.png.npy', 'label': 0}, {'filename': '144.png.npy', 'label': 0}, {'filename': '175.png.npy', 'label': 0}, {'filename': '186.png.npy', 'label': 0}, {'filename': '118.png.npy', 'label': 0}, {'filename': '132.png.npy', 'label': 0}, {'filename': '190.png.npy', 'label': 0}, {'filename': '155.png.npy', 'label': 0}, {'filename': '182.png.npy', 'label': 0}, {'filename': '123.png.npy', 'label': 0}, {'filename': '189.png.npy', 'label': 0}, {'filename': '131.png.npy', 'label': 0}, {'filename': '153.png.npy', 'label': 0}, {'filename': '160.png.npy', 'label': 0}, {'filename': '139.png.npy', 'label': 0}, {'filename': '170.png.npy', 'label': 0}, {'filename': '143.png.npy', 'label': 0}, {'filename': '187.png.npy', 'label': 0}, {'filename': '173.png.npy', 'label': 0}, {'filename': '163.png.npy', 'label': 0}, {'filename': '136.png.npy', 'label': 0}, {'filename': '178.png.npy', 'label': 0}, {'filename': '137.png.npy', 'label': 0}, {'filename': '181.png.npy', 'label': 0}, {'filename': '133.png.npy', 'label': 0}, {'filename': '158.png.npy', 'label': 0}, {'filename': '184.png.npy', 'label': 0}, {'filename': '156.png.npy', 'label': 0}, {'filename': '201.png.npy', 'label': 0}, {'filename': '209.png.npy', 'label': 0}, {'filename': '206.png.npy', 'label': 0}, {'filename': '205.png.npy', 'label': 0}, {'filename': '134.png.npy', 'label': 0}, {'filename': '196.png.npy', 'label': 0}, {'filename': '207.png.npy', 'label': 0}, {'filename': '198.png.npy', 'label': 0}, {'filename': '204.png.npy', 'label': 0}, {'filename': '212.png.npy', 'label': 0}, {'filename': '197.png.npy', 'label': 0}, {'filename': '199.png.npy', 'label': 0}, {'filename': '202.png.npy', 'label': 0}, {'filename': '210.png.npy', 'label': 0}, {'filename': '211.png.npy', 'label': 0}, {'filename': '200.png.npy', 'label': 0}, {'filename': '203.png.npy', 'label': 0}, {'filename': '208.png.npy', 'label': 0}]\n"
          ]
        }
      ]
    },
    {
      "cell_type": "markdown",
      "source": [
        "bad image 파일명 변경"
      ],
      "metadata": {
        "id": "seVhrliUt6g-"
      }
    },
    {
      "cell_type": "code",
      "source": [
        "folder_path = '/content/drive/MyDrive/transistor/test/bent_lead'\n",
        "extension = '.png'\n",
        "prefix = 'bent_lead_'\n",
        "\n",
        "for i, filename in enumerate(os.listdir(folder_path)):\n",
        "  new_filename = f'{prefix}{i+1:03d}{extension}'\n",
        "\n",
        "  old_path = os.path.join(folder_path, filename)\n",
        "  new_path = os.path.join(folder_path, new_filename)\n",
        "\n",
        "  os.rename(old_path, new_path)\n",
        "\n",
        "\n",
        "folder_path = '/content/drive/MyDrive/transistor/test/cut_lead'\n",
        "extension = '.png'\n",
        "prefix = 'cut_lead_'\n",
        "\n",
        "for i, filename in enumerate(os.listdir(folder_path)):\n",
        "  new_filename = f'{prefix}{i+1:03d}{extension}'\n",
        "\n",
        "  old_path = os.path.join(folder_path, filename)\n",
        "  new_path = os.path.join(folder_path, new_filename)\n",
        "\n",
        "  os.rename(old_path, new_path)\n",
        "\n",
        "\n",
        "folder_path = '/content/drive/MyDrive/transistor/test/damaged_case'\n",
        "extension = '.png'\n",
        "prefix = 'damaged_'\n",
        "\n",
        "for i, filename in enumerate(os.listdir(folder_path)):\n",
        "  new_filename = f'{prefix}{i+1:03d}{extension}'\n",
        "\n",
        "  old_path = os.path.join(folder_path, filename)\n",
        "  new_path = os.path.join(folder_path, new_filename)\n",
        "\n",
        "  os.rename(old_path, new_path)\n",
        "\n",
        "\n",
        "folder_path = '/content/drive/MyDrive/transistor/test/misplaced'\n",
        "extension = '.png'\n",
        "prefix = 'misplaced_'\n",
        "\n",
        "for i, filename in enumerate(os.listdir(folder_path)):\n",
        "  new_filename = f'{prefix}{i+1:03d}{extension}'\n",
        "\n",
        "  old_path = os.path.join(folder_path, filename)\n",
        "  new_path = os.path.join(folder_path, new_filename)\n",
        "\n",
        "  os.rename(old_path, new_path)"
      ],
      "metadata": {
        "id": "XsiVUHTDrS0T"
      },
      "execution_count": null,
      "outputs": []
    },
    {
      "cell_type": "markdown",
      "source": [
        "###bad image 전처리 후 라벨링"
      ],
      "metadata": {
        "id": "_fq-gl0gsjGl"
      }
    },
    {
      "cell_type": "code",
      "source": [
        "input_folder = '/content/drive/MyDrive/transistor/test/bent_lead'\n",
        "output_folder = '/content/drive/MyDrive/transistor/train/bent_lead_scaled'\n",
        "\n",
        "image_files = os.listdir(input_folder)\n",
        "\n",
        "for image_file in image_files:\n",
        "  image_path = os.path.join(input_folder, image_file)\n",
        "\n",
        "  image = Image.open(image_path)\n",
        "\n",
        "  resized_image = image.resize((640, 640))\n",
        "\n",
        "  image_array = np.array(resized_image)\n",
        "\n",
        "  scaled_image_array = image_array / 255.0\n",
        "\n",
        "  output_path = os.path.join(output_folder, image_file)\n",
        "\n",
        "  np.save(output_path, scaled_image_array)\n",
        "\n",
        "  image.close()"
      ],
      "metadata": {
        "id": "CIfCyPPhsigM"
      },
      "execution_count": null,
      "outputs": []
    },
    {
      "cell_type": "code",
      "source": [
        "input_folder = '/content/drive/MyDrive/transistor/test/cut_lead'\n",
        "output_folder = '/content/drive/MyDrive/transistor/train/cut_lead_scaled'\n",
        "\n",
        "image_files = os.listdir(input_folder)\n",
        "\n",
        "for image_file in image_files:\n",
        "  image_path = os.path.join(input_folder, image_file)\n",
        "\n",
        "  image = Image.open(image_path)\n",
        "\n",
        "  resized_image = image.resize((640, 640))\n",
        "\n",
        "  image_array = np.array(resized_image)\n",
        "\n",
        "  scaled_image_array = image_array / 255.0\n",
        "\n",
        "  output_path = os.path.join(output_folder, image_file)\n",
        "\n",
        "  np.save(output_path, scaled_image_array)\n",
        "\n",
        "  image.close()"
      ],
      "metadata": {
        "id": "SyXvqW8OuZZf"
      },
      "execution_count": null,
      "outputs": []
    },
    {
      "cell_type": "code",
      "source": [
        "input_folder = '/content/drive/MyDrive/transistor/test/damaged_case'\n",
        "output_folder = '/content/drive/MyDrive/transistor/train/damaged_case_scaled'\n",
        "\n",
        "image_files = os.listdir(input_folder)\n",
        "\n",
        "for image_file in image_files:\n",
        "  image_path = os.path.join(input_folder, image_file)\n",
        "\n",
        "  image = Image.open(image_path)\n",
        "\n",
        "  resized_image = image.resize((640, 640))\n",
        "\n",
        "  image_array = np.array(resized_image)\n",
        "\n",
        "  scaled_image_array = image_array / 255.0\n",
        "\n",
        "  output_path = os.path.join(output_folder, image_file)\n",
        "\n",
        "  np.save(output_path, scaled_image_array)\n",
        "\n",
        "  image.close()"
      ],
      "metadata": {
        "id": "6MMSTR17uaYl"
      },
      "execution_count": null,
      "outputs": []
    },
    {
      "cell_type": "code",
      "source": [
        "input_folder = '/content/drive/MyDrive/transistor/test/misplaced'\n",
        "output_folder = '/content/drive/MyDrive/transistor/train/misplaced_scaled'\n",
        "\n",
        "image_files = os.listdir(input_folder)\n",
        "\n",
        "for image_file in image_files:\n",
        "  image_path = os.path.join(input_folder, image_file)\n",
        "\n",
        "  image = Image.open(image_path)\n",
        "\n",
        "  resized_image = image.resize((640, 640))\n",
        "\n",
        "  image_array = np.array(resized_image)\n",
        "\n",
        "  scaled_image_array = image_array / 255.0\n",
        "\n",
        "  output_path = os.path.join(output_folder, image_file)\n",
        "\n",
        "  np.save(output_path, scaled_image_array)\n",
        "\n",
        "  image.close()"
      ],
      "metadata": {
        "id": "Fbhg6uqLua-4"
      },
      "execution_count": null,
      "outputs": []
    },
    {
      "cell_type": "markdown",
      "source": [
        "bad image => bad_scaled로 취합"
      ],
      "metadata": {
        "id": "8_7vovXPwo__"
      }
    },
    {
      "cell_type": "code",
      "source": [
        "import shutil\n",
        "\n",
        "source_folder = '/content/drive/MyDrive/transistor/train/bent_lead_scaled'\n",
        "destination_folder = '/content/drive/MyDrive/transistor/train/bad_scaled'\n",
        "\n",
        "for filename in os.listdir(source_folder):\n",
        "  source_path = os.path.join(source_folder, filename)\n",
        "  destination_path = os.path.join(destination_folder, filename)\n",
        "  shutil.copy(source_path, destination_path)"
      ],
      "metadata": {
        "id": "gp0OoL2zwidu"
      },
      "execution_count": null,
      "outputs": []
    },
    {
      "cell_type": "code",
      "source": [
        "source_folder = '/content/drive/MyDrive/transistor/train/cut_lead_scaled'\n",
        "\n",
        "for filename in os.listdir(source_folder):\n",
        "  source_path = os.path.join(source_folder, filename)\n",
        "  destination_path = os.path.join(destination_folder, filename)\n",
        "  shutil.copy(source_path, destination_path)\n",
        "\n",
        "source_folder = '/content/drive/MyDrive/transistor/train/damaged_case_scaled'\n",
        "\n",
        "for filename in os.listdir(source_folder):\n",
        "  source_path = os.path.join(source_folder, filename)\n",
        "  destination_path = os.path.join(destination_folder, filename)\n",
        "  shutil.copy(source_path, destination_path)\n",
        "\n",
        "source_folder = '/content/drive/MyDrive/transistor/train/misplaced_scaled'\n",
        "\n",
        "for filename in os.listdir(source_folder):\n",
        "  source_path = os.path.join(source_folder, filename)\n",
        "  destination_path = os.path.join(destination_folder, filename)\n",
        "  shutil.copy(source_path, destination_path)"
      ],
      "metadata": {
        "id": "eNzMTTrmxOf2"
      },
      "execution_count": null,
      "outputs": []
    },
    {
      "cell_type": "markdown",
      "source": [
        "bad image labelling"
      ],
      "metadata": {
        "id": "ac0KUA5-vplT"
      }
    },
    {
      "cell_type": "code",
      "source": [
        "label_file"
      ],
      "metadata": {
        "colab": {
          "base_uri": "https://localhost:8080/",
          "height": 36
        },
        "id": "tSBvCrLuzTzn",
        "outputId": "e7ba8b67-7b7a-445f-fbbb-01a8616a20b7"
      },
      "execution_count": null,
      "outputs": [
        {
          "output_type": "execute_result",
          "data": {
            "text/plain": [
              "'label_files.csv'"
            ],
            "application/vnd.google.colaboratory.intrinsic+json": {
              "type": "string"
            }
          },
          "metadata": {},
          "execution_count": 44
        }
      ]
    },
    {
      "cell_type": "code",
      "source": [
        "label_data"
      ],
      "metadata": {
        "colab": {
          "base_uri": "https://localhost:8080/"
        },
        "id": "sW5BuPQYSCJe",
        "outputId": "9dc114e2-bf06-46dc-dbaf-76670bca9067"
      },
      "execution_count": null,
      "outputs": [
        {
          "output_type": "execute_result",
          "data": {
            "text/plain": [
              "[{'filename': '010.png.npy', 'label': 0},\n",
              " {'filename': '014.png.npy', 'label': 0},\n",
              " {'filename': '020.png.npy', 'label': 0},\n",
              " {'filename': '031.png.npy', 'label': 0},\n",
              " {'filename': '028.png.npy', 'label': 0},\n",
              " {'filename': '033.png.npy', 'label': 0},\n",
              " {'filename': '034.png.npy', 'label': 0},\n",
              " {'filename': '006.png.npy', 'label': 0},\n",
              " {'filename': '017.png.npy', 'label': 0},\n",
              " {'filename': '002.png.npy', 'label': 0},\n",
              " {'filename': '023.png.npy', 'label': 0},\n",
              " {'filename': '004.png.npy', 'label': 0},\n",
              " {'filename': '008.png.npy', 'label': 0},\n",
              " {'filename': '032.png.npy', 'label': 0},\n",
              " {'filename': '005.png.npy', 'label': 0},\n",
              " {'filename': '035.png.npy', 'label': 0},\n",
              " {'filename': '025.png.npy', 'label': 0},\n",
              " {'filename': '019.png.npy', 'label': 0},\n",
              " {'filename': '036.png.npy', 'label': 0},\n",
              " {'filename': '021.png.npy', 'label': 0},\n",
              " {'filename': '029.png.npy', 'label': 0},\n",
              " {'filename': '011.png.npy', 'label': 0},\n",
              " {'filename': '000.png.npy', 'label': 0},\n",
              " {'filename': '003.png.npy', 'label': 0},\n",
              " {'filename': '001.png.npy', 'label': 0},\n",
              " {'filename': '016.png.npy', 'label': 0},\n",
              " {'filename': '038.png.npy', 'label': 0},\n",
              " {'filename': '039.png.npy', 'label': 0},\n",
              " {'filename': '026.png.npy', 'label': 0},\n",
              " {'filename': '015.png.npy', 'label': 0},\n",
              " {'filename': '037.png.npy', 'label': 0},\n",
              " {'filename': '022.png.npy', 'label': 0},\n",
              " {'filename': '009.png.npy', 'label': 0},\n",
              " {'filename': '024.png.npy', 'label': 0},\n",
              " {'filename': '027.png.npy', 'label': 0},\n",
              " {'filename': '018.png.npy', 'label': 0},\n",
              " {'filename': '013.png.npy', 'label': 0},\n",
              " {'filename': '030.png.npy', 'label': 0},\n",
              " {'filename': '055.png.npy', 'label': 0},\n",
              " {'filename': '012.png.npy', 'label': 0},\n",
              " {'filename': '007.png.npy', 'label': 0},\n",
              " {'filename': '060.png.npy', 'label': 0},\n",
              " {'filename': '075.png.npy', 'label': 0},\n",
              " {'filename': '099.png.npy', 'label': 0},\n",
              " {'filename': '071.png.npy', 'label': 0},\n",
              " {'filename': '083.png.npy', 'label': 0},\n",
              " {'filename': '079.png.npy', 'label': 0},\n",
              " {'filename': '062.png.npy', 'label': 0},\n",
              " {'filename': '111.png.npy', 'label': 0},\n",
              " {'filename': '051.png.npy', 'label': 0},\n",
              " {'filename': '053.png.npy', 'label': 0},\n",
              " {'filename': '105.png.npy', 'label': 0},\n",
              " {'filename': '089.png.npy', 'label': 0},\n",
              " {'filename': '047.png.npy', 'label': 0},\n",
              " {'filename': '091.png.npy', 'label': 0},\n",
              " {'filename': '101.png.npy', 'label': 0},\n",
              " {'filename': '104.png.npy', 'label': 0},\n",
              " {'filename': '057.png.npy', 'label': 0},\n",
              " {'filename': '063.png.npy', 'label': 0},\n",
              " {'filename': '068.png.npy', 'label': 0},\n",
              " {'filename': '056.png.npy', 'label': 0},\n",
              " {'filename': '084.png.npy', 'label': 0},\n",
              " {'filename': '113.png.npy', 'label': 0},\n",
              " {'filename': '058.png.npy', 'label': 0},\n",
              " {'filename': '078.png.npy', 'label': 0},\n",
              " {'filename': '082.png.npy', 'label': 0},\n",
              " {'filename': '043.png.npy', 'label': 0},\n",
              " {'filename': '102.png.npy', 'label': 0},\n",
              " {'filename': '112.png.npy', 'label': 0},\n",
              " {'filename': '065.png.npy', 'label': 0},\n",
              " {'filename': '085.png.npy', 'label': 0},\n",
              " {'filename': '052.png.npy', 'label': 0},\n",
              " {'filename': '054.png.npy', 'label': 0},\n",
              " {'filename': '059.png.npy', 'label': 0},\n",
              " {'filename': '103.png.npy', 'label': 0},\n",
              " {'filename': '086.png.npy', 'label': 0},\n",
              " {'filename': '046.png.npy', 'label': 0},\n",
              " {'filename': '110.png.npy', 'label': 0},\n",
              " {'filename': '092.png.npy', 'label': 0},\n",
              " {'filename': '044.png.npy', 'label': 0},\n",
              " {'filename': '088.png.npy', 'label': 0},\n",
              " {'filename': '050.png.npy', 'label': 0},\n",
              " {'filename': '087.png.npy', 'label': 0},\n",
              " {'filename': '081.png.npy', 'label': 0},\n",
              " {'filename': '109.png.npy', 'label': 0},\n",
              " {'filename': '069.png.npy', 'label': 0},\n",
              " {'filename': '080.png.npy', 'label': 0},\n",
              " {'filename': '074.png.npy', 'label': 0},\n",
              " {'filename': '072.png.npy', 'label': 0},\n",
              " {'filename': '106.png.npy', 'label': 0},\n",
              " {'filename': '041.png.npy', 'label': 0},\n",
              " {'filename': '095.png.npy', 'label': 0},\n",
              " {'filename': '076.png.npy', 'label': 0},\n",
              " {'filename': '077.png.npy', 'label': 0},\n",
              " {'filename': '061.png.npy', 'label': 0},\n",
              " {'filename': '096.png.npy', 'label': 0},\n",
              " {'filename': '093.png.npy', 'label': 0},\n",
              " {'filename': '070.png.npy', 'label': 0},\n",
              " {'filename': '064.png.npy', 'label': 0},\n",
              " {'filename': '049.png.npy', 'label': 0},\n",
              " {'filename': '107.png.npy', 'label': 0},\n",
              " {'filename': '073.png.npy', 'label': 0},\n",
              " {'filename': '067.png.npy', 'label': 0},\n",
              " {'filename': '097.png.npy', 'label': 0},\n",
              " {'filename': '040.png.npy', 'label': 0},\n",
              " {'filename': '048.png.npy', 'label': 0},\n",
              " {'filename': '066.png.npy', 'label': 0},\n",
              " {'filename': '045.png.npy', 'label': 0},\n",
              " {'filename': '098.png.npy', 'label': 0},\n",
              " {'filename': '100.png.npy', 'label': 0},\n",
              " {'filename': '042.png.npy', 'label': 0},\n",
              " {'filename': '090.png.npy', 'label': 0},\n",
              " {'filename': '108.png.npy', 'label': 0},\n",
              " {'filename': '094.png.npy', 'label': 0},\n",
              " {'filename': '194.png.npy', 'label': 0},\n",
              " {'filename': '122.png.npy', 'label': 0},\n",
              " {'filename': '141.png.npy', 'label': 0},\n",
              " {'filename': '176.png.npy', 'label': 0},\n",
              " {'filename': '192.png.npy', 'label': 0},\n",
              " {'filename': '121.png.npy', 'label': 0},\n",
              " {'filename': '165.png.npy', 'label': 0},\n",
              " {'filename': '164.png.npy', 'label': 0},\n",
              " {'filename': '142.png.npy', 'label': 0},\n",
              " {'filename': '116.png.npy', 'label': 0},\n",
              " {'filename': '126.png.npy', 'label': 0},\n",
              " {'filename': '172.png.npy', 'label': 0},\n",
              " {'filename': '145.png.npy', 'label': 0},\n",
              " {'filename': '166.png.npy', 'label': 0},\n",
              " {'filename': '159.png.npy', 'label': 0},\n",
              " {'filename': '154.png.npy', 'label': 0},\n",
              " {'filename': '138.png.npy', 'label': 0},\n",
              " {'filename': '152.png.npy', 'label': 0},\n",
              " {'filename': '171.png.npy', 'label': 0},\n",
              " {'filename': '117.png.npy', 'label': 0},\n",
              " {'filename': '183.png.npy', 'label': 0},\n",
              " {'filename': '162.png.npy', 'label': 0},\n",
              " {'filename': '135.png.npy', 'label': 0},\n",
              " {'filename': '185.png.npy', 'label': 0},\n",
              " {'filename': '149.png.npy', 'label': 0},\n",
              " {'filename': '114.png.npy', 'label': 0},\n",
              " {'filename': '151.png.npy', 'label': 0},\n",
              " {'filename': '129.png.npy', 'label': 0},\n",
              " {'filename': '179.png.npy', 'label': 0},\n",
              " {'filename': '157.png.npy', 'label': 0},\n",
              " {'filename': '119.png.npy', 'label': 0},\n",
              " {'filename': '124.png.npy', 'label': 0},\n",
              " {'filename': '177.png.npy', 'label': 0},\n",
              " {'filename': '128.png.npy', 'label': 0},\n",
              " {'filename': '147.png.npy', 'label': 0},\n",
              " {'filename': '195.png.npy', 'label': 0},\n",
              " {'filename': '193.png.npy', 'label': 0},\n",
              " {'filename': '120.png.npy', 'label': 0},\n",
              " {'filename': '148.png.npy', 'label': 0},\n",
              " {'filename': '115.png.npy', 'label': 0},\n",
              " {'filename': '168.png.npy', 'label': 0},\n",
              " {'filename': '127.png.npy', 'label': 0},\n",
              " {'filename': '146.png.npy', 'label': 0},\n",
              " {'filename': '191.png.npy', 'label': 0},\n",
              " {'filename': '161.png.npy', 'label': 0},\n",
              " {'filename': '140.png.npy', 'label': 0},\n",
              " {'filename': '130.png.npy', 'label': 0},\n",
              " {'filename': '188.png.npy', 'label': 0},\n",
              " {'filename': '180.png.npy', 'label': 0},\n",
              " {'filename': '169.png.npy', 'label': 0},\n",
              " {'filename': '167.png.npy', 'label': 0},\n",
              " {'filename': '125.png.npy', 'label': 0},\n",
              " {'filename': '150.png.npy', 'label': 0},\n",
              " {'filename': '174.png.npy', 'label': 0},\n",
              " {'filename': '144.png.npy', 'label': 0},\n",
              " {'filename': '175.png.npy', 'label': 0},\n",
              " {'filename': '186.png.npy', 'label': 0},\n",
              " {'filename': '118.png.npy', 'label': 0},\n",
              " {'filename': '132.png.npy', 'label': 0},\n",
              " {'filename': '190.png.npy', 'label': 0},\n",
              " {'filename': '155.png.npy', 'label': 0},\n",
              " {'filename': '182.png.npy', 'label': 0},\n",
              " {'filename': '123.png.npy', 'label': 0},\n",
              " {'filename': '189.png.npy', 'label': 0},\n",
              " {'filename': '131.png.npy', 'label': 0},\n",
              " {'filename': '153.png.npy', 'label': 0},\n",
              " {'filename': '160.png.npy', 'label': 0},\n",
              " {'filename': '139.png.npy', 'label': 0},\n",
              " {'filename': '170.png.npy', 'label': 0},\n",
              " {'filename': '143.png.npy', 'label': 0},\n",
              " {'filename': '187.png.npy', 'label': 0},\n",
              " {'filename': '173.png.npy', 'label': 0},\n",
              " {'filename': '163.png.npy', 'label': 0},\n",
              " {'filename': '136.png.npy', 'label': 0},\n",
              " {'filename': '178.png.npy', 'label': 0},\n",
              " {'filename': '137.png.npy', 'label': 0},\n",
              " {'filename': '181.png.npy', 'label': 0},\n",
              " {'filename': '133.png.npy', 'label': 0},\n",
              " {'filename': '158.png.npy', 'label': 0},\n",
              " {'filename': '184.png.npy', 'label': 0},\n",
              " {'filename': '156.png.npy', 'label': 0},\n",
              " {'filename': '201.png.npy', 'label': 0},\n",
              " {'filename': '209.png.npy', 'label': 0},\n",
              " {'filename': '206.png.npy', 'label': 0},\n",
              " {'filename': '205.png.npy', 'label': 0},\n",
              " {'filename': '134.png.npy', 'label': 0},\n",
              " {'filename': '196.png.npy', 'label': 0},\n",
              " {'filename': '207.png.npy', 'label': 0},\n",
              " {'filename': '198.png.npy', 'label': 0},\n",
              " {'filename': '204.png.npy', 'label': 0},\n",
              " {'filename': '212.png.npy', 'label': 0},\n",
              " {'filename': '197.png.npy', 'label': 0},\n",
              " {'filename': '199.png.npy', 'label': 0},\n",
              " {'filename': '202.png.npy', 'label': 0},\n",
              " {'filename': '210.png.npy', 'label': 0},\n",
              " {'filename': '211.png.npy', 'label': 0},\n",
              " {'filename': '200.png.npy', 'label': 0},\n",
              " {'filename': '203.png.npy', 'label': 0},\n",
              " {'filename': '208.png.npy', 'label': 0}]"
            ]
          },
          "metadata": {},
          "execution_count": 45
        }
      ]
    },
    {
      "cell_type": "code",
      "source": [
        "output_folder = '/content/drive/MyDrive/transistor/train/bad_scaled'\n",
        "\n",
        "output_files = os.listdir(output_folder)\n",
        "\n",
        "\n",
        "for output_file in output_files:\n",
        "  label_data.append({\"filename\": output_file, \"label\": 1})\n",
        "\n",
        "  with open(label_file, 'w', newline='') as f:\n",
        "    writer = csv.DictWriter(f, fieldnames=fieldnames)\n",
        "    writer.writeheader()\n",
        "    writer.writerows(label_data)"
      ],
      "metadata": {
        "id": "JXa-WqlrpRiF"
      },
      "execution_count": null,
      "outputs": []
    },
    {
      "cell_type": "markdown",
      "source": [
        "### 모델 생성"
      ],
      "metadata": {
        "id": "WfIqMeYM0qhE"
      }
    },
    {
      "cell_type": "code",
      "source": [
        "train = pd.read_csv('/content/label_files.csv')"
      ],
      "metadata": {
        "id": "4nZtJ6n33NSb"
      },
      "execution_count": null,
      "outputs": []
    },
    {
      "cell_type": "code",
      "source": [
        "train.shape"
      ],
      "metadata": {
        "colab": {
          "base_uri": "https://localhost:8080/"
        },
        "id": "0iFkZBKH51SA",
        "outputId": "5c1298e2-2446-4e52-a6cd-c0d3a4c2d35c"
      },
      "execution_count": null,
      "outputs": [
        {
          "output_type": "execute_result",
          "data": {
            "text/plain": [
              "(253, 2)"
            ]
          },
          "metadata": {},
          "execution_count": 48
        }
      ]
    },
    {
      "cell_type": "code",
      "source": [
        "train['filename'].shape"
      ],
      "metadata": {
        "colab": {
          "base_uri": "https://localhost:8080/"
        },
        "id": "hC0XVGcTBE_b",
        "outputId": "437a3229-49d9-458f-ab04-148b01d354b5"
      },
      "execution_count": null,
      "outputs": [
        {
          "output_type": "execute_result",
          "data": {
            "text/plain": [
              "(253,)"
            ]
          },
          "metadata": {},
          "execution_count": 49
        }
      ]
    },
    {
      "cell_type": "code",
      "source": [
        "#csv파일에는 이미지 관련 데이터가 따로 들어가지 않는다. 따라서 파일명에 따른 경로를 따로 지정해줘야함"
      ],
      "metadata": {
        "id": "tbRshXbNBRaU"
      },
      "execution_count": null,
      "outputs": []
    },
    {
      "cell_type": "markdown",
      "source": [
        "라펠링 파일 취합"
      ],
      "metadata": {
        "id": "u0guilCtKCSx"
      }
    },
    {
      "cell_type": "code",
      "source": [
        "source_folder = '/content/drive/MyDrive/transistor/train/good_scaled'  # 복사할 파일들이 있는 폴더 경로\n",
        "destination_folder = '/content/drive/MyDrive/transistor/train/test_scaled'  # 복사한 파일들을 저장할 폴더 경로\n",
        "\n",
        "# 대상 폴더가 없으면 생성\n",
        "if not os.path.exists(destination_folder):\n",
        "    os.makedirs(destination_folder)\n",
        "\n",
        "# 폴더 내의 파일들을 복사\n",
        "for filename in os.listdir(source_folder):\n",
        "    source_path = os.path.join(source_folder, filename)\n",
        "    destination_path = os.path.join(destination_folder, filename)\n",
        "    shutil.copy(source_path, destination_path)\n",
        "\n",
        "source_folder = '/content/drive/MyDrive/transistor/train/bad_scaled'  # 복사할 파일들이 있는 폴더 경로\n",
        "\n",
        "# 대상 폴더가 없으면 생성\n",
        "if not os.path.exists(destination_folder):\n",
        "    os.makedirs(destination_folder)\n",
        "\n",
        "# 폴더 내의 파일들을 복사\n",
        "for filename in os.listdir(source_folder):\n",
        "    source_path = os.path.join(source_folder, filename)\n",
        "    destination_path = os.path.join(destination_folder, filename)\n",
        "    shutil.copy(source_path, destination_path)"
      ],
      "metadata": {
        "id": "Q20BK2-WKAZG"
      },
      "execution_count": null,
      "outputs": []
    },
    {
      "cell_type": "markdown",
      "source": [
        "라벨링파일 불러오기"
      ],
      "metadata": {
        "id": "o3AL_uhbCps5"
      }
    },
    {
      "cell_type": "markdown",
      "source": [],
      "metadata": {
        "id": "Nr8vgswfX1AA"
      }
    },
    {
      "cell_type": "code",
      "source": [
        "from keras.utils import to_categorical\n",
        "\n",
        "label_file = pd.read_csv('/content/label_files.csv')\n",
        "\n",
        "x = []\n",
        "y = []\n",
        "for i in range(len(label_file)):\n",
        "  file_path = label_file['filename'][i]\n",
        "  # print(type(file_path))\n",
        "  label = label_file['label'][i]\n",
        "\n",
        "  loaded_data = np.load('/content/drive/MyDrive/transistor/train/test_scaled/' + file_path)\n",
        "  x.append(loaded_data)\n",
        "  y.append(label)\n",
        "\n",
        "x = np.array(x)\n",
        "y = np.array(y)\n",
        "\n",
        "y = to_categorical(y)"
      ],
      "metadata": {
        "id": "dVw5Bv0ABkdb"
      },
      "execution_count": null,
      "outputs": []
    },
    {
      "cell_type": "code",
      "source": [
        "print(x)"
      ],
      "metadata": {
        "id": "i46E19ZtN8xY"
      },
      "execution_count": null,
      "outputs": []
    },
    {
      "cell_type": "code",
      "source": [
        "num_classes = 2\n",
        "\n",
        "# Sequential 모델 구성\n",
        "model = tf.keras.Sequential()\n",
        "\n",
        "# 입력 레이어\n",
        "model.add(Input(shape=(640, 640, 3)))\n",
        "\n",
        "# 컨볼루션 레이어\n",
        "model.add(Conv2D(32, (3, 3), activation='relu'))\n",
        "model.add(MaxPooling2D((2, 2)))\n",
        "\n",
        "model.add(Conv2D(64, (3, 3), activation='relu'))\n",
        "model.add(MaxPooling2D((2, 2)))\n",
        "\n",
        "model.add(Conv2D(128, (3, 3), activation='relu'))\n",
        "model.add(MaxPooling2D((2, 2)))\n",
        "\n",
        "# 플래튼(Flatten) 레이어\n",
        "model.add(Flatten())\n",
        "\n",
        "# 완전 연결(Dense) 레이어\n",
        "model.add(Dense(64, activation='relu'))\n",
        "\n",
        "# 출력 레이어\n",
        "model.add(Dense(num_classes, activation='softmax'))\n",
        "\n",
        "# 모델 컴파일\n",
        "model.compile(optimizer='adam',\n",
        "              loss='binary_crossentropy',\n",
        "              metrics=['accuracy'])\n",
        "\n",
        "# 모델 요약 정보 출력\n",
        "model.summary()\n"
      ],
      "metadata": {
        "colab": {
          "base_uri": "https://localhost:8080/"
        },
        "id": "cVo2eFkV0jIL",
        "outputId": "63a1bf39-cd3d-45b0-8b9a-72143a1ca61c"
      },
      "execution_count": null,
      "outputs": [
        {
          "output_type": "stream",
          "name": "stdout",
          "text": [
            "Model: \"sequential_1\"\n",
            "_________________________________________________________________\n",
            " Layer (type)                Output Shape              Param #   \n",
            "=================================================================\n",
            " conv2d_3 (Conv2D)           (None, 638, 638, 32)      896       \n",
            "                                                                 \n",
            " max_pooling2d_3 (MaxPooling  (None, 319, 319, 32)     0         \n",
            " 2D)                                                             \n",
            "                                                                 \n",
            " conv2d_4 (Conv2D)           (None, 317, 317, 64)      18496     \n",
            "                                                                 \n",
            " max_pooling2d_4 (MaxPooling  (None, 158, 158, 64)     0         \n",
            " 2D)                                                             \n",
            "                                                                 \n",
            " conv2d_5 (Conv2D)           (None, 156, 156, 128)     73856     \n",
            "                                                                 \n",
            " max_pooling2d_5 (MaxPooling  (None, 78, 78, 128)      0         \n",
            " 2D)                                                             \n",
            "                                                                 \n",
            " flatten_1 (Flatten)         (None, 778752)            0         \n",
            "                                                                 \n",
            " dense_2 (Dense)             (None, 64)                49840192  \n",
            "                                                                 \n",
            " dense_3 (Dense)             (None, 2)                 130       \n",
            "                                                                 \n",
            "=================================================================\n",
            "Total params: 49,933,570\n",
            "Trainable params: 49,933,570\n",
            "Non-trainable params: 0\n",
            "_________________________________________________________________\n"
          ]
        }
      ]
    },
    {
      "cell_type": "markdown",
      "source": [
        "모델 훈련"
      ],
      "metadata": {
        "id": "s2fSt4ER9TGT"
      }
    },
    {
      "cell_type": "code",
      "source": [
        "history = model.fit(x, y, validation_split=0.2, epochs=100, verbose=1, batch_size=8)"
      ],
      "metadata": {
        "id": "pVmB5SaZ9SyU"
      },
      "execution_count": null,
      "outputs": []
    },
    {
      "cell_type": "code",
      "source": [
        "plt.plot(history.history['loss'], label='train_loss')\n",
        "plt.plot(history.history['val_loss'], label='val_loss')\n",
        "plt.legend()\n",
        "plt.show()"
      ],
      "metadata": {
        "colab": {
          "base_uri": "https://localhost:8080/",
          "height": 224
        },
        "id": "jFifyGVVE7jS",
        "outputId": "5efe26bd-26fd-430c-83a8-32ab849a10d0"
      },
      "execution_count": null,
      "outputs": [
        {
          "output_type": "error",
          "ename": "NameError",
          "evalue": "ignored",
          "traceback": [
            "\u001b[0;31m---------------------------------------------------------------------------\u001b[0m",
            "\u001b[0;31mNameError\u001b[0m                                 Traceback (most recent call last)",
            "\u001b[0;32m<ipython-input-56-e982bf3ba480>\u001b[0m in \u001b[0;36m<cell line: 1>\u001b[0;34m()\u001b[0m\n\u001b[0;32m----> 1\u001b[0;31m \u001b[0mplt\u001b[0m\u001b[0;34m.\u001b[0m\u001b[0mplot\u001b[0m\u001b[0;34m(\u001b[0m\u001b[0mhistory\u001b[0m\u001b[0;34m.\u001b[0m\u001b[0mhistory\u001b[0m\u001b[0;34m[\u001b[0m\u001b[0;34m'loss'\u001b[0m\u001b[0;34m]\u001b[0m\u001b[0;34m,\u001b[0m \u001b[0mlabel\u001b[0m\u001b[0;34m=\u001b[0m\u001b[0;34m'train_loss'\u001b[0m\u001b[0;34m)\u001b[0m\u001b[0;34m\u001b[0m\u001b[0;34m\u001b[0m\u001b[0m\n\u001b[0m\u001b[1;32m      2\u001b[0m \u001b[0mplt\u001b[0m\u001b[0;34m.\u001b[0m\u001b[0mplot\u001b[0m\u001b[0;34m(\u001b[0m\u001b[0mhistory\u001b[0m\u001b[0;34m.\u001b[0m\u001b[0mhistory\u001b[0m\u001b[0;34m[\u001b[0m\u001b[0;34m'val_loss'\u001b[0m\u001b[0;34m]\u001b[0m\u001b[0;34m,\u001b[0m \u001b[0mlabel\u001b[0m\u001b[0;34m=\u001b[0m\u001b[0;34m'val_loss'\u001b[0m\u001b[0;34m)\u001b[0m\u001b[0;34m\u001b[0m\u001b[0;34m\u001b[0m\u001b[0m\n\u001b[1;32m      3\u001b[0m \u001b[0mplt\u001b[0m\u001b[0;34m.\u001b[0m\u001b[0mlegend\u001b[0m\u001b[0;34m(\u001b[0m\u001b[0;34m)\u001b[0m\u001b[0;34m\u001b[0m\u001b[0;34m\u001b[0m\u001b[0m\n\u001b[1;32m      4\u001b[0m \u001b[0mplt\u001b[0m\u001b[0;34m.\u001b[0m\u001b[0mshow\u001b[0m\u001b[0;34m(\u001b[0m\u001b[0;34m)\u001b[0m\u001b[0;34m\u001b[0m\u001b[0;34m\u001b[0m\u001b[0m\n",
            "\u001b[0;31mNameError\u001b[0m: name 'history' is not defined"
          ]
        }
      ]
    },
    {
      "cell_type": "markdown",
      "source": [
        "데이터 수 증강"
      ],
      "metadata": {
        "id": "r8arTMOIcykt"
      }
    },
    {
      "cell_type": "code",
      "source": [
        "rotated_data = np.rot90(x)\n",
        "\n",
        "np.save('rotated_data.npy', rotated_data)\n",
        "np.save('rotated_data_label.npy', y)\n",
        "#(640, 253, 640, 3)\n",
        "\n",
        "flipped_data_lr = np.flip(x, axis=1)\n",
        "\n",
        "np.save('flipped_data_lr.npy', flipped_data_lr)\n",
        "np.save('flipped_data_lr_label.npy', y)\n",
        "\n",
        "flipped_data_ud = np.flip(x, axis=0)\n",
        "\n",
        "np.save('flipped_data_ud.npy', flipped_data_ud)\n",
        "np.save('flipped_data_ud_label.npy', y)\n",
        "\n",
        "mean = 0\n",
        "stddev = 0.05\n",
        "noise = np.random.normal(mean, stddev, x.shape)\n",
        "noisy_data = x + noise\n",
        "np.save('noisy_data.npy', noisy_data)\n",
        "np.save('noisy_data_label.npy', y)"
      ],
      "metadata": {
        "id": "b_PL0t30c0b0"
      },
      "execution_count": null,
      "outputs": []
    },
    {
      "cell_type": "markdown",
      "source": [
        "취합 후 시뮬"
      ],
      "metadata": {
        "id": "XNa4o2PPYh9D"
      }
    },
    {
      "cell_type": "code",
      "source": [
        "flipped_data_lr.head()"
      ],
      "metadata": {
        "colab": {
          "base_uri": "https://localhost:8080/",
          "height": 170
        },
        "id": "uXtlCjTfYhWr",
        "outputId": "943f12bf-0465-415c-d70f-abe38569329a"
      },
      "execution_count": null,
      "outputs": [
        {
          "output_type": "error",
          "ename": "AttributeError",
          "evalue": "ignored",
          "traceback": [
            "\u001b[0;31m---------------------------------------------------------------------------\u001b[0m",
            "\u001b[0;31mAttributeError\u001b[0m                            Traceback (most recent call last)",
            "\u001b[0;32m<ipython-input-76-776006a1933b>\u001b[0m in \u001b[0;36m<cell line: 1>\u001b[0;34m()\u001b[0m\n\u001b[0;32m----> 1\u001b[0;31m \u001b[0mflipped_data_lr\u001b[0m\u001b[0;34m.\u001b[0m\u001b[0mhead\u001b[0m\u001b[0;34m(\u001b[0m\u001b[0;34m)\u001b[0m\u001b[0;34m\u001b[0m\u001b[0;34m\u001b[0m\u001b[0m\n\u001b[0m",
            "\u001b[0;31mAttributeError\u001b[0m: 'numpy.ndarray' object has no attribute 'head'"
          ]
        }
      ]
    },
    {
      "cell_type": "code",
      "source": [
        "flipped_data_lr = np.load('flipped_data_lr.npy')\n",
        "flipped_data_ud = np.load('flipped_data_ud.npy')\n",
        "noisy_data = np.load('noisy_data.npy')\n",
        "flipped_data_lr_label = np.load('flipped_data_lr_label.npy')\n",
        "flipped_data_ud_label = np.load('flipped_data_ud_label.npy')\n",
        "noisy_data_label = np.load('noisy_data_label.npy')\n",
        "\n",
        "total_x = np.concatenate((x, flipped_data_lr, flipped_data_ud, noisy_data), axis=0)\n",
        "total_y = np.concatenate((y, flipped_data_lr_label, flipped_data_ud_label, noisy_data_label), axis=0)\n",
        "\n"
      ],
      "metadata": {
        "id": "aCSpRnFIZ0BY"
      },
      "execution_count": null,
      "outputs": []
    },
    {
      "cell_type": "code",
      "source": [],
      "metadata": {
        "id": "qBvUSYCUao7t"
      },
      "execution_count": null,
      "outputs": []
    }
  ]
}