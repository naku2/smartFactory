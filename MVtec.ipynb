{
  "nbformat": 4,
  "nbformat_minor": 0,
  "metadata": {
    "colab": {
      "provenance": [],
      "gpuType": "T4",
      "mount_file_id": "1Lp9DkKFTjAVZU_CH63AN85xxf7t9CLxy",
      "authorship_tag": "ABX9TyNsMr7258ftOjBmpGSXeJNf",
      "include_colab_link": true
    },
    "kernelspec": {
      "name": "python3",
      "display_name": "Python 3"
    },
    "language_info": {
      "name": "python"
    },
    "accelerator": "GPU"
  },
  "cells": [
    {
      "cell_type": "markdown",
      "metadata": {
        "id": "view-in-github",
        "colab_type": "text"
      },
      "source": [
        "<a href=\"https://colab.research.google.com/github/naku2/smartFactory/blob/main/MVtec.ipynb\" target=\"_parent\"><img src=\"https://colab.research.google.com/assets/colab-badge.svg\" alt=\"Open In Colab\"/></a>"
      ]
    },
    {
      "cell_type": "code",
      "execution_count": null,
      "metadata": {
        "id": "NQm2acMszydF"
      },
      "outputs": [],
      "source": [
        "%matplotlib inline\n",
        "import numpy as np\n",
        "import pandas as pd\n",
        "import matplotlib.pyplot as plt\n",
        "import tensorflow as tf\n",
        "import os\n",
        "import math\n",
        "from tensorflow import keras\n",
        "from keras import optimizers\n",
        "from keras.utils import plot_model\n",
        "from keras.models import Sequential\n",
        "from keras.layers import Input, Conv2D, Dense, Flatten, MaxPooling2D\n",
        "from sklearn.metrics import mean_squared_error\n",
        "from sklearn.model_selection import train_test_split\n",
        "from PIL import Image"
      ]
    },
    {
      "cell_type": "markdown",
      "source": [
        "### 데이터 불러오기"
      ],
      "metadata": {
        "id": "68UDtTLT02mx"
      }
    },
    {
      "cell_type": "code",
      "source": [
        "input_folder = '/content/drive/MyDrive/transistor/train/good'\n",
        "output_folder = '/content/drive/MyDrive/transistor/train/good_scaled'\n",
        "\n",
        "image_files = os.listdir(input_folder)\n",
        "\n",
        "for image_file in image_files:\n",
        "  image_path = os.path.join(input_folder, image_file)\n",
        "\n",
        "  image = Image.open(image_path)\n",
        "\n",
        "  resized_image = image.resize((224, 224))\n",
        "\n",
        "  image_array = np.array(resized_image)\n",
        "\n",
        "  scaled_image_array = image_array / 255.0\n",
        "\n",
        "  output_path = os.path.join(output_folder, image_file)\n",
        "\n",
        "  np.save(output_path, scaled_image_array)\n",
        "\n",
        "  image.close()"
      ],
      "metadata": {
        "id": "-cwlkkx802IF"
      },
      "execution_count": null,
      "outputs": []
    },
    {
      "cell_type": "code",
      "source": [
        "output_files = os.listdir(output_folder)"
      ],
      "metadata": {
        "id": "TtvoFet4CuHk"
      },
      "execution_count": null,
      "outputs": []
    },
    {
      "cell_type": "code",
      "source": [
        "scaled_image_array.dtype"
      ],
      "metadata": {
        "colab": {
          "base_uri": "https://localhost:8080/"
        },
        "id": "bzq4SwIN_DIC",
        "outputId": "f1433f40-1e48-4cce-85a8-87b4e342183e"
      },
      "execution_count": null,
      "outputs": [
        {
          "output_type": "execute_result",
          "data": {
            "text/plain": [
              "dtype('float64')"
            ]
          },
          "metadata": {},
          "execution_count": 5
        }
      ]
    },
    {
      "cell_type": "markdown",
      "source": [
        "이미지 라벨링"
      ],
      "metadata": {
        "id": "7hgd5WdlPQQQ"
      }
    },
    {
      "cell_type": "code",
      "source": [
        "for output_file in output_files:\n",
        "  print(output_file)"
      ],
      "metadata": {
        "colab": {
          "base_uri": "https://localhost:8080/"
        },
        "id": "J0f8OMUHDJWq",
        "outputId": "a1142d30-3bad-4a27-dcfd-244586b459f8"
      },
      "execution_count": null,
      "outputs": [
        {
          "output_type": "stream",
          "name": "stdout",
          "text": [
            "010.png.npy\n",
            "033.png.npy\n",
            "002.png.npy\n",
            "020.png.npy\n",
            "034.png.npy\n",
            "023.png.npy\n",
            "006.png.npy\n",
            "031.png.npy\n",
            "014.png.npy\n",
            "028.png.npy\n",
            "017.png.npy\n",
            "004.png.npy\n",
            "019.png.npy\n",
            "005.png.npy\n",
            "032.png.npy\n",
            "008.png.npy\n",
            "035.png.npy\n",
            "029.png.npy\n",
            "011.png.npy\n",
            "036.png.npy\n",
            "025.png.npy\n",
            "021.png.npy\n",
            "003.png.npy\n",
            "000.png.npy\n",
            "001.png.npy\n",
            "016.png.npy\n",
            "038.png.npy\n",
            "039.png.npy\n",
            "026.png.npy\n",
            "037.png.npy\n",
            "015.png.npy\n",
            "009.png.npy\n",
            "022.png.npy\n",
            "024.png.npy\n",
            "018.png.npy\n",
            "013.png.npy\n",
            "027.png.npy\n",
            "030.png.npy\n",
            "007.png.npy\n",
            "012.png.npy\n",
            "055.png.npy\n",
            "075.png.npy\n",
            "060.png.npy\n",
            "099.png.npy\n",
            "071.png.npy\n",
            "083.png.npy\n",
            "062.png.npy\n",
            "079.png.npy\n",
            "053.png.npy\n",
            "105.png.npy\n",
            "111.png.npy\n",
            "089.png.npy\n",
            "051.png.npy\n",
            "047.png.npy\n",
            "091.png.npy\n",
            "101.png.npy\n",
            "104.png.npy\n",
            "063.png.npy\n",
            "057.png.npy\n",
            "068.png.npy\n",
            "056.png.npy\n",
            "084.png.npy\n",
            "058.png.npy\n",
            "078.png.npy\n",
            "113.png.npy\n",
            "082.png.npy\n",
            "043.png.npy\n",
            "102.png.npy\n",
            "112.png.npy\n",
            "054.png.npy\n",
            "065.png.npy\n",
            "103.png.npy\n",
            "059.png.npy\n",
            "052.png.npy\n",
            "085.png.npy\n",
            "086.png.npy\n",
            "110.png.npy\n",
            "046.png.npy\n",
            "092.png.npy\n",
            "044.png.npy\n",
            "088.png.npy\n",
            "080.png.npy\n",
            "050.png.npy\n",
            "109.png.npy\n",
            "069.png.npy\n",
            "081.png.npy\n",
            "087.png.npy\n",
            "074.png.npy\n",
            "072.png.npy\n",
            "041.png.npy\n",
            "106.png.npy\n",
            "076.png.npy\n",
            "095.png.npy\n",
            "061.png.npy\n",
            "077.png.npy\n",
            "070.png.npy\n",
            "064.png.npy\n",
            "096.png.npy\n",
            "093.png.npy\n",
            "049.png.npy\n",
            "107.png.npy\n",
            "073.png.npy\n",
            "097.png.npy\n",
            "067.png.npy\n",
            "040.png.npy\n",
            "048.png.npy\n",
            "066.png.npy\n",
            "098.png.npy\n",
            "100.png.npy\n",
            "045.png.npy\n",
            "090.png.npy\n",
            "042.png.npy\n",
            "108.png.npy\n",
            "094.png.npy\n",
            "194.png.npy\n",
            "122.png.npy\n",
            "141.png.npy\n",
            "176.png.npy\n",
            "192.png.npy\n",
            "121.png.npy\n",
            "142.png.npy\n",
            "165.png.npy\n",
            "164.png.npy\n",
            "116.png.npy\n",
            "172.png.npy\n",
            "126.png.npy\n",
            "145.png.npy\n",
            "166.png.npy\n",
            "159.png.npy\n",
            "154.png.npy\n",
            "138.png.npy\n",
            "171.png.npy\n",
            "152.png.npy\n",
            "117.png.npy\n",
            "183.png.npy\n",
            "162.png.npy\n",
            "135.png.npy\n",
            "185.png.npy\n",
            "114.png.npy\n",
            "151.png.npy\n",
            "149.png.npy\n",
            "129.png.npy\n",
            "179.png.npy\n",
            "157.png.npy\n",
            "119.png.npy\n",
            "124.png.npy\n",
            "177.png.npy\n",
            "128.png.npy\n",
            "147.png.npy\n",
            "193.png.npy\n",
            "195.png.npy\n",
            "146.png.npy\n",
            "120.png.npy\n",
            "115.png.npy\n",
            "148.png.npy\n",
            "191.png.npy\n",
            "168.png.npy\n",
            "127.png.npy\n",
            "161.png.npy\n",
            "140.png.npy\n",
            "130.png.npy\n",
            "188.png.npy\n",
            "169.png.npy\n",
            "180.png.npy\n",
            "167.png.npy\n",
            "174.png.npy\n",
            "125.png.npy\n",
            "175.png.npy\n",
            "150.png.npy\n",
            "132.png.npy\n",
            "144.png.npy\n",
            "186.png.npy\n",
            "118.png.npy\n",
            "190.png.npy\n",
            "155.png.npy\n",
            "182.png.npy\n",
            "123.png.npy\n",
            "189.png.npy\n",
            "153.png.npy\n",
            "131.png.npy\n",
            "139.png.npy\n",
            "160.png.npy\n",
            "170.png.npy\n",
            "143.png.npy\n",
            "187.png.npy\n",
            "173.png.npy\n",
            "163.png.npy\n",
            "158.png.npy\n",
            "133.png.npy\n",
            "137.png.npy\n",
            "178.png.npy\n",
            "136.png.npy\n",
            "181.png.npy\n",
            "184.png.npy\n",
            "156.png.npy\n",
            "134.png.npy\n",
            "201.png.npy\n",
            "206.png.npy\n",
            "209.png.npy\n",
            "205.png.npy\n",
            "207.png.npy\n",
            "196.png.npy\n",
            "198.png.npy\n",
            "204.png.npy\n",
            "197.png.npy\n",
            "212.png.npy\n",
            "202.png.npy\n",
            "199.png.npy\n",
            "210.png.npy\n",
            "211.png.npy\n",
            "200.png.npy\n",
            "203.png.npy\n",
            "208.png.npy\n"
          ]
        }
      ]
    },
    {
      "cell_type": "code",
      "source": [
        "import csv\n",
        "\n",
        "label_file = \"label_files.csv\"\n",
        "\n",
        "fieldnames = [\"filename\", \"label\"]\n",
        "\n",
        "label_data = []\n",
        "\n",
        "for output_file in output_files:\n",
        "  label_data.append({\"filename\": output_file, \"label\": int(0)}) #0 = good\n",
        "\n",
        "with open(label_file, 'w', newline='') as f:\n",
        "  writer = csv.DictWriter(f, fieldnames=fieldnames)\n",
        "  writer.writeheader()\n",
        "  writer.writerows(label_data)"
      ],
      "metadata": {
        "id": "JPvpDdDKCPt1"
      },
      "execution_count": null,
      "outputs": []
    },
    {
      "cell_type": "code",
      "source": [
        "#무조건 csv로 만들어야 편하고 좋구나"
      ],
      "metadata": {
        "id": "YTbckxmiFKBm"
      },
      "execution_count": null,
      "outputs": []
    },
    {
      "cell_type": "code",
      "source": [
        "print(label_data)"
      ],
      "metadata": {
        "colab": {
          "base_uri": "https://localhost:8080/"
        },
        "id": "MzDlOMB5KhFV",
        "outputId": "9cdcf98a-ca53-4a15-8fa1-42fd1fe4af1f"
      },
      "execution_count": null,
      "outputs": [
        {
          "output_type": "stream",
          "name": "stdout",
          "text": [
            "[{'filename': '010.png.npy', 'label': 0}, {'filename': '033.png.npy', 'label': 0}, {'filename': '002.png.npy', 'label': 0}, {'filename': '020.png.npy', 'label': 0}, {'filename': '034.png.npy', 'label': 0}, {'filename': '023.png.npy', 'label': 0}, {'filename': '006.png.npy', 'label': 0}, {'filename': '031.png.npy', 'label': 0}, {'filename': '014.png.npy', 'label': 0}, {'filename': '028.png.npy', 'label': 0}, {'filename': '017.png.npy', 'label': 0}, {'filename': '004.png.npy', 'label': 0}, {'filename': '019.png.npy', 'label': 0}, {'filename': '005.png.npy', 'label': 0}, {'filename': '032.png.npy', 'label': 0}, {'filename': '008.png.npy', 'label': 0}, {'filename': '035.png.npy', 'label': 0}, {'filename': '029.png.npy', 'label': 0}, {'filename': '011.png.npy', 'label': 0}, {'filename': '036.png.npy', 'label': 0}, {'filename': '025.png.npy', 'label': 0}, {'filename': '021.png.npy', 'label': 0}, {'filename': '003.png.npy', 'label': 0}, {'filename': '000.png.npy', 'label': 0}, {'filename': '001.png.npy', 'label': 0}, {'filename': '016.png.npy', 'label': 0}, {'filename': '038.png.npy', 'label': 0}, {'filename': '039.png.npy', 'label': 0}, {'filename': '026.png.npy', 'label': 0}, {'filename': '037.png.npy', 'label': 0}, {'filename': '015.png.npy', 'label': 0}, {'filename': '009.png.npy', 'label': 0}, {'filename': '022.png.npy', 'label': 0}, {'filename': '024.png.npy', 'label': 0}, {'filename': '018.png.npy', 'label': 0}, {'filename': '013.png.npy', 'label': 0}, {'filename': '027.png.npy', 'label': 0}, {'filename': '030.png.npy', 'label': 0}, {'filename': '007.png.npy', 'label': 0}, {'filename': '012.png.npy', 'label': 0}, {'filename': '055.png.npy', 'label': 0}, {'filename': '075.png.npy', 'label': 0}, {'filename': '060.png.npy', 'label': 0}, {'filename': '099.png.npy', 'label': 0}, {'filename': '071.png.npy', 'label': 0}, {'filename': '083.png.npy', 'label': 0}, {'filename': '062.png.npy', 'label': 0}, {'filename': '079.png.npy', 'label': 0}, {'filename': '053.png.npy', 'label': 0}, {'filename': '105.png.npy', 'label': 0}, {'filename': '111.png.npy', 'label': 0}, {'filename': '089.png.npy', 'label': 0}, {'filename': '051.png.npy', 'label': 0}, {'filename': '047.png.npy', 'label': 0}, {'filename': '091.png.npy', 'label': 0}, {'filename': '101.png.npy', 'label': 0}, {'filename': '104.png.npy', 'label': 0}, {'filename': '063.png.npy', 'label': 0}, {'filename': '057.png.npy', 'label': 0}, {'filename': '068.png.npy', 'label': 0}, {'filename': '056.png.npy', 'label': 0}, {'filename': '084.png.npy', 'label': 0}, {'filename': '058.png.npy', 'label': 0}, {'filename': '078.png.npy', 'label': 0}, {'filename': '113.png.npy', 'label': 0}, {'filename': '082.png.npy', 'label': 0}, {'filename': '043.png.npy', 'label': 0}, {'filename': '102.png.npy', 'label': 0}, {'filename': '112.png.npy', 'label': 0}, {'filename': '054.png.npy', 'label': 0}, {'filename': '065.png.npy', 'label': 0}, {'filename': '103.png.npy', 'label': 0}, {'filename': '059.png.npy', 'label': 0}, {'filename': '052.png.npy', 'label': 0}, {'filename': '085.png.npy', 'label': 0}, {'filename': '086.png.npy', 'label': 0}, {'filename': '110.png.npy', 'label': 0}, {'filename': '046.png.npy', 'label': 0}, {'filename': '092.png.npy', 'label': 0}, {'filename': '044.png.npy', 'label': 0}, {'filename': '088.png.npy', 'label': 0}, {'filename': '080.png.npy', 'label': 0}, {'filename': '050.png.npy', 'label': 0}, {'filename': '109.png.npy', 'label': 0}, {'filename': '069.png.npy', 'label': 0}, {'filename': '081.png.npy', 'label': 0}, {'filename': '087.png.npy', 'label': 0}, {'filename': '074.png.npy', 'label': 0}, {'filename': '072.png.npy', 'label': 0}, {'filename': '041.png.npy', 'label': 0}, {'filename': '106.png.npy', 'label': 0}, {'filename': '076.png.npy', 'label': 0}, {'filename': '095.png.npy', 'label': 0}, {'filename': '061.png.npy', 'label': 0}, {'filename': '077.png.npy', 'label': 0}, {'filename': '070.png.npy', 'label': 0}, {'filename': '064.png.npy', 'label': 0}, {'filename': '096.png.npy', 'label': 0}, {'filename': '093.png.npy', 'label': 0}, {'filename': '049.png.npy', 'label': 0}, {'filename': '107.png.npy', 'label': 0}, {'filename': '073.png.npy', 'label': 0}, {'filename': '097.png.npy', 'label': 0}, {'filename': '067.png.npy', 'label': 0}, {'filename': '040.png.npy', 'label': 0}, {'filename': '048.png.npy', 'label': 0}, {'filename': '066.png.npy', 'label': 0}, {'filename': '098.png.npy', 'label': 0}, {'filename': '100.png.npy', 'label': 0}, {'filename': '045.png.npy', 'label': 0}, {'filename': '090.png.npy', 'label': 0}, {'filename': '042.png.npy', 'label': 0}, {'filename': '108.png.npy', 'label': 0}, {'filename': '094.png.npy', 'label': 0}, {'filename': '194.png.npy', 'label': 0}, {'filename': '122.png.npy', 'label': 0}, {'filename': '141.png.npy', 'label': 0}, {'filename': '176.png.npy', 'label': 0}, {'filename': '192.png.npy', 'label': 0}, {'filename': '121.png.npy', 'label': 0}, {'filename': '142.png.npy', 'label': 0}, {'filename': '165.png.npy', 'label': 0}, {'filename': '164.png.npy', 'label': 0}, {'filename': '116.png.npy', 'label': 0}, {'filename': '172.png.npy', 'label': 0}, {'filename': '126.png.npy', 'label': 0}, {'filename': '145.png.npy', 'label': 0}, {'filename': '166.png.npy', 'label': 0}, {'filename': '159.png.npy', 'label': 0}, {'filename': '154.png.npy', 'label': 0}, {'filename': '138.png.npy', 'label': 0}, {'filename': '171.png.npy', 'label': 0}, {'filename': '152.png.npy', 'label': 0}, {'filename': '117.png.npy', 'label': 0}, {'filename': '183.png.npy', 'label': 0}, {'filename': '162.png.npy', 'label': 0}, {'filename': '135.png.npy', 'label': 0}, {'filename': '185.png.npy', 'label': 0}, {'filename': '114.png.npy', 'label': 0}, {'filename': '151.png.npy', 'label': 0}, {'filename': '149.png.npy', 'label': 0}, {'filename': '129.png.npy', 'label': 0}, {'filename': '179.png.npy', 'label': 0}, {'filename': '157.png.npy', 'label': 0}, {'filename': '119.png.npy', 'label': 0}, {'filename': '124.png.npy', 'label': 0}, {'filename': '177.png.npy', 'label': 0}, {'filename': '128.png.npy', 'label': 0}, {'filename': '147.png.npy', 'label': 0}, {'filename': '193.png.npy', 'label': 0}, {'filename': '195.png.npy', 'label': 0}, {'filename': '146.png.npy', 'label': 0}, {'filename': '120.png.npy', 'label': 0}, {'filename': '115.png.npy', 'label': 0}, {'filename': '148.png.npy', 'label': 0}, {'filename': '191.png.npy', 'label': 0}, {'filename': '168.png.npy', 'label': 0}, {'filename': '127.png.npy', 'label': 0}, {'filename': '161.png.npy', 'label': 0}, {'filename': '140.png.npy', 'label': 0}, {'filename': '130.png.npy', 'label': 0}, {'filename': '188.png.npy', 'label': 0}, {'filename': '169.png.npy', 'label': 0}, {'filename': '180.png.npy', 'label': 0}, {'filename': '167.png.npy', 'label': 0}, {'filename': '174.png.npy', 'label': 0}, {'filename': '125.png.npy', 'label': 0}, {'filename': '175.png.npy', 'label': 0}, {'filename': '150.png.npy', 'label': 0}, {'filename': '132.png.npy', 'label': 0}, {'filename': '144.png.npy', 'label': 0}, {'filename': '186.png.npy', 'label': 0}, {'filename': '118.png.npy', 'label': 0}, {'filename': '190.png.npy', 'label': 0}, {'filename': '155.png.npy', 'label': 0}, {'filename': '182.png.npy', 'label': 0}, {'filename': '123.png.npy', 'label': 0}, {'filename': '189.png.npy', 'label': 0}, {'filename': '153.png.npy', 'label': 0}, {'filename': '131.png.npy', 'label': 0}, {'filename': '139.png.npy', 'label': 0}, {'filename': '160.png.npy', 'label': 0}, {'filename': '170.png.npy', 'label': 0}, {'filename': '143.png.npy', 'label': 0}, {'filename': '187.png.npy', 'label': 0}, {'filename': '173.png.npy', 'label': 0}, {'filename': '163.png.npy', 'label': 0}, {'filename': '158.png.npy', 'label': 0}, {'filename': '133.png.npy', 'label': 0}, {'filename': '137.png.npy', 'label': 0}, {'filename': '178.png.npy', 'label': 0}, {'filename': '136.png.npy', 'label': 0}, {'filename': '181.png.npy', 'label': 0}, {'filename': '184.png.npy', 'label': 0}, {'filename': '156.png.npy', 'label': 0}, {'filename': '134.png.npy', 'label': 0}, {'filename': '201.png.npy', 'label': 0}, {'filename': '206.png.npy', 'label': 0}, {'filename': '209.png.npy', 'label': 0}, {'filename': '205.png.npy', 'label': 0}, {'filename': '207.png.npy', 'label': 0}, {'filename': '196.png.npy', 'label': 0}, {'filename': '198.png.npy', 'label': 0}, {'filename': '204.png.npy', 'label': 0}, {'filename': '197.png.npy', 'label': 0}, {'filename': '212.png.npy', 'label': 0}, {'filename': '202.png.npy', 'label': 0}, {'filename': '199.png.npy', 'label': 0}, {'filename': '210.png.npy', 'label': 0}, {'filename': '211.png.npy', 'label': 0}, {'filename': '200.png.npy', 'label': 0}, {'filename': '203.png.npy', 'label': 0}, {'filename': '208.png.npy', 'label': 0}]\n"
          ]
        }
      ]
    },
    {
      "cell_type": "markdown",
      "source": [
        "bad image 파일명 변경"
      ],
      "metadata": {
        "id": "seVhrliUt6g-"
      }
    },
    {
      "cell_type": "code",
      "source": [
        "folder_path = '/content/drive/MyDrive/transistor/test/bent_lead'\n",
        "extension = '.png'\n",
        "prefix = 'bent_lead_'\n",
        "\n",
        "for i, filename in enumerate(os.listdir(folder_path)):\n",
        "  new_filename = f'{prefix}{i+1:03d}{extension}'\n",
        "\n",
        "  old_path = os.path.join(folder_path, filename)\n",
        "  new_path = os.path.join(folder_path, new_filename)\n",
        "\n",
        "  os.rename(old_path, new_path)\n",
        "\n",
        "\n",
        "folder_path = '/content/drive/MyDrive/transistor/test/cut_lead'\n",
        "extension = '.png'\n",
        "prefix = 'cut_lead_'\n",
        "\n",
        "for i, filename in enumerate(os.listdir(folder_path)):\n",
        "  new_filename = f'{prefix}{i+1:03d}{extension}'\n",
        "\n",
        "  old_path = os.path.join(folder_path, filename)\n",
        "  new_path = os.path.join(folder_path, new_filename)\n",
        "\n",
        "  os.rename(old_path, new_path)\n",
        "\n",
        "\n",
        "folder_path = '/content/drive/MyDrive/transistor/test/damaged_case'\n",
        "extension = '.png'\n",
        "prefix = 'damaged_'\n",
        "\n",
        "for i, filename in enumerate(os.listdir(folder_path)):\n",
        "  new_filename = f'{prefix}{i+1:03d}{extension}'\n",
        "\n",
        "  old_path = os.path.join(folder_path, filename)\n",
        "  new_path = os.path.join(folder_path, new_filename)\n",
        "\n",
        "  os.rename(old_path, new_path)\n",
        "\n",
        "\n",
        "folder_path = '/content/drive/MyDrive/transistor/test/misplaced'\n",
        "extension = '.png'\n",
        "prefix = 'misplaced_'\n",
        "\n",
        "for i, filename in enumerate(os.listdir(folder_path)):\n",
        "  new_filename = f'{prefix}{i+1:03d}{extension}'\n",
        "\n",
        "  old_path = os.path.join(folder_path, filename)\n",
        "  new_path = os.path.join(folder_path, new_filename)\n",
        "\n",
        "  os.rename(old_path, new_path)"
      ],
      "metadata": {
        "id": "XsiVUHTDrS0T"
      },
      "execution_count": null,
      "outputs": []
    },
    {
      "cell_type": "markdown",
      "source": [
        "###bad image 전처리 후 라벨링"
      ],
      "metadata": {
        "id": "_fq-gl0gsjGl"
      }
    },
    {
      "cell_type": "code",
      "source": [
        "input_folder = '/content/drive/MyDrive/transistor/test/bent_lead'\n",
        "output_folder = '/content/drive/MyDrive/transistor/train/bent_lead_scaled'\n",
        "\n",
        "image_files = os.listdir(input_folder)\n",
        "\n",
        "for image_file in image_files:\n",
        "  image_path = os.path.join(input_folder, image_file)\n",
        "\n",
        "  image = Image.open(image_path)\n",
        "\n",
        "  resized_image = image.resize((224, 224))\n",
        "\n",
        "  image_array = np.array(resized_image)\n",
        "\n",
        "  scaled_image_array = image_array / 255.0\n",
        "\n",
        "  output_path = os.path.join(output_folder, image_file)\n",
        "\n",
        "  np.save(output_path, scaled_image_array)\n",
        "\n",
        "  image.close()"
      ],
      "metadata": {
        "id": "CIfCyPPhsigM"
      },
      "execution_count": null,
      "outputs": []
    },
    {
      "cell_type": "code",
      "source": [
        "input_folder = '/content/drive/MyDrive/transistor/test/cut_lead'\n",
        "output_folder = '/content/drive/MyDrive/transistor/train/cut_lead_scaled'\n",
        "\n",
        "image_files = os.listdir(input_folder)\n",
        "\n",
        "for image_file in image_files:\n",
        "  image_path = os.path.join(input_folder, image_file)\n",
        "\n",
        "  image = Image.open(image_path)\n",
        "\n",
        "  resized_image = image.resize((224, 224))\n",
        "\n",
        "  image_array = np.array(resized_image)\n",
        "\n",
        "  scaled_image_array = image_array / 255.0\n",
        "\n",
        "  output_path = os.path.join(output_folder, image_file)\n",
        "\n",
        "  np.save(output_path, scaled_image_array)\n",
        "\n",
        "  image.close()"
      ],
      "metadata": {
        "id": "SyXvqW8OuZZf"
      },
      "execution_count": null,
      "outputs": []
    },
    {
      "cell_type": "code",
      "source": [
        "input_folder = '/content/drive/MyDrive/transistor/test/damaged_case'\n",
        "output_folder = '/content/drive/MyDrive/transistor/train/damaged_case_scaled'\n",
        "\n",
        "image_files = os.listdir(input_folder)\n",
        "\n",
        "for image_file in image_files:\n",
        "  image_path = os.path.join(input_folder, image_file)\n",
        "\n",
        "  image = Image.open(image_path)\n",
        "\n",
        "  resized_image = image.resize((224, 224))\n",
        "\n",
        "  image_array = np.array(resized_image)\n",
        "\n",
        "  scaled_image_array = image_array / 255.0\n",
        "\n",
        "  output_path = os.path.join(output_folder, image_file)\n",
        "\n",
        "  np.save(output_path, scaled_image_array)\n",
        "\n",
        "  image.close()"
      ],
      "metadata": {
        "id": "6MMSTR17uaYl"
      },
      "execution_count": null,
      "outputs": []
    },
    {
      "cell_type": "code",
      "source": [
        "input_folder = '/content/drive/MyDrive/transistor/test/misplaced'\n",
        "output_folder = '/content/drive/MyDrive/transistor/train/misplaced_scaled'\n",
        "\n",
        "image_files = os.listdir(input_folder)\n",
        "\n",
        "for image_file in image_files:\n",
        "  image_path = os.path.join(input_folder, image_file)\n",
        "\n",
        "  image = Image.open(image_path)\n",
        "\n",
        "  resized_image = image.resize((224, 224))\n",
        "\n",
        "  image_array = np.array(resized_image)\n",
        "\n",
        "  scaled_image_array = image_array / 255.0\n",
        "\n",
        "  output_path = os.path.join(output_folder, image_file)\n",
        "\n",
        "  np.save(output_path, scaled_image_array)\n",
        "\n",
        "  image.close()"
      ],
      "metadata": {
        "id": "Fbhg6uqLua-4"
      },
      "execution_count": null,
      "outputs": []
    },
    {
      "cell_type": "markdown",
      "source": [
        "bad image => bad_scaled로 취합"
      ],
      "metadata": {
        "id": "8_7vovXPwo__"
      }
    },
    {
      "cell_type": "code",
      "source": [
        "import shutil\n",
        "\n",
        "source_folder = '/content/drive/MyDrive/transistor/train/bent_lead_scaled'\n",
        "destination_folder = '/content/drive/MyDrive/transistor/train/bad_scaled'\n",
        "\n",
        "for filename in os.listdir(source_folder):\n",
        "  source_path = os.path.join(source_folder, filename)\n",
        "  destination_path = os.path.join(destination_folder, filename)\n",
        "  shutil.copy(source_path, destination_path)"
      ],
      "metadata": {
        "id": "gp0OoL2zwidu"
      },
      "execution_count": null,
      "outputs": []
    },
    {
      "cell_type": "code",
      "source": [
        "source_folder = '/content/drive/MyDrive/transistor/train/cut_lead_scaled'\n",
        "\n",
        "for filename in os.listdir(source_folder):\n",
        "  source_path = os.path.join(source_folder, filename)\n",
        "  destination_path = os.path.join(destination_folder, filename)\n",
        "  shutil.copy(source_path, destination_path)\n",
        "\n",
        "source_folder = '/content/drive/MyDrive/transistor/train/damaged_case_scaled'\n",
        "\n",
        "for filename in os.listdir(source_folder):\n",
        "  source_path = os.path.join(source_folder, filename)\n",
        "  destination_path = os.path.join(destination_folder, filename)\n",
        "  shutil.copy(source_path, destination_path)\n",
        "\n",
        "source_folder = '/content/drive/MyDrive/transistor/train/misplaced_scaled'\n",
        "\n",
        "for filename in os.listdir(source_folder):\n",
        "  source_path = os.path.join(source_folder, filename)\n",
        "  destination_path = os.path.join(destination_folder, filename)\n",
        "  shutil.copy(source_path, destination_path)"
      ],
      "metadata": {
        "id": "eNzMTTrmxOf2"
      },
      "execution_count": null,
      "outputs": []
    },
    {
      "cell_type": "markdown",
      "source": [
        "bad image labelling"
      ],
      "metadata": {
        "id": "ac0KUA5-vplT"
      }
    },
    {
      "cell_type": "code",
      "source": [
        "label_file"
      ],
      "metadata": {
        "colab": {
          "base_uri": "https://localhost:8080/"
        },
        "id": "tSBvCrLuzTzn",
        "outputId": "69734753-b806-4e23-8a7c-794b124a4661"
      },
      "execution_count": null,
      "outputs": [
        {
          "output_type": "execute_result",
          "data": {
            "text/plain": [
              "'label_files.csv'"
            ],
            "application/vnd.google.colaboratory.intrinsic+json": {
              "type": "string"
            }
          },
          "metadata": {},
          "execution_count": 17
        }
      ]
    },
    {
      "cell_type": "code",
      "source": [
        "label_data"
      ],
      "metadata": {
        "colab": {
          "base_uri": "https://localhost:8080/"
        },
        "id": "sW5BuPQYSCJe",
        "outputId": "c34d7e29-6b81-4a3f-a7ee-ec2727795fac"
      },
      "execution_count": null,
      "outputs": [
        {
          "output_type": "execute_result",
          "data": {
            "text/plain": [
              "[{'filename': '010.png.npy', 'label': 0},\n",
              " {'filename': '033.png.npy', 'label': 0},\n",
              " {'filename': '002.png.npy', 'label': 0},\n",
              " {'filename': '020.png.npy', 'label': 0},\n",
              " {'filename': '034.png.npy', 'label': 0},\n",
              " {'filename': '023.png.npy', 'label': 0},\n",
              " {'filename': '006.png.npy', 'label': 0},\n",
              " {'filename': '031.png.npy', 'label': 0},\n",
              " {'filename': '014.png.npy', 'label': 0},\n",
              " {'filename': '028.png.npy', 'label': 0},\n",
              " {'filename': '017.png.npy', 'label': 0},\n",
              " {'filename': '004.png.npy', 'label': 0},\n",
              " {'filename': '019.png.npy', 'label': 0},\n",
              " {'filename': '005.png.npy', 'label': 0},\n",
              " {'filename': '032.png.npy', 'label': 0},\n",
              " {'filename': '008.png.npy', 'label': 0},\n",
              " {'filename': '035.png.npy', 'label': 0},\n",
              " {'filename': '029.png.npy', 'label': 0},\n",
              " {'filename': '011.png.npy', 'label': 0},\n",
              " {'filename': '036.png.npy', 'label': 0},\n",
              " {'filename': '025.png.npy', 'label': 0},\n",
              " {'filename': '021.png.npy', 'label': 0},\n",
              " {'filename': '003.png.npy', 'label': 0},\n",
              " {'filename': '000.png.npy', 'label': 0},\n",
              " {'filename': '001.png.npy', 'label': 0},\n",
              " {'filename': '016.png.npy', 'label': 0},\n",
              " {'filename': '038.png.npy', 'label': 0},\n",
              " {'filename': '039.png.npy', 'label': 0},\n",
              " {'filename': '026.png.npy', 'label': 0},\n",
              " {'filename': '037.png.npy', 'label': 0},\n",
              " {'filename': '015.png.npy', 'label': 0},\n",
              " {'filename': '009.png.npy', 'label': 0},\n",
              " {'filename': '022.png.npy', 'label': 0},\n",
              " {'filename': '024.png.npy', 'label': 0},\n",
              " {'filename': '018.png.npy', 'label': 0},\n",
              " {'filename': '013.png.npy', 'label': 0},\n",
              " {'filename': '027.png.npy', 'label': 0},\n",
              " {'filename': '030.png.npy', 'label': 0},\n",
              " {'filename': '007.png.npy', 'label': 0},\n",
              " {'filename': '012.png.npy', 'label': 0},\n",
              " {'filename': '055.png.npy', 'label': 0},\n",
              " {'filename': '075.png.npy', 'label': 0},\n",
              " {'filename': '060.png.npy', 'label': 0},\n",
              " {'filename': '099.png.npy', 'label': 0},\n",
              " {'filename': '071.png.npy', 'label': 0},\n",
              " {'filename': '083.png.npy', 'label': 0},\n",
              " {'filename': '062.png.npy', 'label': 0},\n",
              " {'filename': '079.png.npy', 'label': 0},\n",
              " {'filename': '053.png.npy', 'label': 0},\n",
              " {'filename': '105.png.npy', 'label': 0},\n",
              " {'filename': '111.png.npy', 'label': 0},\n",
              " {'filename': '089.png.npy', 'label': 0},\n",
              " {'filename': '051.png.npy', 'label': 0},\n",
              " {'filename': '047.png.npy', 'label': 0},\n",
              " {'filename': '091.png.npy', 'label': 0},\n",
              " {'filename': '101.png.npy', 'label': 0},\n",
              " {'filename': '104.png.npy', 'label': 0},\n",
              " {'filename': '063.png.npy', 'label': 0},\n",
              " {'filename': '057.png.npy', 'label': 0},\n",
              " {'filename': '068.png.npy', 'label': 0},\n",
              " {'filename': '056.png.npy', 'label': 0},\n",
              " {'filename': '084.png.npy', 'label': 0},\n",
              " {'filename': '058.png.npy', 'label': 0},\n",
              " {'filename': '078.png.npy', 'label': 0},\n",
              " {'filename': '113.png.npy', 'label': 0},\n",
              " {'filename': '082.png.npy', 'label': 0},\n",
              " {'filename': '043.png.npy', 'label': 0},\n",
              " {'filename': '102.png.npy', 'label': 0},\n",
              " {'filename': '112.png.npy', 'label': 0},\n",
              " {'filename': '054.png.npy', 'label': 0},\n",
              " {'filename': '065.png.npy', 'label': 0},\n",
              " {'filename': '103.png.npy', 'label': 0},\n",
              " {'filename': '059.png.npy', 'label': 0},\n",
              " {'filename': '052.png.npy', 'label': 0},\n",
              " {'filename': '085.png.npy', 'label': 0},\n",
              " {'filename': '086.png.npy', 'label': 0},\n",
              " {'filename': '110.png.npy', 'label': 0},\n",
              " {'filename': '046.png.npy', 'label': 0},\n",
              " {'filename': '092.png.npy', 'label': 0},\n",
              " {'filename': '044.png.npy', 'label': 0},\n",
              " {'filename': '088.png.npy', 'label': 0},\n",
              " {'filename': '080.png.npy', 'label': 0},\n",
              " {'filename': '050.png.npy', 'label': 0},\n",
              " {'filename': '109.png.npy', 'label': 0},\n",
              " {'filename': '069.png.npy', 'label': 0},\n",
              " {'filename': '081.png.npy', 'label': 0},\n",
              " {'filename': '087.png.npy', 'label': 0},\n",
              " {'filename': '074.png.npy', 'label': 0},\n",
              " {'filename': '072.png.npy', 'label': 0},\n",
              " {'filename': '041.png.npy', 'label': 0},\n",
              " {'filename': '106.png.npy', 'label': 0},\n",
              " {'filename': '076.png.npy', 'label': 0},\n",
              " {'filename': '095.png.npy', 'label': 0},\n",
              " {'filename': '061.png.npy', 'label': 0},\n",
              " {'filename': '077.png.npy', 'label': 0},\n",
              " {'filename': '070.png.npy', 'label': 0},\n",
              " {'filename': '064.png.npy', 'label': 0},\n",
              " {'filename': '096.png.npy', 'label': 0},\n",
              " {'filename': '093.png.npy', 'label': 0},\n",
              " {'filename': '049.png.npy', 'label': 0},\n",
              " {'filename': '107.png.npy', 'label': 0},\n",
              " {'filename': '073.png.npy', 'label': 0},\n",
              " {'filename': '097.png.npy', 'label': 0},\n",
              " {'filename': '067.png.npy', 'label': 0},\n",
              " {'filename': '040.png.npy', 'label': 0},\n",
              " {'filename': '048.png.npy', 'label': 0},\n",
              " {'filename': '066.png.npy', 'label': 0},\n",
              " {'filename': '098.png.npy', 'label': 0},\n",
              " {'filename': '100.png.npy', 'label': 0},\n",
              " {'filename': '045.png.npy', 'label': 0},\n",
              " {'filename': '090.png.npy', 'label': 0},\n",
              " {'filename': '042.png.npy', 'label': 0},\n",
              " {'filename': '108.png.npy', 'label': 0},\n",
              " {'filename': '094.png.npy', 'label': 0},\n",
              " {'filename': '194.png.npy', 'label': 0},\n",
              " {'filename': '122.png.npy', 'label': 0},\n",
              " {'filename': '141.png.npy', 'label': 0},\n",
              " {'filename': '176.png.npy', 'label': 0},\n",
              " {'filename': '192.png.npy', 'label': 0},\n",
              " {'filename': '121.png.npy', 'label': 0},\n",
              " {'filename': '142.png.npy', 'label': 0},\n",
              " {'filename': '165.png.npy', 'label': 0},\n",
              " {'filename': '164.png.npy', 'label': 0},\n",
              " {'filename': '116.png.npy', 'label': 0},\n",
              " {'filename': '172.png.npy', 'label': 0},\n",
              " {'filename': '126.png.npy', 'label': 0},\n",
              " {'filename': '145.png.npy', 'label': 0},\n",
              " {'filename': '166.png.npy', 'label': 0},\n",
              " {'filename': '159.png.npy', 'label': 0},\n",
              " {'filename': '154.png.npy', 'label': 0},\n",
              " {'filename': '138.png.npy', 'label': 0},\n",
              " {'filename': '171.png.npy', 'label': 0},\n",
              " {'filename': '152.png.npy', 'label': 0},\n",
              " {'filename': '117.png.npy', 'label': 0},\n",
              " {'filename': '183.png.npy', 'label': 0},\n",
              " {'filename': '162.png.npy', 'label': 0},\n",
              " {'filename': '135.png.npy', 'label': 0},\n",
              " {'filename': '185.png.npy', 'label': 0},\n",
              " {'filename': '114.png.npy', 'label': 0},\n",
              " {'filename': '151.png.npy', 'label': 0},\n",
              " {'filename': '149.png.npy', 'label': 0},\n",
              " {'filename': '129.png.npy', 'label': 0},\n",
              " {'filename': '179.png.npy', 'label': 0},\n",
              " {'filename': '157.png.npy', 'label': 0},\n",
              " {'filename': '119.png.npy', 'label': 0},\n",
              " {'filename': '124.png.npy', 'label': 0},\n",
              " {'filename': '177.png.npy', 'label': 0},\n",
              " {'filename': '128.png.npy', 'label': 0},\n",
              " {'filename': '147.png.npy', 'label': 0},\n",
              " {'filename': '193.png.npy', 'label': 0},\n",
              " {'filename': '195.png.npy', 'label': 0},\n",
              " {'filename': '146.png.npy', 'label': 0},\n",
              " {'filename': '120.png.npy', 'label': 0},\n",
              " {'filename': '115.png.npy', 'label': 0},\n",
              " {'filename': '148.png.npy', 'label': 0},\n",
              " {'filename': '191.png.npy', 'label': 0},\n",
              " {'filename': '168.png.npy', 'label': 0},\n",
              " {'filename': '127.png.npy', 'label': 0},\n",
              " {'filename': '161.png.npy', 'label': 0},\n",
              " {'filename': '140.png.npy', 'label': 0},\n",
              " {'filename': '130.png.npy', 'label': 0},\n",
              " {'filename': '188.png.npy', 'label': 0},\n",
              " {'filename': '169.png.npy', 'label': 0},\n",
              " {'filename': '180.png.npy', 'label': 0},\n",
              " {'filename': '167.png.npy', 'label': 0},\n",
              " {'filename': '174.png.npy', 'label': 0},\n",
              " {'filename': '125.png.npy', 'label': 0},\n",
              " {'filename': '175.png.npy', 'label': 0},\n",
              " {'filename': '150.png.npy', 'label': 0},\n",
              " {'filename': '132.png.npy', 'label': 0},\n",
              " {'filename': '144.png.npy', 'label': 0},\n",
              " {'filename': '186.png.npy', 'label': 0},\n",
              " {'filename': '118.png.npy', 'label': 0},\n",
              " {'filename': '190.png.npy', 'label': 0},\n",
              " {'filename': '155.png.npy', 'label': 0},\n",
              " {'filename': '182.png.npy', 'label': 0},\n",
              " {'filename': '123.png.npy', 'label': 0},\n",
              " {'filename': '189.png.npy', 'label': 0},\n",
              " {'filename': '153.png.npy', 'label': 0},\n",
              " {'filename': '131.png.npy', 'label': 0},\n",
              " {'filename': '139.png.npy', 'label': 0},\n",
              " {'filename': '160.png.npy', 'label': 0},\n",
              " {'filename': '170.png.npy', 'label': 0},\n",
              " {'filename': '143.png.npy', 'label': 0},\n",
              " {'filename': '187.png.npy', 'label': 0},\n",
              " {'filename': '173.png.npy', 'label': 0},\n",
              " {'filename': '163.png.npy', 'label': 0},\n",
              " {'filename': '158.png.npy', 'label': 0},\n",
              " {'filename': '133.png.npy', 'label': 0},\n",
              " {'filename': '137.png.npy', 'label': 0},\n",
              " {'filename': '178.png.npy', 'label': 0},\n",
              " {'filename': '136.png.npy', 'label': 0},\n",
              " {'filename': '181.png.npy', 'label': 0},\n",
              " {'filename': '184.png.npy', 'label': 0},\n",
              " {'filename': '156.png.npy', 'label': 0},\n",
              " {'filename': '134.png.npy', 'label': 0},\n",
              " {'filename': '201.png.npy', 'label': 0},\n",
              " {'filename': '206.png.npy', 'label': 0},\n",
              " {'filename': '209.png.npy', 'label': 0},\n",
              " {'filename': '205.png.npy', 'label': 0},\n",
              " {'filename': '207.png.npy', 'label': 0},\n",
              " {'filename': '196.png.npy', 'label': 0},\n",
              " {'filename': '198.png.npy', 'label': 0},\n",
              " {'filename': '204.png.npy', 'label': 0},\n",
              " {'filename': '197.png.npy', 'label': 0},\n",
              " {'filename': '212.png.npy', 'label': 0},\n",
              " {'filename': '202.png.npy', 'label': 0},\n",
              " {'filename': '199.png.npy', 'label': 0},\n",
              " {'filename': '210.png.npy', 'label': 0},\n",
              " {'filename': '211.png.npy', 'label': 0},\n",
              " {'filename': '200.png.npy', 'label': 0},\n",
              " {'filename': '203.png.npy', 'label': 0},\n",
              " {'filename': '208.png.npy', 'label': 0}]"
            ]
          },
          "metadata": {},
          "execution_count": 18
        }
      ]
    },
    {
      "cell_type": "code",
      "source": [
        "output_folder = '/content/drive/MyDrive/transistor/train/bad_scaled'\n",
        "\n",
        "output_files = os.listdir(output_folder)\n",
        "\n",
        "\n",
        "for output_file in output_files:\n",
        "  label_data.append({\"filename\": output_file, \"label\": int(1)})\n",
        "\n",
        "  with open(label_file, 'w', newline='') as f:\n",
        "    writer = csv.DictWriter(f, fieldnames=fieldnames)\n",
        "    writer.writeheader()\n",
        "    writer.writerows(label_data)"
      ],
      "metadata": {
        "id": "JXa-WqlrpRiF"
      },
      "execution_count": null,
      "outputs": []
    },
    {
      "cell_type": "markdown",
      "source": [
        "### 모델 생성"
      ],
      "metadata": {
        "id": "WfIqMeYM0qhE"
      }
    },
    {
      "cell_type": "code",
      "source": [
        "train = pd.read_csv('/content/label_files.csv')"
      ],
      "metadata": {
        "id": "4nZtJ6n33NSb"
      },
      "execution_count": null,
      "outputs": []
    },
    {
      "cell_type": "code",
      "source": [
        "train.shape"
      ],
      "metadata": {
        "colab": {
          "base_uri": "https://localhost:8080/"
        },
        "id": "0iFkZBKH51SA",
        "outputId": "8dd6c856-8542-455c-dae9-164604519c25"
      },
      "execution_count": null,
      "outputs": [
        {
          "output_type": "execute_result",
          "data": {
            "text/plain": [
              "(253, 2)"
            ]
          },
          "metadata": {},
          "execution_count": 21
        }
      ]
    },
    {
      "cell_type": "code",
      "source": [
        "train['filename'].shape"
      ],
      "metadata": {
        "colab": {
          "base_uri": "https://localhost:8080/"
        },
        "id": "hC0XVGcTBE_b",
        "outputId": "469f0822-14f6-4b37-851e-e8bafc264240"
      },
      "execution_count": null,
      "outputs": [
        {
          "output_type": "execute_result",
          "data": {
            "text/plain": [
              "(253,)"
            ]
          },
          "metadata": {},
          "execution_count": 22
        }
      ]
    },
    {
      "cell_type": "code",
      "source": [
        "#csv파일에는 이미지 관련 데이터가 따로 들어가지 않는다. 따라서 파일명에 따른 경로를 따로 지정해줘야함"
      ],
      "metadata": {
        "id": "tbRshXbNBRaU"
      },
      "execution_count": null,
      "outputs": []
    },
    {
      "cell_type": "markdown",
      "source": [
        "라펠링 파일 취합"
      ],
      "metadata": {
        "id": "u0guilCtKCSx"
      }
    },
    {
      "cell_type": "code",
      "source": [
        "source_folder = '/content/drive/MyDrive/transistor/train/good_scaled'  # 복사할 파일들이 있는 폴더 경로\n",
        "destination_folder = '/content/drive/MyDrive/transistor/train/test_scaled'  # 복사한 파일들을 저장할 폴더 경로\n",
        "\n",
        "# 대상 폴더가 없으면 생성\n",
        "if not os.path.exists(destination_folder):\n",
        "    os.makedirs(destination_folder)\n",
        "\n",
        "# 폴더 내의 파일들을 복사\n",
        "for filename in os.listdir(source_folder):\n",
        "    source_path = os.path.join(source_folder, filename)\n",
        "    destination_path = os.path.join(destination_folder, filename)\n",
        "    shutil.copy(source_path, destination_path)\n",
        "\n",
        "source_folder = '/content/drive/MyDrive/transistor/train/bad_scaled'  # 복사할 파일들이 있는 폴더 경로\n",
        "\n",
        "# 대상 폴더가 없으면 생성\n",
        "if not os.path.exists(destination_folder):\n",
        "    os.makedirs(destination_folder)\n",
        "\n",
        "# 폴더 내의 파일들을 복사\n",
        "for filename in os.listdir(source_folder):\n",
        "    source_path = os.path.join(source_folder, filename)\n",
        "    destination_path = os.path.join(destination_folder, filename)\n",
        "    shutil.copy(source_path, destination_path)"
      ],
      "metadata": {
        "id": "Q20BK2-WKAZG"
      },
      "execution_count": null,
      "outputs": []
    },
    {
      "cell_type": "markdown",
      "source": [
        "라벨링파일 불러오기"
      ],
      "metadata": {
        "id": "o3AL_uhbCps5"
      }
    },
    {
      "cell_type": "markdown",
      "source": [],
      "metadata": {
        "id": "Nr8vgswfX1AA"
      }
    },
    {
      "cell_type": "code",
      "source": [
        "from keras.utils import to_categorical\n",
        "\n",
        "label_file = pd.read_csv('/content/label_files.csv')\n",
        "\n",
        "x = []\n",
        "y = []\n",
        "for i in range(len(label_file)):\n",
        "  file_path = label_file['filename'][i]\n",
        "  # print(type(file_path))\n",
        "  label = label_file['label'][i]\n",
        "\n",
        "  loaded_data = np.load('/content/drive/MyDrive/transistor/train/test_scaled/' + file_path)\n",
        "  x.append(loaded_data)\n",
        "  y.append(label)\n",
        "\n",
        "x = np.array(x)\n",
        "y = np.array(y)\n",
        "\n",
        "y = to_categorical(y)"
      ],
      "metadata": {
        "id": "dVw5Bv0ABkdb"
      },
      "execution_count": null,
      "outputs": []
    },
    {
      "cell_type": "code",
      "source": [
        "print(x)"
      ],
      "metadata": {
        "id": "i46E19ZtN8xY",
        "colab": {
          "base_uri": "https://localhost:8080/"
        },
        "outputId": "f8256999-df35-4498-a4ad-764b3eedfb87"
      },
      "execution_count": null,
      "outputs": [
        {
          "output_type": "stream",
          "name": "stdout",
          "text": [
            "[[[[0.55294118 0.38823529 0.3372549 ]\n",
            "   [0.55294118 0.39215686 0.3372549 ]\n",
            "   [0.55294118 0.38823529 0.33333333]\n",
            "   ...\n",
            "   [0.1372549  0.09411765 0.09411765]\n",
            "   [0.34901961 0.21960784 0.2       ]\n",
            "   [0.6745098  0.4627451  0.38431373]]\n",
            "\n",
            "  [[0.55294118 0.38823529 0.3372549 ]\n",
            "   [0.55686275 0.39607843 0.3372549 ]\n",
            "   [0.55686275 0.38823529 0.33333333]\n",
            "   ...\n",
            "   [0.14117647 0.09803922 0.09411765]\n",
            "   [0.30980392 0.19607843 0.17647059]\n",
            "   [0.61960784 0.42352941 0.35686275]]\n",
            "\n",
            "  [[0.54509804 0.38823529 0.3372549 ]\n",
            "   [0.54901961 0.38823529 0.33333333]\n",
            "   [0.55294118 0.39215686 0.3372549 ]\n",
            "   ...\n",
            "   [0.14901961 0.09803922 0.09411765]\n",
            "   [0.30588235 0.19607843 0.17254902]\n",
            "   [0.58039216 0.40392157 0.34509804]]\n",
            "\n",
            "  ...\n",
            "\n",
            "  [[0.5254902  0.38039216 0.34117647]\n",
            "   [0.51764706 0.37254902 0.32941176]\n",
            "   [0.5254902  0.37647059 0.33333333]\n",
            "   ...\n",
            "   [0.58823529 0.41176471 0.35294118]\n",
            "   [0.59215686 0.41176471 0.35686275]\n",
            "   [0.59215686 0.41568627 0.36862745]]\n",
            "\n",
            "  [[0.5254902  0.37647059 0.3372549 ]\n",
            "   [0.52156863 0.37254902 0.32941176]\n",
            "   [0.52156863 0.37254902 0.32941176]\n",
            "   ...\n",
            "   [0.58823529 0.41176471 0.35686275]\n",
            "   [0.58431373 0.41568627 0.35686275]\n",
            "   [0.59215686 0.41568627 0.36078431]]\n",
            "\n",
            "  [[0.53333333 0.38039216 0.3372549 ]\n",
            "   [0.5372549  0.38039216 0.32941176]\n",
            "   [0.5372549  0.38039216 0.32941176]\n",
            "   ...\n",
            "   [0.59215686 0.41568627 0.35294118]\n",
            "   [0.59215686 0.41176471 0.35294118]\n",
            "   [0.58823529 0.40784314 0.34901961]]]\n",
            "\n",
            "\n",
            " [[[0.57254902 0.39215686 0.35294118]\n",
            "   [0.57254902 0.39607843 0.34901961]\n",
            "   [0.58039216 0.39215686 0.35686275]\n",
            "   ...\n",
            "   [0.61176471 0.41960784 0.36862745]\n",
            "   [0.60784314 0.41568627 0.36470588]\n",
            "   [0.6        0.41568627 0.36470588]]\n",
            "\n",
            "  [[0.57254902 0.39607843 0.35294118]\n",
            "   [0.56862745 0.38823529 0.34509804]\n",
            "   [0.58039216 0.39215686 0.34901961]\n",
            "   ...\n",
            "   [0.61568627 0.42352941 0.36862745]\n",
            "   [0.61568627 0.41960784 0.36078431]\n",
            "   [0.60392157 0.41960784 0.36078431]]\n",
            "\n",
            "  [[0.56862745 0.38823529 0.34901961]\n",
            "   [0.56862745 0.39215686 0.34901961]\n",
            "   [0.58823529 0.40392157 0.35294118]\n",
            "   ...\n",
            "   [0.61960784 0.42352941 0.36470588]\n",
            "   [0.61960784 0.42352941 0.36470588]\n",
            "   [0.60784314 0.41960784 0.36078431]]\n",
            "\n",
            "  ...\n",
            "\n",
            "  [[0.55294118 0.37647059 0.33333333]\n",
            "   [0.54509804 0.37254902 0.32941176]\n",
            "   [0.5372549  0.36862745 0.32941176]\n",
            "   ...\n",
            "   [0.63921569 0.42352941 0.36862745]\n",
            "   [0.62745098 0.42352941 0.36078431]\n",
            "   [0.62745098 0.41960784 0.36470588]]\n",
            "\n",
            "  [[0.54509804 0.37647059 0.33333333]\n",
            "   [0.52941176 0.36470588 0.32156863]\n",
            "   [0.53333333 0.36078431 0.32156863]\n",
            "   ...\n",
            "   [0.63137255 0.42352941 0.36078431]\n",
            "   [0.61568627 0.41176471 0.34901961]\n",
            "   [0.62352941 0.41568627 0.35686275]]\n",
            "\n",
            "  [[0.55294118 0.37647059 0.3372549 ]\n",
            "   [0.54901961 0.37254902 0.32156863]\n",
            "   [0.54901961 0.37254902 0.3254902 ]\n",
            "   ...\n",
            "   [0.60784314 0.40392157 0.34117647]\n",
            "   [0.61176471 0.40784314 0.34509804]\n",
            "   [0.61960784 0.41176471 0.34901961]]]\n",
            "\n",
            "\n",
            " [[[0.17647059 0.14509804 0.15686275]\n",
            "   [0.15294118 0.12941176 0.14117647]\n",
            "   [0.1372549  0.11764706 0.12941176]\n",
            "   ...\n",
            "   [0.56078431 0.4        0.34509804]\n",
            "   [0.56078431 0.4        0.34117647]\n",
            "   [0.54901961 0.39215686 0.3372549 ]]\n",
            "\n",
            "  [[0.21568627 0.17254902 0.17647059]\n",
            "   [0.16470588 0.14509804 0.14901961]\n",
            "   [0.14901961 0.13333333 0.1372549 ]\n",
            "   ...\n",
            "   [0.56470588 0.40392157 0.34117647]\n",
            "   [0.56078431 0.4        0.34117647]\n",
            "   [0.56862745 0.40392157 0.34117647]]\n",
            "\n",
            "  [[0.30980392 0.22745098 0.21568627]\n",
            "   [0.19215686 0.16862745 0.17647059]\n",
            "   [0.17647059 0.16078431 0.16470588]\n",
            "   ...\n",
            "   [0.57254902 0.40784314 0.34509804]\n",
            "   [0.56862745 0.40392157 0.34117647]\n",
            "   [0.57254902 0.40784314 0.34901961]]\n",
            "\n",
            "  ...\n",
            "\n",
            "  [[0.5254902  0.37254902 0.33333333]\n",
            "   [0.5254902  0.37254902 0.32941176]\n",
            "   [0.52156863 0.37254902 0.32941176]\n",
            "   ...\n",
            "   [0.54117647 0.38431373 0.3372549 ]\n",
            "   [0.54901961 0.38823529 0.3372549 ]\n",
            "   [0.54509804 0.38823529 0.34117647]]\n",
            "\n",
            "  [[0.5254902  0.37647059 0.33333333]\n",
            "   [0.52156863 0.37254902 0.32156863]\n",
            "   [0.51372549 0.36470588 0.3254902 ]\n",
            "   ...\n",
            "   [0.53333333 0.38039216 0.32941176]\n",
            "   [0.54509804 0.38823529 0.33333333]\n",
            "   [0.54117647 0.38823529 0.34117647]]\n",
            "\n",
            "  [[0.52941176 0.37647059 0.33333333]\n",
            "   [0.5254902  0.37647059 0.3254902 ]\n",
            "   [0.5254902  0.37254902 0.3254902 ]\n",
            "   ...\n",
            "   [0.54117647 0.38431373 0.3254902 ]\n",
            "   [0.54901961 0.38431373 0.32941176]\n",
            "   [0.54117647 0.38431373 0.33333333]]]\n",
            "\n",
            "\n",
            " ...\n",
            "\n",
            "\n",
            " [[[0.60784314 0.39215686 0.32941176]\n",
            "   [0.61568627 0.4        0.3372549 ]\n",
            "   [0.60392157 0.39607843 0.3372549 ]\n",
            "   ...\n",
            "   [0.6        0.39215686 0.32156863]\n",
            "   [0.59215686 0.38823529 0.32156863]\n",
            "   [0.57254902 0.37647059 0.31764706]]\n",
            "\n",
            "  [[0.61568627 0.39607843 0.32941176]\n",
            "   [0.62352941 0.40392157 0.3372549 ]\n",
            "   [0.61568627 0.4        0.33333333]\n",
            "   ...\n",
            "   [0.59607843 0.39607843 0.32941176]\n",
            "   [0.58823529 0.39215686 0.3254902 ]\n",
            "   [0.58823529 0.38823529 0.31764706]]\n",
            "\n",
            "  [[0.60784314 0.39215686 0.32941176]\n",
            "   [0.61568627 0.4        0.33333333]\n",
            "   [0.61568627 0.39607843 0.32941176]\n",
            "   ...\n",
            "   [0.61176471 0.4        0.33333333]\n",
            "   [0.59215686 0.39215686 0.32156863]\n",
            "   [0.58823529 0.38823529 0.31764706]]\n",
            "\n",
            "  ...\n",
            "\n",
            "  [[0.53333333 0.35294118 0.29803922]\n",
            "   [0.52941176 0.34901961 0.29019608]\n",
            "   [0.53333333 0.34509804 0.29411765]\n",
            "   ...\n",
            "   [0.61960784 0.40392157 0.32941176]\n",
            "   [0.62745098 0.40392157 0.33333333]\n",
            "   [0.62352941 0.40392157 0.3372549 ]]\n",
            "\n",
            "  [[0.5372549  0.34901961 0.29803922]\n",
            "   [0.5254902  0.34509804 0.29019608]\n",
            "   [0.52156863 0.34117647 0.28627451]\n",
            "   ...\n",
            "   [0.60784314 0.4        0.3254902 ]\n",
            "   [0.61960784 0.4        0.32941176]\n",
            "   [0.61568627 0.4        0.32941176]]\n",
            "\n",
            "  [[0.54901961 0.35686275 0.29803922]\n",
            "   [0.54117647 0.35294118 0.29411765]\n",
            "   [0.52941176 0.34509804 0.29019608]\n",
            "   ...\n",
            "   [0.58431373 0.38039216 0.31372549]\n",
            "   [0.61960784 0.39607843 0.32156863]\n",
            "   [0.62352941 0.40392157 0.32941176]]]\n",
            "\n",
            "\n",
            " [[[0.59607843 0.38823529 0.32941176]\n",
            "   [0.58039216 0.37647059 0.32156863]\n",
            "   [0.58823529 0.38039216 0.3254902 ]\n",
            "   ...\n",
            "   [0.59215686 0.39215686 0.32941176]\n",
            "   [0.6        0.39215686 0.32941176]\n",
            "   [0.58431373 0.39215686 0.3254902 ]]\n",
            "\n",
            "  [[0.60784314 0.39215686 0.32941176]\n",
            "   [0.58823529 0.37647059 0.31764706]\n",
            "   [0.59215686 0.38431373 0.32156863]\n",
            "   ...\n",
            "   [0.6        0.39215686 0.32941176]\n",
            "   [0.59215686 0.39215686 0.3254902 ]\n",
            "   [0.58431373 0.39215686 0.32156863]]\n",
            "\n",
            "  [[0.57254902 0.36862745 0.31764706]\n",
            "   [0.56862745 0.37254902 0.31372549]\n",
            "   [0.59607843 0.38823529 0.3254902 ]\n",
            "   ...\n",
            "   [0.6        0.39215686 0.32156863]\n",
            "   [0.60392157 0.40392157 0.32941176]\n",
            "   [0.59607843 0.4        0.32941176]]\n",
            "\n",
            "  ...\n",
            "\n",
            "  [[0.51764706 0.34117647 0.29411765]\n",
            "   [0.51764706 0.34117647 0.29411765]\n",
            "   [0.52941176 0.35294118 0.30196078]\n",
            "   ...\n",
            "   [0.61568627 0.39607843 0.3254902 ]\n",
            "   [0.61176471 0.39607843 0.3254902 ]\n",
            "   [0.61568627 0.39215686 0.3254902 ]]\n",
            "\n",
            "  [[0.50980392 0.34117647 0.29019608]\n",
            "   [0.50196078 0.3372549  0.28627451]\n",
            "   [0.52156863 0.34509804 0.29411765]\n",
            "   ...\n",
            "   [0.61176471 0.39607843 0.32156863]\n",
            "   [0.61176471 0.39607843 0.32156863]\n",
            "   [0.61960784 0.4        0.33333333]]\n",
            "\n",
            "  [[0.50980392 0.33333333 0.28627451]\n",
            "   [0.50588235 0.33333333 0.28235294]\n",
            "   [0.5254902  0.34117647 0.28627451]\n",
            "   ...\n",
            "   [0.61176471 0.39215686 0.31372549]\n",
            "   [0.61960784 0.39607843 0.32156863]\n",
            "   [0.63137255 0.4        0.33333333]]]\n",
            "\n",
            "\n",
            " [[[0.59607843 0.41960784 0.38039216]\n",
            "   [0.60392157 0.41960784 0.38039216]\n",
            "   [0.61568627 0.42352941 0.38039216]\n",
            "   ...\n",
            "   [0.62745098 0.43137255 0.37254902]\n",
            "   [0.61176471 0.42352941 0.37254902]\n",
            "   [0.59607843 0.41568627 0.36078431]]\n",
            "\n",
            "  [[0.59607843 0.41568627 0.36862745]\n",
            "   [0.60392157 0.41960784 0.37254902]\n",
            "   [0.6        0.41568627 0.37254902]\n",
            "   ...\n",
            "   [0.62745098 0.43529412 0.37254902]\n",
            "   [0.62352941 0.43137255 0.37254902]\n",
            "   [0.61176471 0.42352941 0.36470588]]\n",
            "\n",
            "  [[0.59215686 0.41176471 0.36470588]\n",
            "   [0.6        0.41960784 0.37254902]\n",
            "   [0.59607843 0.41960784 0.36862745]\n",
            "   ...\n",
            "   [0.62745098 0.43137255 0.37254902]\n",
            "   [0.62352941 0.42745098 0.37647059]\n",
            "   [0.61960784 0.42745098 0.36862745]]\n",
            "\n",
            "  ...\n",
            "\n",
            "  [[0.54901961 0.38823529 0.35294118]\n",
            "   [0.54117647 0.38039216 0.3372549 ]\n",
            "   [0.54117647 0.38431373 0.34117647]\n",
            "   ...\n",
            "   [0.60392157 0.41176471 0.36078431]\n",
            "   [0.6        0.41568627 0.35686275]\n",
            "   [0.61176471 0.41960784 0.36078431]]\n",
            "\n",
            "  [[0.54509804 0.38823529 0.34901961]\n",
            "   [0.53333333 0.37647059 0.3372549 ]\n",
            "   [0.53333333 0.38039216 0.33333333]\n",
            "   ...\n",
            "   [0.60392157 0.41568627 0.36078431]\n",
            "   [0.60784314 0.41568627 0.35686275]\n",
            "   [0.61176471 0.41960784 0.36470588]]\n",
            "\n",
            "  [[0.54509804 0.38823529 0.34509804]\n",
            "   [0.54117647 0.38039216 0.33333333]\n",
            "   [0.54509804 0.38039216 0.33333333]\n",
            "   ...\n",
            "   [0.60784314 0.41176471 0.35294118]\n",
            "   [0.61176471 0.41960784 0.36078431]\n",
            "   [0.61176471 0.41960784 0.36078431]]]]\n"
          ]
        }
      ]
    },
    {
      "cell_type": "code",
      "source": [
        "from keras.applications import ResNet50\n",
        "from keras.layers import GlobalAveragePooling2D\n",
        "num_classes = 2\n",
        "\n",
        "# # Sequential 모델 구성\n",
        "# model = tf.keras.Sequential()\n",
        "\n",
        "# # 입력 레이어\n",
        "# model.add(Input(shape=(512, 512, 3)))\n",
        "\n",
        "# # 컨볼루션 레이어\n",
        "# model.add(Conv2D(32, (3, 3), activation='relu'))\n",
        "# model.add(MaxPooling2D((2, 2)))\n",
        "\n",
        "# model.add(Conv2D(64, (3, 3), activation='relu'))\n",
        "# model.add(MaxPooling2D((2, 2)))\n",
        "\n",
        "# model.add(Conv2D(128, (3, 3), activation='relu'))\n",
        "# model.add(MaxPooling2D((2, 2)))\n",
        "\n",
        "# # 플래튼(Flatten) 레이어\n",
        "# model.add(Flatten())\n",
        "\n",
        "# # 완전 연결(Dense) 레이어\n",
        "# model.add(Dense(64, activation='relu'))\n",
        "\n",
        "# # 출력 레이어\n",
        "# model.add(Dense(num_classes, activation='softmax'))\n",
        "\n",
        "# # 모델 컴파일\n",
        "# model.compile(optimizer='adam',\n",
        "#               loss='binary_crossentropy',\n",
        "#               metrics=['accuracy'])\n",
        "\n",
        "# # 모델 요약 정보 출력\n",
        "# model.summary()\n",
        "\n",
        "# 사전 훈련된 ResNet50 모델 로드\n",
        "base_model = ResNet50(weights='imagenet', include_top=False, input_shape=(224, 224, 3))\n",
        "\n",
        "# 새로운 분류 계층 추가\n",
        "model = tf.keras.Sequential()\n",
        "model.add(base_model)\n",
        "model.add(GlobalAveragePooling2D())\n",
        "model.add(Dense(num_classes, activation='softmax'))\n",
        "\n",
        "# 기반 모델 동결\n",
        "base_model.trainable = False\n",
        "\n",
        "# 모델 컴파일\n",
        "model.compile(optimizer='adam',\n",
        "              loss='binary_crossentropy',\n",
        "              metrics=['accuracy'])\n",
        "\n",
        "model.summary()\n"
      ],
      "metadata": {
        "colab": {
          "base_uri": "https://localhost:8080/"
        },
        "id": "cVo2eFkV0jIL",
        "outputId": "419ee0d8-b023-4679-905d-52271f79873d"
      },
      "execution_count": null,
      "outputs": [
        {
          "output_type": "stream",
          "name": "stdout",
          "text": [
            "Downloading data from https://storage.googleapis.com/tensorflow/keras-applications/resnet/resnet50_weights_tf_dim_ordering_tf_kernels_notop.h5\n",
            "94765736/94765736 [==============================] - 5s 0us/step\n",
            "Model: \"sequential\"\n",
            "_________________________________________________________________\n",
            " Layer (type)                Output Shape              Param #   \n",
            "=================================================================\n",
            " resnet50 (Functional)       (None, 7, 7, 2048)        23587712  \n",
            "                                                                 \n",
            " global_average_pooling2d (G  (None, 2048)             0         \n",
            " lobalAveragePooling2D)                                          \n",
            "                                                                 \n",
            " dense (Dense)               (None, 2)                 4098      \n",
            "                                                                 \n",
            "=================================================================\n",
            "Total params: 23,591,810\n",
            "Trainable params: 4,098\n",
            "Non-trainable params: 23,587,712\n",
            "_________________________________________________________________\n"
          ]
        }
      ]
    },
    {
      "cell_type": "markdown",
      "source": [
        "모델 훈련"
      ],
      "metadata": {
        "id": "s2fSt4ER9TGT"
      }
    },
    {
      "cell_type": "code",
      "source": [
        "x.shape"
      ],
      "metadata": {
        "colab": {
          "base_uri": "https://localhost:8080/"
        },
        "id": "xBGXICojVKUG",
        "outputId": "e39f654c-cf72-4542-f561-f84823186a29"
      },
      "execution_count": null,
      "outputs": [
        {
          "output_type": "execute_result",
          "data": {
            "text/plain": [
              "(253, 224, 224, 3)"
            ]
          },
          "metadata": {},
          "execution_count": 28
        }
      ]
    },
    {
      "cell_type": "code",
      "source": [
        "y = y.astype(int)"
      ],
      "metadata": {
        "id": "hctifB1xSs56"
      },
      "execution_count": null,
      "outputs": []
    },
    {
      "cell_type": "code",
      "source": [
        "history = model.fit(x, y, validation_split=0.2, epochs=50, verbose=1, batch_size=8)"
      ],
      "metadata": {
        "id": "pVmB5SaZ9SyU",
        "colab": {
          "base_uri": "https://localhost:8080/"
        },
        "outputId": "945cf099-7259-48ff-e0b1-c274fb1bfe30"
      },
      "execution_count": null,
      "outputs": [
        {
          "output_type": "stream",
          "name": "stdout",
          "text": [
            "Epoch 1/50\n",
            "26/26 [==============================] - 16s 133ms/step - loss: 0.1943 - accuracy: 1.0000 - val_loss: 3.3633 - val_accuracy: 0.2157\n",
            "Epoch 2/50\n",
            "26/26 [==============================] - 1s 43ms/step - loss: 0.0100 - accuracy: 1.0000 - val_loss: 4.1240 - val_accuracy: 0.2157\n",
            "Epoch 3/50\n",
            "26/26 [==============================] - 1s 44ms/step - loss: 0.0053 - accuracy: 1.0000 - val_loss: 4.3992 - val_accuracy: 0.2157\n",
            "Epoch 4/50\n",
            "26/26 [==============================] - 1s 39ms/step - loss: 0.0039 - accuracy: 1.0000 - val_loss: 4.5986 - val_accuracy: 0.2157\n",
            "Epoch 5/50\n",
            "26/26 [==============================] - 1s 47ms/step - loss: 0.0031 - accuracy: 1.0000 - val_loss: 4.7725 - val_accuracy: 0.2157\n",
            "Epoch 6/50\n",
            "26/26 [==============================] - 1s 47ms/step - loss: 0.0025 - accuracy: 1.0000 - val_loss: 4.9277 - val_accuracy: 0.2157\n",
            "Epoch 7/50\n",
            "26/26 [==============================] - 1s 47ms/step - loss: 0.0021 - accuracy: 1.0000 - val_loss: 5.0676 - val_accuracy: 0.2157\n",
            "Epoch 8/50\n",
            "26/26 [==============================] - 1s 43ms/step - loss: 0.0017 - accuracy: 1.0000 - val_loss: 5.1942 - val_accuracy: 0.2157\n",
            "Epoch 9/50\n",
            "26/26 [==============================] - 1s 39ms/step - loss: 0.0015 - accuracy: 1.0000 - val_loss: 5.3100 - val_accuracy: 0.2157\n",
            "Epoch 10/50\n",
            "26/26 [==============================] - 1s 44ms/step - loss: 0.0013 - accuracy: 1.0000 - val_loss: 5.4164 - val_accuracy: 0.2157\n",
            "Epoch 11/50\n",
            "26/26 [==============================] - 1s 39ms/step - loss: 0.0011 - accuracy: 1.0000 - val_loss: 5.5151 - val_accuracy: 0.2157\n",
            "Epoch 12/50\n",
            "26/26 [==============================] - 1s 44ms/step - loss: 0.0010 - accuracy: 1.0000 - val_loss: 5.6069 - val_accuracy: 0.2157\n",
            "Epoch 13/50\n",
            "26/26 [==============================] - 1s 44ms/step - loss: 8.9891e-04 - accuracy: 1.0000 - val_loss: 5.6927 - val_accuracy: 0.2157\n",
            "Epoch 14/50\n",
            "26/26 [==============================] - 1s 44ms/step - loss: 8.0858e-04 - accuracy: 1.0000 - val_loss: 5.7734 - val_accuracy: 0.2157\n",
            "Epoch 15/50\n",
            "26/26 [==============================] - 1s 39ms/step - loss: 7.3190e-04 - accuracy: 1.0000 - val_loss: 5.8495 - val_accuracy: 0.2157\n",
            "Epoch 16/50\n",
            "26/26 [==============================] - 1s 44ms/step - loss: 6.6613e-04 - accuracy: 1.0000 - val_loss: 5.9212 - val_accuracy: 0.2157\n",
            "Epoch 17/50\n",
            "26/26 [==============================] - 1s 46ms/step - loss: 6.0943e-04 - accuracy: 1.0000 - val_loss: 5.9896 - val_accuracy: 0.2157\n",
            "Epoch 18/50\n",
            "26/26 [==============================] - 1s 47ms/step - loss: 5.5998e-04 - accuracy: 1.0000 - val_loss: 6.0544 - val_accuracy: 0.2157\n",
            "Epoch 19/50\n",
            "26/26 [==============================] - 1s 47ms/step - loss: 5.1667e-04 - accuracy: 1.0000 - val_loss: 6.1159 - val_accuracy: 0.2157\n",
            "Epoch 20/50\n",
            "26/26 [==============================] - 1s 45ms/step - loss: 4.7850e-04 - accuracy: 1.0000 - val_loss: 6.1750 - val_accuracy: 0.2157\n",
            "Epoch 21/50\n",
            "26/26 [==============================] - 1s 44ms/step - loss: 4.4451e-04 - accuracy: 1.0000 - val_loss: 6.2318 - val_accuracy: 0.2157\n",
            "Epoch 22/50\n",
            "26/26 [==============================] - 1s 39ms/step - loss: 4.1420e-04 - accuracy: 1.0000 - val_loss: 6.2864 - val_accuracy: 0.2157\n",
            "Epoch 23/50\n",
            "26/26 [==============================] - 1s 44ms/step - loss: 3.8698e-04 - accuracy: 1.0000 - val_loss: 6.3386 - val_accuracy: 0.2157\n",
            "Epoch 24/50\n",
            "26/26 [==============================] - 1s 39ms/step - loss: 3.6252e-04 - accuracy: 1.0000 - val_loss: 6.3890 - val_accuracy: 0.2157\n",
            "Epoch 25/50\n",
            "26/26 [==============================] - 1s 39ms/step - loss: 3.4040e-04 - accuracy: 1.0000 - val_loss: 6.4379 - val_accuracy: 0.2157\n",
            "Epoch 26/50\n",
            "26/26 [==============================] - 1s 44ms/step - loss: 3.2027e-04 - accuracy: 1.0000 - val_loss: 6.4848 - val_accuracy: 0.2157\n",
            "Epoch 27/50\n",
            "26/26 [==============================] - 1s 39ms/step - loss: 3.0201e-04 - accuracy: 1.0000 - val_loss: 6.5302 - val_accuracy: 0.2157\n",
            "Epoch 28/50\n",
            "26/26 [==============================] - 1s 39ms/step - loss: 2.8532e-04 - accuracy: 1.0000 - val_loss: 6.5742 - val_accuracy: 0.2157\n",
            "Epoch 29/50\n",
            "26/26 [==============================] - 1s 44ms/step - loss: 2.7003e-04 - accuracy: 1.0000 - val_loss: 6.6171 - val_accuracy: 0.2157\n",
            "Epoch 30/50\n",
            "26/26 [==============================] - 1s 47ms/step - loss: 2.5596e-04 - accuracy: 1.0000 - val_loss: 6.6586 - val_accuracy: 0.2157\n",
            "Epoch 31/50\n",
            "26/26 [==============================] - 1s 47ms/step - loss: 2.4298e-04 - accuracy: 1.0000 - val_loss: 6.6990 - val_accuracy: 0.2157\n",
            "Epoch 32/50\n",
            "26/26 [==============================] - 1s 43ms/step - loss: 2.3099e-04 - accuracy: 1.0000 - val_loss: 6.7380 - val_accuracy: 0.2157\n",
            "Epoch 33/50\n",
            "26/26 [==============================] - 1s 44ms/step - loss: 2.1991e-04 - accuracy: 1.0000 - val_loss: 6.7763 - val_accuracy: 0.2157\n",
            "Epoch 34/50\n",
            "26/26 [==============================] - 1s 43ms/step - loss: 2.0961e-04 - accuracy: 1.0000 - val_loss: 6.8136 - val_accuracy: 0.2157\n",
            "Epoch 35/50\n",
            "26/26 [==============================] - 1s 44ms/step - loss: 2.0004e-04 - accuracy: 1.0000 - val_loss: 6.8500 - val_accuracy: 0.2157\n",
            "Epoch 36/50\n",
            "26/26 [==============================] - 1s 44ms/step - loss: 1.9111e-04 - accuracy: 1.0000 - val_loss: 6.8854 - val_accuracy: 0.2157\n",
            "Epoch 37/50\n",
            "26/26 [==============================] - 1s 39ms/step - loss: 1.8281e-04 - accuracy: 1.0000 - val_loss: 6.9200 - val_accuracy: 0.2157\n",
            "Epoch 38/50\n",
            "26/26 [==============================] - 1s 44ms/step - loss: 1.7505e-04 - accuracy: 1.0000 - val_loss: 6.9538 - val_accuracy: 0.2157\n",
            "Epoch 39/50\n",
            "26/26 [==============================] - 1s 44ms/step - loss: 1.6778e-04 - accuracy: 1.0000 - val_loss: 6.9869 - val_accuracy: 0.2157\n",
            "Epoch 40/50\n",
            "26/26 [==============================] - 1s 44ms/step - loss: 1.6092e-04 - accuracy: 1.0000 - val_loss: 7.0193 - val_accuracy: 0.2157\n",
            "Epoch 41/50\n",
            "26/26 [==============================] - 1s 40ms/step - loss: 1.5448e-04 - accuracy: 1.0000 - val_loss: 7.0510 - val_accuracy: 0.2157\n",
            "Epoch 42/50\n",
            "26/26 [==============================] - 1s 48ms/step - loss: 1.4845e-04 - accuracy: 1.0000 - val_loss: 7.0822 - val_accuracy: 0.2157\n",
            "Epoch 43/50\n",
            "26/26 [==============================] - 1s 47ms/step - loss: 1.4274e-04 - accuracy: 1.0000 - val_loss: 7.1128 - val_accuracy: 0.2157\n",
            "Epoch 44/50\n",
            "26/26 [==============================] - 1s 48ms/step - loss: 1.3736e-04 - accuracy: 1.0000 - val_loss: 7.1427 - val_accuracy: 0.2157\n",
            "Epoch 45/50\n",
            "26/26 [==============================] - 1s 44ms/step - loss: 1.3228e-04 - accuracy: 1.0000 - val_loss: 7.1720 - val_accuracy: 0.2157\n",
            "Epoch 46/50\n",
            "26/26 [==============================] - 1s 39ms/step - loss: 1.2749e-04 - accuracy: 1.0000 - val_loss: 7.2008 - val_accuracy: 0.2157\n",
            "Epoch 47/50\n",
            "26/26 [==============================] - 1s 40ms/step - loss: 1.2294e-04 - accuracy: 1.0000 - val_loss: 7.2292 - val_accuracy: 0.2157\n",
            "Epoch 48/50\n",
            "26/26 [==============================] - 1s 44ms/step - loss: 1.1865e-04 - accuracy: 1.0000 - val_loss: 7.2570 - val_accuracy: 0.2157\n",
            "Epoch 49/50\n",
            "26/26 [==============================] - 1s 44ms/step - loss: 1.1456e-04 - accuracy: 1.0000 - val_loss: 7.2843 - val_accuracy: 0.2157\n",
            "Epoch 50/50\n",
            "26/26 [==============================] - 1s 44ms/step - loss: 1.1069e-04 - accuracy: 1.0000 - val_loss: 7.3113 - val_accuracy: 0.2157\n"
          ]
        }
      ]
    },
    {
      "cell_type": "code",
      "source": [
        "plt.plot(history.history['loss'], label='train_loss')\n",
        "plt.plot(history.history['val_loss'], label='val_loss')\n",
        "plt.legend()\n",
        "plt.show()"
      ],
      "metadata": {
        "colab": {
          "base_uri": "https://localhost:8080/"
        },
        "id": "jFifyGVVE7jS",
        "outputId": "401c27bc-6c5c-4276-e42f-1542cb96efd6"
      },
      "execution_count": null,
      "outputs": [
        {
          "output_type": "display_data",
          "data": {
            "text/plain": [
              "<Figure size 640x480 with 1 Axes>"
            ],
            "image/png": "[encoded data removed]"
          },
          "metadata": {}
        }
      ]
    },
    {
      "cell_type": "markdown",
      "source": [
        "데이터 수 증강"
      ],
      "metadata": {
        "id": "r8arTMOIcykt"
      }
    },
    {
      "cell_type": "code",
      "source": [
        "#rotated_data = np.rot90(x)\n",
        "\n",
        "#np.save('rotated_data.npy', rotated_data)\n",
        "#np.save('rotated_data_label.npy', y)\n",
        "#(640, 253, 640, 3)\n",
        "\n",
        "flipped_data_lr = np.flip(x, axis=1)\n",
        "\n",
        "np.save('flipped_data_lr.npy', flipped_data_lr)\n",
        "np.save('flipped_data_lr_label.npy', y)\n",
        "\n",
        "flipped_data_ud = np.flip(x, axis=0)\n",
        "\n",
        "np.save('flipped_data_ud.npy', flipped_data_ud)\n",
        "np.save('flipped_data_ud_label.npy', y)\n",
        "\n",
        "mean = 0\n",
        "stddev = 0.05\n",
        "noise = np.random.normal(mean, stddev, x.shape)\n",
        "noisy_data = x + noise\n",
        "np.save('noisy_data.npy', noisy_data)\n",
        "np.save('noisy_data_label.npy', y)"
      ],
      "metadata": {
        "id": "b_PL0t30c0b0"
      },
      "execution_count": null,
      "outputs": []
    },
    {
      "cell_type": "markdown",
      "source": [
        "취합 후 시뮬"
      ],
      "metadata": {
        "id": "XNa4o2PPYh9D"
      }
    },
    {
      "cell_type": "code",
      "source": [
        "#flipped_data_lr.head()"
      ],
      "metadata": {
        "id": "uXtlCjTfYhWr"
      },
      "execution_count": null,
      "outputs": []
    },
    {
      "cell_type": "code",
      "source": [
        "flipped_data_lr = np.load('flipped_data_lr.npy')\n",
        "flipped_data_ud = np.load('flipped_data_ud.npy')\n",
        "noisy_data = np.load('noisy_data.npy')\n",
        "flipped_data_lr_label = np.load('flipped_data_lr_label.npy')\n",
        "flipped_data_ud_label = np.load('flipped_data_ud_label.npy')\n",
        "noisy_data_label = np.load('noisy_data_label.npy')\n",
        "\n",
        "total_x = np.concatenate((x, flipped_data_lr, flipped_data_ud, noisy_data), axis=0)\n",
        "total_y = np.concatenate((y, flipped_data_lr_label, flipped_data_ud_label, noisy_data_label), axis=0)\n",
        "\n",
        "history = model.fit(total_x, total_y, validation_split=0.2, epochs=50, verbose=1, batch_size=8)"
      ],
      "metadata": {
        "id": "aCSpRnFIZ0BY",
        "colab": {
          "base_uri": "https://localhost:8080/"
        },
        "outputId": "32d298af-7dae-40e4-f9d5-f5d9731a9156"
      },
      "execution_count": null,
      "outputs": [
        {
          "output_type": "stream",
          "name": "stdout",
          "text": [
            "Epoch 1/50\n",
            "102/102 [==============================] - 6s 55ms/step - loss: 0.5144 - accuracy: 0.8517 - val_loss: 0.4972 - val_accuracy: 0.8030\n",
            "Epoch 2/50\n",
            "102/102 [==============================] - 4s 39ms/step - loss: 0.4476 - accuracy: 0.8517 - val_loss: 0.5447 - val_accuracy: 0.8030\n",
            "Epoch 3/50\n",
            "102/102 [==============================] - 4s 39ms/step - loss: 0.4290 - accuracy: 0.8517 - val_loss: 0.4903 - val_accuracy: 0.8030\n",
            "Epoch 4/50\n",
            "102/102 [==============================] - 5s 45ms/step - loss: 0.4426 - accuracy: 0.8517 - val_loss: 0.4984 - val_accuracy: 0.8030\n",
            "Epoch 5/50\n",
            "102/102 [==============================] - 4s 41ms/step - loss: 0.4224 - accuracy: 0.8517 - val_loss: 0.5084 - val_accuracy: 0.8030\n",
            "Epoch 6/50\n",
            "102/102 [==============================] - 5s 44ms/step - loss: 0.4303 - accuracy: 0.8517 - val_loss: 0.4908 - val_accuracy: 0.8030\n",
            "Epoch 7/50\n",
            "102/102 [==============================] - 5s 45ms/step - loss: 0.4156 - accuracy: 0.8517 - val_loss: 0.5192 - val_accuracy: 0.8030\n",
            "Epoch 8/50\n",
            "102/102 [==============================] - 4s 42ms/step - loss: 0.4162 - accuracy: 0.8517 - val_loss: 0.5079 - val_accuracy: 0.8030\n",
            "Epoch 9/50\n",
            "102/102 [==============================] - 4s 40ms/step - loss: 0.4218 - accuracy: 0.8517 - val_loss: 0.5704 - val_accuracy: 0.8030\n",
            "Epoch 10/50\n",
            "102/102 [==============================] - 5s 45ms/step - loss: 0.4211 - accuracy: 0.8517 - val_loss: 0.5509 - val_accuracy: 0.8030\n",
            "Epoch 11/50\n",
            "102/102 [==============================] - 5s 47ms/step - loss: 0.4117 - accuracy: 0.8517 - val_loss: 0.4952 - val_accuracy: 0.8030\n",
            "Epoch 12/50\n",
            "102/102 [==============================] - 4s 40ms/step - loss: 0.4096 - accuracy: 0.8517 - val_loss: 0.4867 - val_accuracy: 0.8030\n",
            "Epoch 13/50\n",
            "102/102 [==============================] - 5s 45ms/step - loss: 0.4132 - accuracy: 0.8517 - val_loss: 0.5622 - val_accuracy: 0.8030\n",
            "Epoch 14/50\n",
            "102/102 [==============================] - 4s 42ms/step - loss: 0.4093 - accuracy: 0.8517 - val_loss: 0.4781 - val_accuracy: 0.8030\n",
            "Epoch 15/50\n",
            "102/102 [==============================] - 5s 45ms/step - loss: 0.4123 - accuracy: 0.8517 - val_loss: 0.4856 - val_accuracy: 0.8030\n",
            "Epoch 16/50\n",
            "102/102 [==============================] - 5s 45ms/step - loss: 0.4075 - accuracy: 0.8517 - val_loss: 0.4996 - val_accuracy: 0.8030\n",
            "Epoch 17/50\n",
            "102/102 [==============================] - 4s 43ms/step - loss: 0.4093 - accuracy: 0.8517 - val_loss: 0.4966 - val_accuracy: 0.8030\n",
            "Epoch 18/50\n",
            "102/102 [==============================] - 5s 44ms/step - loss: 0.4088 - accuracy: 0.8517 - val_loss: 0.5196 - val_accuracy: 0.8030\n",
            "Epoch 19/50\n",
            "102/102 [==============================] - 5s 44ms/step - loss: 0.4216 - accuracy: 0.8517 - val_loss: 0.5346 - val_accuracy: 0.8030\n",
            "Epoch 20/50\n",
            "102/102 [==============================] - 5s 47ms/step - loss: 0.4116 - accuracy: 0.8517 - val_loss: 0.4856 - val_accuracy: 0.8030\n",
            "Epoch 21/50\n",
            "102/102 [==============================] - 5s 45ms/step - loss: 0.4245 - accuracy: 0.8517 - val_loss: 0.5068 - val_accuracy: 0.8030\n",
            "Epoch 22/50\n",
            "102/102 [==============================] - 5s 44ms/step - loss: 0.4113 - accuracy: 0.8517 - val_loss: 0.5079 - val_accuracy: 0.8030\n",
            "Epoch 23/50\n",
            "102/102 [==============================] - 4s 43ms/step - loss: 0.4010 - accuracy: 0.8517 - val_loss: 0.5174 - val_accuracy: 0.8030\n",
            "Epoch 24/50\n",
            "102/102 [==============================] - 4s 40ms/step - loss: 0.4102 - accuracy: 0.8517 - val_loss: 0.5036 - val_accuracy: 0.8030\n",
            "Epoch 25/50\n",
            "102/102 [==============================] - 5s 45ms/step - loss: 0.4155 - accuracy: 0.8517 - val_loss: 0.4940 - val_accuracy: 0.8030\n",
            "Epoch 26/50\n",
            "102/102 [==============================] - 5s 46ms/step - loss: 0.4019 - accuracy: 0.8517 - val_loss: 0.4724 - val_accuracy: 0.8030\n",
            "Epoch 27/50\n",
            "102/102 [==============================] - 5s 45ms/step - loss: 0.4067 - accuracy: 0.8517 - val_loss: 0.4720 - val_accuracy: 0.8030\n",
            "Epoch 28/50\n",
            "102/102 [==============================] - 5s 45ms/step - loss: 0.4028 - accuracy: 0.8517 - val_loss: 0.5386 - val_accuracy: 0.8030\n",
            "Epoch 29/50\n",
            "102/102 [==============================] - 5s 47ms/step - loss: 0.4070 - accuracy: 0.8517 - val_loss: 0.5285 - val_accuracy: 0.8030\n",
            "Epoch 30/50\n",
            "102/102 [==============================] - 5s 45ms/step - loss: 0.4125 - accuracy: 0.8517 - val_loss: 0.4641 - val_accuracy: 0.8030\n",
            "Epoch 31/50\n",
            "102/102 [==============================] - 5s 45ms/step - loss: 0.4030 - accuracy: 0.8517 - val_loss: 0.5775 - val_accuracy: 0.8030\n",
            "Epoch 32/50\n",
            "102/102 [==============================] - 5s 48ms/step - loss: 0.4025 - accuracy: 0.8517 - val_loss: 0.5207 - val_accuracy: 0.8030\n",
            "Epoch 33/50\n",
            "102/102 [==============================] - 4s 40ms/step - loss: 0.4031 - accuracy: 0.8517 - val_loss: 0.5057 - val_accuracy: 0.8030\n",
            "Epoch 34/50\n",
            "102/102 [==============================] - 5s 45ms/step - loss: 0.4069 - accuracy: 0.8517 - val_loss: 0.5087 - val_accuracy: 0.8030\n",
            "Epoch 35/50\n",
            "102/102 [==============================] - 5s 46ms/step - loss: 0.4021 - accuracy: 0.8517 - val_loss: 0.4832 - val_accuracy: 0.8030\n",
            "Epoch 36/50\n",
            "102/102 [==============================] - 4s 40ms/step - loss: 0.4026 - accuracy: 0.8517 - val_loss: 0.4882 - val_accuracy: 0.8030\n",
            "Epoch 37/50\n",
            "102/102 [==============================] - 4s 40ms/step - loss: 0.3979 - accuracy: 0.8517 - val_loss: 0.4847 - val_accuracy: 0.8030\n",
            "Epoch 38/50\n",
            "102/102 [==============================] - 5s 45ms/step - loss: 0.3993 - accuracy: 0.8517 - val_loss: 0.5125 - val_accuracy: 0.8030\n",
            "Epoch 39/50\n",
            "102/102 [==============================] - 4s 41ms/step - loss: 0.3994 - accuracy: 0.8517 - val_loss: 0.4657 - val_accuracy: 0.8030\n",
            "Epoch 40/50\n",
            "102/102 [==============================] - 5s 45ms/step - loss: 0.4021 - accuracy: 0.8517 - val_loss: 0.5724 - val_accuracy: 0.8030\n",
            "Epoch 41/50\n",
            "102/102 [==============================] - 5s 45ms/step - loss: 0.3988 - accuracy: 0.8517 - val_loss: 0.4910 - val_accuracy: 0.8030\n",
            "Epoch 42/50\n",
            "102/102 [==============================] - 5s 46ms/step - loss: 0.3979 - accuracy: 0.8517 - val_loss: 0.4596 - val_accuracy: 0.8030\n",
            "Epoch 43/50\n",
            "102/102 [==============================] - 4s 40ms/step - loss: 0.4001 - accuracy: 0.8529 - val_loss: 0.5138 - val_accuracy: 0.8030\n",
            "Epoch 44/50\n",
            "102/102 [==============================] - 4s 41ms/step - loss: 0.3946 - accuracy: 0.8517 - val_loss: 0.4954 - val_accuracy: 0.8030\n",
            "Epoch 45/50\n",
            "102/102 [==============================] - 4s 42ms/step - loss: 0.3981 - accuracy: 0.8517 - val_loss: 0.4816 - val_accuracy: 0.8030\n",
            "Epoch 46/50\n",
            "102/102 [==============================] - 5s 45ms/step - loss: 0.4000 - accuracy: 0.8517 - val_loss: 0.5079 - val_accuracy: 0.8030\n",
            "Epoch 47/50\n",
            "102/102 [==============================] - 5s 45ms/step - loss: 0.3964 - accuracy: 0.8517 - val_loss: 0.4614 - val_accuracy: 0.8030\n",
            "Epoch 48/50\n",
            "102/102 [==============================] - 4s 42ms/step - loss: 0.4042 - accuracy: 0.8517 - val_loss: 0.5102 - val_accuracy: 0.8030\n",
            "Epoch 49/50\n",
            "102/102 [==============================] - 4s 40ms/step - loss: 0.3929 - accuracy: 0.8517 - val_loss: 0.5382 - val_accuracy: 0.8030\n",
            "Epoch 50/50\n",
            "102/102 [==============================] - 4s 40ms/step - loss: 0.3938 - accuracy: 0.8517 - val_loss: 0.4767 - val_accuracy: 0.8030\n"
          ]
        }
      ]
    },
    {
      "cell_type": "code",
      "source": [
        "plt.plot(history.history['loss'], label='train_loss')\n",
        "plt.plot(history.history['val_loss'], label='val_loss')\n",
        "plt.legend()\n",
        "plt.show()"
      ],
      "metadata": {
        "id": "qBvUSYCUao7t",
        "colab": {
          "base_uri": "https://localhost:8080/"
        },
        "outputId": "011d0a6d-7f04-44a9-b3e7-2e232bfca419"
      },
      "execution_count": null,
      "outputs": [
        {
          "output_type": "display_data",
          "data": {
            "text/plain": [
              "<Figure size 640x480 with 1 Axes>"
            ],
            "image/png": "[encoded data removed]"
          },
          "metadata": {}
        }
      ]
    },
    {
      "cell_type": "code",
      "source": [
        "history = model.fit(total_x, total_y, validation_split=0.2, epochs=100, verbose=1, batch_size=8)"
      ],
      "metadata": {
        "colab": {
          "base_uri": "https://localhost:8080/"
        },
        "id": "MhbIq7r4YN4b",
        "outputId": "7527419d-bd44-48d0-e76a-348f033a29fa"
      },
      "execution_count": null,
      "outputs": [
        {
          "output_type": "stream",
          "name": "stdout",
          "text": [
            "Epoch 1/100\n",
            "102/102 [==============================] - 5s 48ms/step - loss: 0.3939 - accuracy: 0.8517 - val_loss: 0.5189 - val_accuracy: 0.8030\n",
            "Epoch 2/100\n",
            "102/102 [==============================] - 4s 39ms/step - loss: 0.3905 - accuracy: 0.8517 - val_loss: 0.4793 - val_accuracy: 0.8030\n",
            "Epoch 3/100\n",
            "102/102 [==============================] - 4s 43ms/step - loss: 0.3970 - accuracy: 0.8504 - val_loss: 0.4634 - val_accuracy: 0.8030\n",
            "Epoch 4/100\n",
            "102/102 [==============================] - 4s 40ms/step - loss: 0.3934 - accuracy: 0.8517 - val_loss: 0.5095 - val_accuracy: 0.8030\n",
            "Epoch 5/100\n",
            "102/102 [==============================] - 4s 40ms/step - loss: 0.3918 - accuracy: 0.8517 - val_loss: 0.4702 - val_accuracy: 0.8030\n",
            "Epoch 6/100\n",
            "102/102 [==============================] - 5s 47ms/step - loss: 0.3944 - accuracy: 0.8517 - val_loss: 0.5017 - val_accuracy: 0.8030\n",
            "Epoch 7/100\n",
            "102/102 [==============================] - 5s 45ms/step - loss: 0.3948 - accuracy: 0.8517 - val_loss: 0.5435 - val_accuracy: 0.8030\n",
            "Epoch 8/100\n",
            "102/102 [==============================] - 4s 40ms/step - loss: 0.3917 - accuracy: 0.8529 - val_loss: 0.4684 - val_accuracy: 0.8030\n",
            "Epoch 9/100\n",
            "102/102 [==============================] - 5s 46ms/step - loss: 0.3959 - accuracy: 0.8517 - val_loss: 0.4923 - val_accuracy: 0.8030\n",
            "Epoch 10/100\n",
            "102/102 [==============================] - 5s 45ms/step - loss: 0.3903 - accuracy: 0.8517 - val_loss: 0.6030 - val_accuracy: 0.8030\n",
            "Epoch 11/100\n",
            "102/102 [==============================] - 4s 40ms/step - loss: 0.4083 - accuracy: 0.8517 - val_loss: 0.5756 - val_accuracy: 0.8030\n",
            "Epoch 12/100\n",
            "102/102 [==============================] - 5s 46ms/step - loss: 0.3913 - accuracy: 0.8541 - val_loss: 0.5235 - val_accuracy: 0.8030\n",
            "Epoch 13/100\n",
            "102/102 [==============================] - 5s 45ms/step - loss: 0.3914 - accuracy: 0.8517 - val_loss: 0.4847 - val_accuracy: 0.8030\n",
            "Epoch 14/100\n",
            "102/102 [==============================] - 5s 45ms/step - loss: 0.3949 - accuracy: 0.8517 - val_loss: 0.4988 - val_accuracy: 0.8030\n",
            "Epoch 15/100\n",
            "102/102 [==============================] - 5s 46ms/step - loss: 0.3907 - accuracy: 0.8517 - val_loss: 0.5153 - val_accuracy: 0.8030\n",
            "Epoch 16/100\n",
            "102/102 [==============================] - 5s 45ms/step - loss: 0.3896 - accuracy: 0.8517 - val_loss: 0.4986 - val_accuracy: 0.8030\n",
            "Epoch 17/100\n",
            "102/102 [==============================] - 4s 39ms/step - loss: 0.3865 - accuracy: 0.8517 - val_loss: 0.5123 - val_accuracy: 0.8030\n",
            "Epoch 18/100\n",
            "102/102 [==============================] - 5s 46ms/step - loss: 0.3919 - accuracy: 0.8529 - val_loss: 0.5162 - val_accuracy: 0.8030\n",
            "Epoch 19/100\n",
            "102/102 [==============================] - 4s 40ms/step - loss: 0.3889 - accuracy: 0.8517 - val_loss: 0.5315 - val_accuracy: 0.8030\n",
            "Epoch 20/100\n",
            "102/102 [==============================] - 5s 46ms/step - loss: 0.3898 - accuracy: 0.8517 - val_loss: 0.5053 - val_accuracy: 0.8030\n",
            "Epoch 21/100\n",
            "102/102 [==============================] - 5s 46ms/step - loss: 0.3907 - accuracy: 0.8529 - val_loss: 0.5118 - val_accuracy: 0.8030\n",
            "Epoch 22/100\n",
            "102/102 [==============================] - 5s 46ms/step - loss: 0.3861 - accuracy: 0.8529 - val_loss: 0.5076 - val_accuracy: 0.8030\n",
            "Epoch 23/100\n",
            "102/102 [==============================] - 4s 40ms/step - loss: 0.3878 - accuracy: 0.8517 - val_loss: 0.5635 - val_accuracy: 0.8030\n",
            "Epoch 24/100\n",
            "102/102 [==============================] - 5s 46ms/step - loss: 0.3855 - accuracy: 0.8504 - val_loss: 0.5694 - val_accuracy: 0.8030\n",
            "Epoch 25/100\n",
            "102/102 [==============================] - 4s 41ms/step - loss: 0.3905 - accuracy: 0.8529 - val_loss: 0.5584 - val_accuracy: 0.8030\n",
            "Epoch 26/100\n",
            "102/102 [==============================] - 5s 45ms/step - loss: 0.3861 - accuracy: 0.8529 - val_loss: 0.4619 - val_accuracy: 0.8030\n",
            "Epoch 27/100\n",
            "102/102 [==============================] - 5s 45ms/step - loss: 0.3906 - accuracy: 0.8541 - val_loss: 0.5130 - val_accuracy: 0.8030\n",
            "Epoch 28/100\n",
            "102/102 [==============================] - 4s 41ms/step - loss: 0.3870 - accuracy: 0.8541 - val_loss: 0.5603 - val_accuracy: 0.8030\n",
            "Epoch 29/100\n",
            "102/102 [==============================] - 5s 45ms/step - loss: 0.3867 - accuracy: 0.8492 - val_loss: 0.5325 - val_accuracy: 0.8030\n",
            "Epoch 30/100\n",
            "102/102 [==============================] - 5s 45ms/step - loss: 0.3879 - accuracy: 0.8504 - val_loss: 0.5367 - val_accuracy: 0.8030\n",
            "Epoch 31/100\n",
            "102/102 [==============================] - 4s 41ms/step - loss: 0.3895 - accuracy: 0.8517 - val_loss: 0.5064 - val_accuracy: 0.8030\n",
            "Epoch 32/100\n",
            "102/102 [==============================] - 5s 45ms/step - loss: 0.3854 - accuracy: 0.8517 - val_loss: 0.5099 - val_accuracy: 0.8030\n",
            "Epoch 33/100\n",
            "102/102 [==============================] - 5s 45ms/step - loss: 0.3886 - accuracy: 0.8517 - val_loss: 0.5447 - val_accuracy: 0.8030\n",
            "Epoch 34/100\n",
            "102/102 [==============================] - 5s 46ms/step - loss: 0.3847 - accuracy: 0.8517 - val_loss: 0.5618 - val_accuracy: 0.8030\n",
            "Epoch 35/100\n",
            "102/102 [==============================] - 5s 44ms/step - loss: 0.3823 - accuracy: 0.8529 - val_loss: 0.4420 - val_accuracy: 0.8030\n",
            "Epoch 36/100\n",
            "102/102 [==============================] - 5s 45ms/step - loss: 0.3929 - accuracy: 0.8541 - val_loss: 0.6069 - val_accuracy: 0.8030\n",
            "Epoch 37/100\n",
            "102/102 [==============================] - 4s 41ms/step - loss: 0.3851 - accuracy: 0.8517 - val_loss: 0.4967 - val_accuracy: 0.8030\n",
            "Epoch 38/100\n",
            "102/102 [==============================] - 4s 40ms/step - loss: 0.3831 - accuracy: 0.8529 - val_loss: 0.4784 - val_accuracy: 0.8030\n",
            "Epoch 39/100\n",
            "102/102 [==============================] - 5s 45ms/step - loss: 0.3845 - accuracy: 0.8529 - val_loss: 0.5101 - val_accuracy: 0.8030\n",
            "Epoch 40/100\n",
            "102/102 [==============================] - 5s 47ms/step - loss: 0.3873 - accuracy: 0.8529 - val_loss: 0.5378 - val_accuracy: 0.8030\n",
            "Epoch 41/100\n",
            "102/102 [==============================] - 5s 44ms/step - loss: 0.3820 - accuracy: 0.8517 - val_loss: 0.6786 - val_accuracy: 0.8030\n",
            "Epoch 42/100\n",
            "102/102 [==============================] - 5s 45ms/step - loss: 0.3938 - accuracy: 0.8504 - val_loss: 0.4967 - val_accuracy: 0.8030\n",
            "Epoch 43/100\n",
            "102/102 [==============================] - 5s 47ms/step - loss: 0.3817 - accuracy: 0.8517 - val_loss: 0.5145 - val_accuracy: 0.8030\n",
            "Epoch 44/100\n",
            "102/102 [==============================] - 4s 40ms/step - loss: 0.3799 - accuracy: 0.8504 - val_loss: 0.5571 - val_accuracy: 0.8030\n",
            "Epoch 45/100\n",
            "102/102 [==============================] - 4s 40ms/step - loss: 0.3850 - accuracy: 0.8554 - val_loss: 0.5157 - val_accuracy: 0.8030\n",
            "Epoch 46/100\n",
            "102/102 [==============================] - 5s 48ms/step - loss: 0.3819 - accuracy: 0.8541 - val_loss: 0.4439 - val_accuracy: 0.8030\n",
            "Epoch 47/100\n",
            "102/102 [==============================] - 4s 40ms/step - loss: 0.3959 - accuracy: 0.8529 - val_loss: 0.5881 - val_accuracy: 0.8030\n",
            "Epoch 48/100\n",
            "102/102 [==============================] - 5s 45ms/step - loss: 0.3941 - accuracy: 0.8517 - val_loss: 0.5000 - val_accuracy: 0.8030\n",
            "Epoch 49/100\n",
            "102/102 [==============================] - 5s 47ms/step - loss: 0.3848 - accuracy: 0.8554 - val_loss: 0.5409 - val_accuracy: 0.8030\n",
            "Epoch 50/100\n",
            "102/102 [==============================] - 5s 45ms/step - loss: 0.3800 - accuracy: 0.8541 - val_loss: 0.5244 - val_accuracy: 0.8030\n",
            "Epoch 51/100\n",
            "102/102 [==============================] - 5s 45ms/step - loss: 0.3821 - accuracy: 0.8517 - val_loss: 0.5412 - val_accuracy: 0.8030\n",
            "Epoch 52/100\n",
            "102/102 [==============================] - 4s 42ms/step - loss: 0.3820 - accuracy: 0.8541 - val_loss: 0.5735 - val_accuracy: 0.8030\n",
            "Epoch 53/100\n",
            "102/102 [==============================] - 5s 45ms/step - loss: 0.3879 - accuracy: 0.8529 - val_loss: 0.4792 - val_accuracy: 0.8030\n",
            "Epoch 54/100\n",
            "102/102 [==============================] - 4s 40ms/step - loss: 0.3829 - accuracy: 0.8517 - val_loss: 0.5317 - val_accuracy: 0.8030\n",
            "Epoch 55/100\n",
            "102/102 [==============================] - 4s 42ms/step - loss: 0.3849 - accuracy: 0.8541 - val_loss: 0.4790 - val_accuracy: 0.8030\n",
            "Epoch 56/100\n",
            "102/102 [==============================] - 4s 41ms/step - loss: 0.3822 - accuracy: 0.8529 - val_loss: 0.4836 - val_accuracy: 0.8030\n",
            "Epoch 57/100\n",
            "102/102 [==============================] - 4s 40ms/step - loss: 0.3802 - accuracy: 0.8566 - val_loss: 0.5421 - val_accuracy: 0.8030\n",
            "Epoch 58/100\n",
            "102/102 [==============================] - 5s 45ms/step - loss: 0.3799 - accuracy: 0.8504 - val_loss: 0.4974 - val_accuracy: 0.8030\n",
            "Epoch 59/100\n",
            "102/102 [==============================] - 5s 47ms/step - loss: 0.3856 - accuracy: 0.8541 - val_loss: 0.5634 - val_accuracy: 0.8030\n",
            "Epoch 60/100\n",
            "102/102 [==============================] - 5s 45ms/step - loss: 0.3802 - accuracy: 0.8517 - val_loss: 0.5035 - val_accuracy: 0.8030\n",
            "Epoch 61/100\n",
            "102/102 [==============================] - 5s 45ms/step - loss: 0.3771 - accuracy: 0.8529 - val_loss: 0.5350 - val_accuracy: 0.8030\n",
            "Epoch 62/100\n",
            "102/102 [==============================] - 4s 41ms/step - loss: 0.3804 - accuracy: 0.8517 - val_loss: 0.5010 - val_accuracy: 0.8030\n",
            "Epoch 63/100\n",
            "102/102 [==============================] - 5s 45ms/step - loss: 0.3779 - accuracy: 0.8541 - val_loss: 0.5689 - val_accuracy: 0.8030\n",
            "Epoch 64/100\n",
            "102/102 [==============================] - 5s 45ms/step - loss: 0.3815 - accuracy: 0.8554 - val_loss: 0.5245 - val_accuracy: 0.8030\n",
            "Epoch 65/100\n",
            "102/102 [==============================] - 5s 46ms/step - loss: 0.3797 - accuracy: 0.8554 - val_loss: 0.5268 - val_accuracy: 0.8030\n",
            "Epoch 66/100\n",
            "102/102 [==============================] - 5s 45ms/step - loss: 0.3798 - accuracy: 0.8541 - val_loss: 0.5016 - val_accuracy: 0.8030\n",
            "Epoch 67/100\n",
            "102/102 [==============================] - 4s 41ms/step - loss: 0.3791 - accuracy: 0.8541 - val_loss: 0.5951 - val_accuracy: 0.8030\n",
            "Epoch 68/100\n",
            "102/102 [==============================] - 5s 47ms/step - loss: 0.3823 - accuracy: 0.8504 - val_loss: 0.4870 - val_accuracy: 0.8030\n",
            "Epoch 69/100\n",
            "102/102 [==============================] - 4s 40ms/step - loss: 0.3802 - accuracy: 0.8541 - val_loss: 0.5245 - val_accuracy: 0.8030\n",
            "Epoch 70/100\n",
            "102/102 [==============================] - 4s 40ms/step - loss: 0.3807 - accuracy: 0.8529 - val_loss: 0.5275 - val_accuracy: 0.8030\n",
            "Epoch 71/100\n",
            "102/102 [==============================] - 5s 47ms/step - loss: 0.3757 - accuracy: 0.8554 - val_loss: 0.5552 - val_accuracy: 0.8030\n",
            "Epoch 72/100\n",
            "102/102 [==============================] - 5s 45ms/step - loss: 0.3751 - accuracy: 0.8517 - val_loss: 0.4705 - val_accuracy: 0.8030\n",
            "Epoch 73/100\n",
            "102/102 [==============================] - 5s 45ms/step - loss: 0.3812 - accuracy: 0.8541 - val_loss: 0.5120 - val_accuracy: 0.8030\n",
            "Epoch 74/100\n",
            "102/102 [==============================] - 4s 42ms/step - loss: 0.3766 - accuracy: 0.8554 - val_loss: 0.5439 - val_accuracy: 0.8030\n",
            "Epoch 75/100\n",
            "102/102 [==============================] - 4s 39ms/step - loss: 0.3772 - accuracy: 0.8541 - val_loss: 0.4809 - val_accuracy: 0.8030\n",
            "Epoch 76/100\n",
            "102/102 [==============================] - 5s 45ms/step - loss: 0.3842 - accuracy: 0.8529 - val_loss: 0.5490 - val_accuracy: 0.8030\n",
            "Epoch 77/100\n",
            "102/102 [==============================] - 5s 46ms/step - loss: 0.3791 - accuracy: 0.8541 - val_loss: 0.4923 - val_accuracy: 0.8030\n",
            "Epoch 78/100\n",
            "102/102 [==============================] - 5s 45ms/step - loss: 0.3801 - accuracy: 0.8541 - val_loss: 0.4723 - val_accuracy: 0.8030\n",
            "Epoch 79/100\n",
            "102/102 [==============================] - 5s 45ms/step - loss: 0.3811 - accuracy: 0.8554 - val_loss: 0.4514 - val_accuracy: 0.8030\n",
            "Epoch 80/100\n",
            "102/102 [==============================] - 5s 47ms/step - loss: 0.3845 - accuracy: 0.8554 - val_loss: 0.5324 - val_accuracy: 0.8030\n",
            "Epoch 81/100\n",
            "102/102 [==============================] - 5s 45ms/step - loss: 0.3793 - accuracy: 0.8554 - val_loss: 0.5171 - val_accuracy: 0.8030\n",
            "Epoch 82/100\n",
            "102/102 [==============================] - 4s 40ms/step - loss: 0.3790 - accuracy: 0.8529 - val_loss: 0.4988 - val_accuracy: 0.8030\n",
            "Epoch 83/100\n",
            "102/102 [==============================] - 4s 42ms/step - loss: 0.3702 - accuracy: 0.8616 - val_loss: 0.4882 - val_accuracy: 0.8030\n",
            "Epoch 84/100\n",
            "102/102 [==============================] - 4s 41ms/step - loss: 0.3845 - accuracy: 0.8566 - val_loss: 0.5434 - val_accuracy: 0.8030\n",
            "Epoch 85/100\n",
            "102/102 [==============================] - 4s 40ms/step - loss: 0.3764 - accuracy: 0.8554 - val_loss: 0.4649 - val_accuracy: 0.8030\n",
            "Epoch 86/100\n",
            "102/102 [==============================] - 4s 41ms/step - loss: 0.3767 - accuracy: 0.8554 - val_loss: 0.5800 - val_accuracy: 0.8030\n",
            "Epoch 87/100\n",
            "102/102 [==============================] - 4s 42ms/step - loss: 0.3770 - accuracy: 0.8554 - val_loss: 0.5260 - val_accuracy: 0.8030\n",
            "Epoch 88/100\n",
            "102/102 [==============================] - 5s 45ms/step - loss: 0.3799 - accuracy: 0.8554 - val_loss: 0.5009 - val_accuracy: 0.8030\n",
            "Epoch 89/100\n",
            "102/102 [==============================] - 5s 45ms/step - loss: 0.3764 - accuracy: 0.8554 - val_loss: 0.4901 - val_accuracy: 0.8030\n",
            "Epoch 90/100\n",
            "102/102 [==============================] - 4s 42ms/step - loss: 0.3824 - accuracy: 0.8554 - val_loss: 0.5181 - val_accuracy: 0.8030\n",
            "Epoch 91/100\n",
            "102/102 [==============================] - 5s 45ms/step - loss: 0.3808 - accuracy: 0.8566 - val_loss: 0.5969 - val_accuracy: 0.8030\n",
            "Epoch 92/100\n",
            "102/102 [==============================] - 5s 45ms/step - loss: 0.3751 - accuracy: 0.8517 - val_loss: 0.4578 - val_accuracy: 0.8030\n",
            "Epoch 93/100\n",
            "102/102 [==============================] - 5s 48ms/step - loss: 0.3823 - accuracy: 0.8578 - val_loss: 0.4620 - val_accuracy: 0.8030\n",
            "Epoch 94/100\n",
            "102/102 [==============================] - 5s 45ms/step - loss: 0.3776 - accuracy: 0.8566 - val_loss: 0.4814 - val_accuracy: 0.8030\n",
            "Epoch 95/100\n",
            "102/102 [==============================] - 5s 45ms/step - loss: 0.3822 - accuracy: 0.8578 - val_loss: 0.4858 - val_accuracy: 0.8030\n",
            "Epoch 96/100\n",
            "102/102 [==============================] - 4s 42ms/step - loss: 0.3736 - accuracy: 0.8541 - val_loss: 0.5267 - val_accuracy: 0.8030\n",
            "Epoch 97/100\n",
            "102/102 [==============================] - 5s 45ms/step - loss: 0.3760 - accuracy: 0.8541 - val_loss: 0.4952 - val_accuracy: 0.8030\n",
            "Epoch 98/100\n",
            "102/102 [==============================] - 4s 40ms/step - loss: 0.3711 - accuracy: 0.8554 - val_loss: 0.6025 - val_accuracy: 0.8030\n",
            "Epoch 99/100\n",
            "102/102 [==============================] - 4s 43ms/step - loss: 0.3780 - accuracy: 0.8566 - val_loss: 0.4747 - val_accuracy: 0.8030\n",
            "Epoch 100/100\n",
            "102/102 [==============================] - 4s 40ms/step - loss: 0.3689 - accuracy: 0.8554 - val_loss: 0.4947 - val_accuracy: 0.8030\n"
          ]
        }
      ]
    },
    {
      "cell_type": "code",
      "source": [
        "plt.plot(history.history['loss'], label='train_loss')\n",
        "plt.plot(history.history['val_loss'], label='val_loss')\n",
        "plt.legend()\n",
        "plt.show()\n",
        "model.save('transistor_cnn.h5')"
      ],
      "metadata": {
        "colab": {
          "base_uri": "https://localhost:8080/",
          "height": 430
        },
        "id": "dnBWyEKSaFTc",
        "outputId": "3b7e17ac-490d-4f06-9940-00ffb4c13bfc"
      },
      "execution_count": null,
      "outputs": [
        {
          "output_type": "display_data",
          "data": {
            "text/plain": [
              "<Figure size 640x480 with 1 Axes>"
            ],
            "image/png": "[encoded data removed]"
          },
          "metadata": {}
        }
      ]
    }
  ]
}