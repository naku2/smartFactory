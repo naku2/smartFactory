{
  "nbformat": 4,
  "nbformat_minor": 0,
  "metadata": {
    "colab": {
      "provenance": [],
      "mount_file_id": "1DvG8UiTH9iAq7UH9VpH5MFXcUTeqSq1S",
      "authorship_tag": "ABX9TyPBHdy9cs/UQsCvB83aBYpl",
      "include_colab_link": true
    },
    "kernelspec": {
      "name": "python3",
      "display_name": "Python 3"
    },
    "language_info": {
      "name": "python"
    }
  },
  "cells": [
    {
      "cell_type": "markdown",
      "metadata": {
        "id": "view-in-github",
        "colab_type": "text"
      },
      "source": [
        "<a href=\"https://colab.research.google.com/github/naku2/smartFactory/blob/main/MVtech_leenakkyu.ipynb\" target=\"_parent\"><img src=\"https://colab.research.google.com/assets/colab-badge.svg\" alt=\"Open In Colab\"/></a>"
      ]
    },
    {
      "cell_type": "markdown",
      "source": [
        "## 데이터 불러오기 & 전처리"
      ],
      "metadata": {
        "id": "EA07gdNd42iY"
      }
    },
    {
      "cell_type": "markdown",
      "source": [
        "Import"
      ],
      "metadata": {
        "id": "hgGQAd5O46DB"
      }
    },
    {
      "cell_type": "code",
      "execution_count": null,
      "metadata": {
        "id": "66ONIR3h4w2G"
      },
      "outputs": [],
      "source": [
        "%matplotlib inline\n",
        "import numpy as np\n",
        "import pandas as pd\n",
        "import matplotlib.pyplot as plt\n",
        "import tensorflow as tf\n",
        "import os\n",
        "import math\n",
        "from tensorflow import keras\n",
        "from keras import optimizers\n",
        "from keras.utils import plot_model\n",
        "from keras.models import Sequential\n",
        "from keras.layers import Input, Conv2D, Dense, Flatten, MaxPooling2D\n",
        "from sklearn.metrics import mean_squared_error\n",
        "from sklearn.model_selection import train_test_split\n",
        "from PIL import Image"
      ]
    },
    {
      "cell_type": "code",
      "source": [
        "#good images 불러온 후 전처리\n",
        "input_folder = '/content/drive/MyDrive/SK/transistor/train/good'\n",
        "output_folder = '/content/drive/MyDrive/SK/transistor/train/good_scaled'\n",
        "\n",
        "image_files = os.listdir(input_folder)\n",
        "\n",
        "for image_file in image_files:\n",
        "  image_path = os.path.join(input_folder, image_file)\n",
        "\n",
        "  image = Image.open(image_path)\n",
        "\n",
        "  resized_image = image.resize((224, 224))\n",
        "\n",
        "  image_array = np.array(resized_image)\n",
        "\n",
        "  scaled_image_array = image_array / 255.0\n",
        "\n",
        "  output_path = os.path.join(output_folder, image_file)\n",
        "\n",
        "  np.save(output_path, scaled_image_array)\n",
        "\n",
        "  image.close()"
      ],
      "metadata": {
        "id": "EbMVYpNp5AWq"
      },
      "execution_count": null,
      "outputs": []
    },
    {
      "cell_type": "code",
      "source": [
        "#output_files 함께 선언\n",
        "output_files = os.listdir(output_folder)"
      ],
      "metadata": {
        "id": "2mp4GmiT5OVD"
      },
      "execution_count": null,
      "outputs": []
    },
    {
      "cell_type": "code",
      "source": [
        "#data 확인\n",
        "scaled_image_array.dtype"
      ],
      "metadata": {
        "colab": {
          "base_uri": "https://localhost:8080/"
        },
        "id": "E84GY81q5pGP",
        "outputId": "56c41d3f-e185-42a0-fcc1-b37eee904e88"
      },
      "execution_count": null,
      "outputs": [
        {
          "output_type": "execute_result",
          "data": {
            "text/plain": [
              "dtype('float64')"
            ]
          },
          "metadata": {},
          "execution_count": 13
        }
      ]
    },
    {
      "cell_type": "markdown",
      "source": [
        "## 데이터 라벨링"
      ],
      "metadata": {
        "id": "gA8cFlvB6GVf"
      }
    },
    {
      "cell_type": "code",
      "source": [
        "for output_file in output_files:\n",
        "  print(output_file)"
      ],
      "metadata": {
        "colab": {
          "base_uri": "https://localhost:8080/"
        },
        "id": "qhDZT4se56AQ",
        "outputId": "8b729cae-29ce-44df-e7cf-c44cd8f90e8b"
      },
      "execution_count": null,
      "outputs": [
        {
          "output_type": "stream",
          "name": "stdout",
          "text": [
            "010.png.npy\n",
            "020.png.npy\n",
            "006.png.npy\n",
            "014.png.npy\n",
            "031.png.npy\n",
            "028.png.npy\n",
            "033.png.npy\n",
            "034.png.npy\n",
            "002.png.npy\n",
            "017.png.npy\n",
            "023.png.npy\n",
            "004.png.npy\n",
            "032.png.npy\n",
            "008.png.npy\n",
            "005.png.npy\n",
            "035.png.npy\n",
            "019.png.npy\n",
            "025.png.npy\n",
            "036.png.npy\n",
            "029.png.npy\n",
            "011.png.npy\n",
            "021.png.npy\n",
            "000.png.npy\n",
            "003.png.npy\n",
            "001.png.npy\n",
            "016.png.npy\n",
            "039.png.npy\n",
            "038.png.npy\n",
            "026.png.npy\n",
            "037.png.npy\n",
            "015.png.npy\n",
            "009.png.npy\n",
            "022.png.npy\n",
            "024.png.npy\n",
            "018.png.npy\n",
            "027.png.npy\n",
            "013.png.npy\n",
            "030.png.npy\n",
            "007.png.npy\n",
            "012.png.npy\n",
            "055.png.npy\n",
            "075.png.npy\n",
            "060.png.npy\n",
            "099.png.npy\n",
            "071.png.npy\n",
            "062.png.npy\n",
            "083.png.npy\n",
            "079.png.npy\n",
            "111.png.npy\n",
            "105.png.npy\n",
            "053.png.npy\n",
            "089.png.npy\n",
            "051.png.npy\n",
            "047.png.npy\n",
            "091.png.npy\n",
            "101.png.npy\n",
            "104.png.npy\n",
            "057.png.npy\n",
            "063.png.npy\n",
            "068.png.npy\n",
            "056.png.npy\n",
            "084.png.npy\n",
            "058.png.npy\n",
            "078.png.npy\n",
            "113.png.npy\n",
            "082.png.npy\n",
            "043.png.npy\n",
            "102.png.npy\n",
            "112.png.npy\n",
            "065.png.npy\n",
            "054.png.npy\n",
            "103.png.npy\n",
            "059.png.npy\n",
            "052.png.npy\n",
            "085.png.npy\n",
            "086.png.npy\n",
            "046.png.npy\n",
            "110.png.npy\n",
            "092.png.npy\n",
            "044.png.npy\n",
            "088.png.npy\n",
            "080.png.npy\n",
            "050.png.npy\n",
            "109.png.npy\n",
            "087.png.npy\n",
            "069.png.npy\n",
            "072.png.npy\n",
            "081.png.npy\n",
            "074.png.npy\n",
            "106.png.npy\n",
            "041.png.npy\n",
            "076.png.npy\n",
            "095.png.npy\n",
            "061.png.npy\n",
            "077.png.npy\n",
            "070.png.npy\n",
            "064.png.npy\n",
            "096.png.npy\n",
            "093.png.npy\n",
            "049.png.npy\n",
            "107.png.npy\n",
            "073.png.npy\n",
            "067.png.npy\n",
            "097.png.npy\n",
            "040.png.npy\n",
            "048.png.npy\n",
            "066.png.npy\n",
            "098.png.npy\n",
            "045.png.npy\n",
            "100.png.npy\n",
            "090.png.npy\n",
            "042.png.npy\n",
            "108.png.npy\n",
            "094.png.npy\n",
            "194.png.npy\n",
            "122.png.npy\n",
            "192.png.npy\n",
            "141.png.npy\n",
            "176.png.npy\n",
            "121.png.npy\n",
            "165.png.npy\n",
            "142.png.npy\n",
            "164.png.npy\n",
            "116.png.npy\n",
            "172.png.npy\n",
            "126.png.npy\n",
            "145.png.npy\n",
            "166.png.npy\n",
            "159.png.npy\n",
            "138.png.npy\n",
            "154.png.npy\n",
            "152.png.npy\n",
            "171.png.npy\n",
            "117.png.npy\n",
            "162.png.npy\n",
            "183.png.npy\n",
            "135.png.npy\n",
            "185.png.npy\n",
            "114.png.npy\n",
            "151.png.npy\n",
            "149.png.npy\n",
            "179.png.npy\n",
            "129.png.npy\n",
            "157.png.npy\n",
            "119.png.npy\n",
            "128.png.npy\n",
            "124.png.npy\n",
            "177.png.npy\n",
            "147.png.npy\n",
            "193.png.npy\n",
            "195.png.npy\n",
            "146.png.npy\n",
            "120.png.npy\n",
            "115.png.npy\n",
            "148.png.npy\n",
            "168.png.npy\n",
            "127.png.npy\n",
            "191.png.npy\n",
            "161.png.npy\n",
            "140.png.npy\n",
            "130.png.npy\n",
            "188.png.npy\n",
            "169.png.npy\n",
            "180.png.npy\n",
            "167.png.npy\n",
            "174.png.npy\n",
            "150.png.npy\n",
            "132.png.npy\n",
            "125.png.npy\n",
            "175.png.npy\n",
            "144.png.npy\n",
            "186.png.npy\n",
            "118.png.npy\n",
            "190.png.npy\n",
            "155.png.npy\n",
            "182.png.npy\n",
            "189.png.npy\n",
            "123.png.npy\n",
            "153.png.npy\n",
            "131.png.npy\n",
            "139.png.npy\n",
            "160.png.npy\n",
            "143.png.npy\n",
            "170.png.npy\n",
            "187.png.npy\n",
            "173.png.npy\n",
            "163.png.npy\n",
            "136.png.npy\n",
            "178.png.npy\n",
            "137.png.npy\n",
            "158.png.npy\n",
            "133.png.npy\n",
            "181.png.npy\n",
            "184.png.npy\n",
            "134.png.npy\n",
            "156.png.npy\n",
            "201.png.npy\n",
            "206.png.npy\n",
            "209.png.npy\n",
            "207.png.npy\n",
            "205.png.npy\n",
            "196.png.npy\n",
            "198.png.npy\n",
            "204.png.npy\n",
            "197.png.npy\n",
            "202.png.npy\n",
            "212.png.npy\n",
            "199.png.npy\n",
            "210.png.npy\n",
            "211.png.npy\n",
            "200.png.npy\n",
            "203.png.npy\n",
            "208.png.npy\n"
          ]
        }
      ]
    },
    {
      "cell_type": "code",
      "source": [
        "# 0 = 'good'으로 라벨링\n",
        "import csv\n",
        "\n",
        "label_file = \"label_files.csv\"\n",
        "\n",
        "fieldnames = [\"filename\", \"label\"]\n",
        "\n",
        "label_data = []\n",
        "\n",
        "for output_file in output_files:\n",
        "  label_data.append({\"filename\": output_file, \"label\": int(0)})\n",
        "\n",
        "with open(label_file, 'w', newline='') as f:\n",
        "  writer = csv.DictWriter(f, fieldnames=fieldnames)\n",
        "  writer.writeheader()\n",
        "  writer.writerows(label_data)\n"
      ],
      "metadata": {
        "id": "EB32jc4a6LHR"
      },
      "execution_count": null,
      "outputs": []
    },
    {
      "cell_type": "code",
      "source": [
        "print(label_data)"
      ],
      "metadata": {
        "colab": {
          "base_uri": "https://localhost:8080/"
        },
        "id": "StdouY3I6Yi1",
        "outputId": "bdc4a4d6-ed86-488e-f9e8-dc798c2a89f6"
      },
      "execution_count": null,
      "outputs": [
        {
          "output_type": "stream",
          "name": "stdout",
          "text": [
            "[{'filename': '010.png.npy', 'label': 0}, {'filename': '020.png.npy', 'label': 0}, {'filename': '006.png.npy', 'label': 0}, {'filename': '014.png.npy', 'label': 0}, {'filename': '031.png.npy', 'label': 0}, {'filename': '028.png.npy', 'label': 0}, {'filename': '033.png.npy', 'label': 0}, {'filename': '034.png.npy', 'label': 0}, {'filename': '002.png.npy', 'label': 0}, {'filename': '017.png.npy', 'label': 0}, {'filename': '023.png.npy', 'label': 0}, {'filename': '004.png.npy', 'label': 0}, {'filename': '032.png.npy', 'label': 0}, {'filename': '008.png.npy', 'label': 0}, {'filename': '005.png.npy', 'label': 0}, {'filename': '035.png.npy', 'label': 0}, {'filename': '019.png.npy', 'label': 0}, {'filename': '025.png.npy', 'label': 0}, {'filename': '036.png.npy', 'label': 0}, {'filename': '029.png.npy', 'label': 0}, {'filename': '011.png.npy', 'label': 0}, {'filename': '021.png.npy', 'label': 0}, {'filename': '000.png.npy', 'label': 0}, {'filename': '003.png.npy', 'label': 0}, {'filename': '001.png.npy', 'label': 0}, {'filename': '016.png.npy', 'label': 0}, {'filename': '039.png.npy', 'label': 0}, {'filename': '038.png.npy', 'label': 0}, {'filename': '026.png.npy', 'label': 0}, {'filename': '037.png.npy', 'label': 0}, {'filename': '015.png.npy', 'label': 0}, {'filename': '009.png.npy', 'label': 0}, {'filename': '022.png.npy', 'label': 0}, {'filename': '024.png.npy', 'label': 0}, {'filename': '018.png.npy', 'label': 0}, {'filename': '027.png.npy', 'label': 0}, {'filename': '013.png.npy', 'label': 0}, {'filename': '030.png.npy', 'label': 0}, {'filename': '007.png.npy', 'label': 0}, {'filename': '012.png.npy', 'label': 0}, {'filename': '055.png.npy', 'label': 0}, {'filename': '075.png.npy', 'label': 0}, {'filename': '060.png.npy', 'label': 0}, {'filename': '099.png.npy', 'label': 0}, {'filename': '071.png.npy', 'label': 0}, {'filename': '062.png.npy', 'label': 0}, {'filename': '083.png.npy', 'label': 0}, {'filename': '079.png.npy', 'label': 0}, {'filename': '111.png.npy', 'label': 0}, {'filename': '105.png.npy', 'label': 0}, {'filename': '053.png.npy', 'label': 0}, {'filename': '089.png.npy', 'label': 0}, {'filename': '051.png.npy', 'label': 0}, {'filename': '047.png.npy', 'label': 0}, {'filename': '091.png.npy', 'label': 0}, {'filename': '101.png.npy', 'label': 0}, {'filename': '104.png.npy', 'label': 0}, {'filename': '057.png.npy', 'label': 0}, {'filename': '063.png.npy', 'label': 0}, {'filename': '068.png.npy', 'label': 0}, {'filename': '056.png.npy', 'label': 0}, {'filename': '084.png.npy', 'label': 0}, {'filename': '058.png.npy', 'label': 0}, {'filename': '078.png.npy', 'label': 0}, {'filename': '113.png.npy', 'label': 0}, {'filename': '082.png.npy', 'label': 0}, {'filename': '043.png.npy', 'label': 0}, {'filename': '102.png.npy', 'label': 0}, {'filename': '112.png.npy', 'label': 0}, {'filename': '065.png.npy', 'label': 0}, {'filename': '054.png.npy', 'label': 0}, {'filename': '103.png.npy', 'label': 0}, {'filename': '059.png.npy', 'label': 0}, {'filename': '052.png.npy', 'label': 0}, {'filename': '085.png.npy', 'label': 0}, {'filename': '086.png.npy', 'label': 0}, {'filename': '046.png.npy', 'label': 0}, {'filename': '110.png.npy', 'label': 0}, {'filename': '092.png.npy', 'label': 0}, {'filename': '044.png.npy', 'label': 0}, {'filename': '088.png.npy', 'label': 0}, {'filename': '080.png.npy', 'label': 0}, {'filename': '050.png.npy', 'label': 0}, {'filename': '109.png.npy', 'label': 0}, {'filename': '087.png.npy', 'label': 0}, {'filename': '069.png.npy', 'label': 0}, {'filename': '072.png.npy', 'label': 0}, {'filename': '081.png.npy', 'label': 0}, {'filename': '074.png.npy', 'label': 0}, {'filename': '106.png.npy', 'label': 0}, {'filename': '041.png.npy', 'label': 0}, {'filename': '076.png.npy', 'label': 0}, {'filename': '095.png.npy', 'label': 0}, {'filename': '061.png.npy', 'label': 0}, {'filename': '077.png.npy', 'label': 0}, {'filename': '070.png.npy', 'label': 0}, {'filename': '064.png.npy', 'label': 0}, {'filename': '096.png.npy', 'label': 0}, {'filename': '093.png.npy', 'label': 0}, {'filename': '049.png.npy', 'label': 0}, {'filename': '107.png.npy', 'label': 0}, {'filename': '073.png.npy', 'label': 0}, {'filename': '067.png.npy', 'label': 0}, {'filename': '097.png.npy', 'label': 0}, {'filename': '040.png.npy', 'label': 0}, {'filename': '048.png.npy', 'label': 0}, {'filename': '066.png.npy', 'label': 0}, {'filename': '098.png.npy', 'label': 0}, {'filename': '045.png.npy', 'label': 0}, {'filename': '100.png.npy', 'label': 0}, {'filename': '090.png.npy', 'label': 0}, {'filename': '042.png.npy', 'label': 0}, {'filename': '108.png.npy', 'label': 0}, {'filename': '094.png.npy', 'label': 0}, {'filename': '194.png.npy', 'label': 0}, {'filename': '122.png.npy', 'label': 0}, {'filename': '192.png.npy', 'label': 0}, {'filename': '141.png.npy', 'label': 0}, {'filename': '176.png.npy', 'label': 0}, {'filename': '121.png.npy', 'label': 0}, {'filename': '165.png.npy', 'label': 0}, {'filename': '142.png.npy', 'label': 0}, {'filename': '164.png.npy', 'label': 0}, {'filename': '116.png.npy', 'label': 0}, {'filename': '172.png.npy', 'label': 0}, {'filename': '126.png.npy', 'label': 0}, {'filename': '145.png.npy', 'label': 0}, {'filename': '166.png.npy', 'label': 0}, {'filename': '159.png.npy', 'label': 0}, {'filename': '138.png.npy', 'label': 0}, {'filename': '154.png.npy', 'label': 0}, {'filename': '152.png.npy', 'label': 0}, {'filename': '171.png.npy', 'label': 0}, {'filename': '117.png.npy', 'label': 0}, {'filename': '162.png.npy', 'label': 0}, {'filename': '183.png.npy', 'label': 0}, {'filename': '135.png.npy', 'label': 0}, {'filename': '185.png.npy', 'label': 0}, {'filename': '114.png.npy', 'label': 0}, {'filename': '151.png.npy', 'label': 0}, {'filename': '149.png.npy', 'label': 0}, {'filename': '179.png.npy', 'label': 0}, {'filename': '129.png.npy', 'label': 0}, {'filename': '157.png.npy', 'label': 0}, {'filename': '119.png.npy', 'label': 0}, {'filename': '128.png.npy', 'label': 0}, {'filename': '124.png.npy', 'label': 0}, {'filename': '177.png.npy', 'label': 0}, {'filename': '147.png.npy', 'label': 0}, {'filename': '193.png.npy', 'label': 0}, {'filename': '195.png.npy', 'label': 0}, {'filename': '146.png.npy', 'label': 0}, {'filename': '120.png.npy', 'label': 0}, {'filename': '115.png.npy', 'label': 0}, {'filename': '148.png.npy', 'label': 0}, {'filename': '168.png.npy', 'label': 0}, {'filename': '127.png.npy', 'label': 0}, {'filename': '191.png.npy', 'label': 0}, {'filename': '161.png.npy', 'label': 0}, {'filename': '140.png.npy', 'label': 0}, {'filename': '130.png.npy', 'label': 0}, {'filename': '188.png.npy', 'label': 0}, {'filename': '169.png.npy', 'label': 0}, {'filename': '180.png.npy', 'label': 0}, {'filename': '167.png.npy', 'label': 0}, {'filename': '174.png.npy', 'label': 0}, {'filename': '150.png.npy', 'label': 0}, {'filename': '132.png.npy', 'label': 0}, {'filename': '125.png.npy', 'label': 0}, {'filename': '175.png.npy', 'label': 0}, {'filename': '144.png.npy', 'label': 0}, {'filename': '186.png.npy', 'label': 0}, {'filename': '118.png.npy', 'label': 0}, {'filename': '190.png.npy', 'label': 0}, {'filename': '155.png.npy', 'label': 0}, {'filename': '182.png.npy', 'label': 0}, {'filename': '189.png.npy', 'label': 0}, {'filename': '123.png.npy', 'label': 0}, {'filename': '153.png.npy', 'label': 0}, {'filename': '131.png.npy', 'label': 0}, {'filename': '139.png.npy', 'label': 0}, {'filename': '160.png.npy', 'label': 0}, {'filename': '143.png.npy', 'label': 0}, {'filename': '170.png.npy', 'label': 0}, {'filename': '187.png.npy', 'label': 0}, {'filename': '173.png.npy', 'label': 0}, {'filename': '163.png.npy', 'label': 0}, {'filename': '136.png.npy', 'label': 0}, {'filename': '178.png.npy', 'label': 0}, {'filename': '137.png.npy', 'label': 0}, {'filename': '158.png.npy', 'label': 0}, {'filename': '133.png.npy', 'label': 0}, {'filename': '181.png.npy', 'label': 0}, {'filename': '184.png.npy', 'label': 0}, {'filename': '134.png.npy', 'label': 0}, {'filename': '156.png.npy', 'label': 0}, {'filename': '201.png.npy', 'label': 0}, {'filename': '206.png.npy', 'label': 0}, {'filename': '209.png.npy', 'label': 0}, {'filename': '207.png.npy', 'label': 0}, {'filename': '205.png.npy', 'label': 0}, {'filename': '196.png.npy', 'label': 0}, {'filename': '198.png.npy', 'label': 0}, {'filename': '204.png.npy', 'label': 0}, {'filename': '197.png.npy', 'label': 0}, {'filename': '202.png.npy', 'label': 0}, {'filename': '212.png.npy', 'label': 0}, {'filename': '199.png.npy', 'label': 0}, {'filename': '210.png.npy', 'label': 0}, {'filename': '211.png.npy', 'label': 0}, {'filename': '200.png.npy', 'label': 0}, {'filename': '203.png.npy', 'label': 0}, {'filename': '208.png.npy', 'label': 0}]\n"
          ]
        }
      ]
    },
    {
      "cell_type": "markdown",
      "source": [
        "## bad images 편집"
      ],
      "metadata": {
        "id": "J0GUobBU6bFM"
      }
    },
    {
      "cell_type": "code",
      "source": [
        "#파일명 중복으로 인한 이름 변경\n",
        "folder_path = '/content/drive/MyDrive/SK/transistor/test/bent_lead'\n",
        "extension = '.png'\n",
        "prefix = 'bent_lead_'\n",
        "\n",
        "for i, filename in enumerate(os.listdir(folder_path)):\n",
        "  new_filename = f'{prefix}{i+1:03d}{extension}'\n",
        "\n",
        "  old_path = os.path.join(folder_path, filename)\n",
        "  new_path = os.path.join(folder_path, new_filename)\n",
        "\n",
        "  os.rename(old_path, new_path)\n",
        "\n",
        "\n",
        "folder_path = '/content/drive/MyDrive/SK/transistor/test/cut_lead'\n",
        "extension = '.png'\n",
        "prefix = 'cut_lead_'\n",
        "\n",
        "for i, filename in enumerate(os.listdir(folder_path)):\n",
        "  new_filename = f'{prefix}{i+1:03d}{extension}'\n",
        "\n",
        "  old_path = os.path.join(folder_path, filename)\n",
        "  new_path = os.path.join(folder_path, new_filename)\n",
        "\n",
        "  os.rename(old_path, new_path)\n",
        "\n",
        "\n",
        "folder_path = '/content/drive/MyDrive/SK/transistor/test/damaged_case'\n",
        "extension = '.png'\n",
        "prefix = 'damaged_'\n",
        "\n",
        "for i, filename in enumerate(os.listdir(folder_path)):\n",
        "  new_filename = f'{prefix}{i+1:03d}{extension}'\n",
        "\n",
        "  old_path = os.path.join(folder_path, filename)\n",
        "  new_path = os.path.join(folder_path, new_filename)\n",
        "\n",
        "  os.rename(old_path, new_path)\n",
        "\n",
        "\n",
        "folder_path = '/content/drive/MyDrive/SK/transistor/test/misplaced'\n",
        "extension = '.png'\n",
        "prefix = 'misplaced_'\n",
        "\n",
        "for i, filename in enumerate(os.listdir(folder_path)):\n",
        "  new_filename = f'{prefix}{i+1:03d}{extension}'\n",
        "\n",
        "  old_path = os.path.join(folder_path, filename)\n",
        "  new_path = os.path.join(folder_path, new_filename)\n",
        "\n",
        "  os.rename(old_path, new_path)\n"
      ],
      "metadata": {
        "id": "LBgfzNxs6Zo4"
      },
      "execution_count": null,
      "outputs": []
    },
    {
      "cell_type": "markdown",
      "source": [
        "bad images 전처리 후 라벨링"
      ],
      "metadata": {
        "id": "Lqegex_b6yRb"
      }
    },
    {
      "cell_type": "code",
      "source": [
        "input_folder = '/content/drive/MyDrive/SK/transistor/test/bent_lead'\n",
        "output_folder = '/content/drive/MyDrive/SK/transistor/train/bent_lead_scaled'\n",
        "\n",
        "image_files = os.listdir(input_folder)\n",
        "\n",
        "for image_file in image_files:\n",
        "  image_path = os.path.join(input_folder, image_file)\n",
        "\n",
        "  image = Image.open(image_path)\n",
        "\n",
        "  resized_image = image.resize((224, 224))\n",
        "\n",
        "  image_array = np.array(resized_image)\n",
        "\n",
        "  scaled_image_array = image_array / 255.0\n",
        "\n",
        "  output_path = os.path.join(output_folder, image_file)\n",
        "\n",
        "  np.save(output_path, scaled_image_array)\n",
        "\n",
        "  image.close()"
      ],
      "metadata": {
        "id": "2C3qJAYt6v6u"
      },
      "execution_count": null,
      "outputs": []
    },
    {
      "cell_type": "code",
      "source": [
        "input_folder = '/content/drive/MyDrive/SK/transistor/test/cut_lead'\n",
        "output_folder = '/content/drive/MyDrive/SK/transistor/train/cut_lead_scaled'\n",
        "\n",
        "image_files = os.listdir(input_folder)\n",
        "\n",
        "for image_file in image_files:\n",
        "  image_path = os.path.join(input_folder, image_file)\n",
        "\n",
        "  image = Image.open(image_path)\n",
        "\n",
        "  resized_image = image.resize((224, 224))\n",
        "\n",
        "  image_array = np.array(resized_image)\n",
        "\n",
        "  scaled_image_array = image_array / 255.0\n",
        "\n",
        "  output_path = os.path.join(output_folder, image_file)\n",
        "\n",
        "  np.save(output_path, scaled_image_array)\n",
        "\n",
        "  image.close()"
      ],
      "metadata": {
        "id": "Z8RlK9HS6lkQ"
      },
      "execution_count": null,
      "outputs": []
    },
    {
      "cell_type": "code",
      "source": [
        "input_folder = '/content/drive/MyDrive/SK/transistor/test/damaged_case'\n",
        "output_folder = '/content/drive/MyDrive/SK/transistor/train/damaged_case_scaled'\n",
        "\n",
        "image_files = os.listdir(input_folder)\n",
        "\n",
        "for image_file in image_files:\n",
        "  image_path = os.path.join(input_folder, image_file)\n",
        "\n",
        "  image = Image.open(image_path)\n",
        "\n",
        "  resized_image = image.resize((224, 224))\n",
        "\n",
        "  image_array = np.array(resized_image)\n",
        "\n",
        "  scaled_image_array = image_array / 255.0\n",
        "\n",
        "  output_path = os.path.join(output_folder, image_file)\n",
        "\n",
        "  np.save(output_path, scaled_image_array)\n",
        "\n",
        "  image.close()"
      ],
      "metadata": {
        "id": "m2o5_SW368Ul"
      },
      "execution_count": null,
      "outputs": []
    },
    {
      "cell_type": "code",
      "source": [
        "input_folder = '/content/drive/MyDrive/SK/transistor/test/misplaced'\n",
        "output_folder = '/content/drive/MyDrive/SK/transistor/train/misplaced_scaled'\n",
        "\n",
        "image_files = os.listdir(input_folder)\n",
        "\n",
        "for image_file in image_files:\n",
        "  image_path = os.path.join(input_folder, image_file)\n",
        "\n",
        "  image = Image.open(image_path)\n",
        "\n",
        "  resized_image = image.resize((224, 224))\n",
        "\n",
        "  image_array = np.array(resized_image)\n",
        "\n",
        "  scaled_image_array = image_array / 255.0\n",
        "\n",
        "  output_path = os.path.join(output_folder, image_file)\n",
        "\n",
        "  np.save(output_path, scaled_image_array)\n",
        "\n",
        "  image.close()"
      ],
      "metadata": {
        "id": "YklRiFBk6-zF"
      },
      "execution_count": null,
      "outputs": []
    },
    {
      "cell_type": "markdown",
      "source": [
        "전처리 파일들 한 폴더에 취합"
      ],
      "metadata": {
        "id": "cYqDPOEI7Cbv"
      }
    },
    {
      "cell_type": "code",
      "source": [
        "import shutil\n",
        "\n",
        "source_folder = '/content/drive/MyDrive/SK/transistor/train/bent_lead_scaled'\n",
        "destination_folder = '/content/drive/MyDrive/SK/transistor/train/bad_scaled'\n",
        "\n",
        "for filename in os.listdir(source_folder):\n",
        "  source_path = os.path.join(source_folder, filename)\n",
        "  destination_path = os.path.join(destination_folder, filename)\n",
        "  shutil.copy(source_path, destination_path)"
      ],
      "metadata": {
        "id": "glwRq65g7FH_"
      },
      "execution_count": null,
      "outputs": []
    },
    {
      "cell_type": "code",
      "source": [
        "source_folder = '/content/drive/MyDrive/SK/transistor/train/cut_lead_scaled'\n",
        "\n",
        "for filename in os.listdir(source_folder):\n",
        "  source_path = os.path.join(source_folder, filename)\n",
        "  destination_path = os.path.join(destination_folder, filename)\n",
        "  shutil.copy(source_path, destination_path)\n",
        "\n",
        "source_folder = '/content/drive/MyDrive/SK/transistor/train/damaged_case_scaled'\n",
        "\n",
        "for filename in os.listdir(source_folder):\n",
        "  source_path = os.path.join(source_folder, filename)\n",
        "  destination_path = os.path.join(destination_folder, filename)\n",
        "  shutil.copy(source_path, destination_path)\n",
        "\n",
        "source_folder = '/content/drive/MyDrive/SK/transistor/train/misplaced_scaled'\n",
        "\n",
        "for filename in os.listdir(source_folder):\n",
        "  source_path = os.path.join(source_folder, filename)\n",
        "  destination_path = os.path.join(destination_folder, filename)\n",
        "  shutil.copy(source_path, destination_path)"
      ],
      "metadata": {
        "id": "NgGrFhON7H2r"
      },
      "execution_count": null,
      "outputs": []
    },
    {
      "cell_type": "markdown",
      "source": [
        "bad images 라벨링"
      ],
      "metadata": {
        "id": "6oNboZJF7Ldm"
      }
    },
    {
      "cell_type": "code",
      "source": [
        "label_file"
      ],
      "metadata": {
        "colab": {
          "base_uri": "https://localhost:8080/",
          "height": 36
        },
        "id": "hGlAClAh7KyZ",
        "outputId": "ac7c2cec-3ff5-476e-cc9e-63cf65c84a8b"
      },
      "execution_count": null,
      "outputs": [
        {
          "output_type": "execute_result",
          "data": {
            "text/plain": [
              "'label_files.csv'"
            ],
            "application/vnd.google.colaboratory.intrinsic+json": {
              "type": "string"
            }
          },
          "metadata": {},
          "execution_count": 24
        }
      ]
    },
    {
      "cell_type": "code",
      "source": [
        "label_data"
      ],
      "metadata": {
        "colab": {
          "base_uri": "https://localhost:8080/"
        },
        "id": "sW2_TbHK7Ny8",
        "outputId": "01765499-a1be-4b4c-8bd3-9d46bb53515d"
      },
      "execution_count": null,
      "outputs": [
        {
          "output_type": "execute_result",
          "data": {
            "text/plain": [
              "[{'filename': '010.png.npy', 'label': 0},\n",
              " {'filename': '020.png.npy', 'label': 0},\n",
              " {'filename': '006.png.npy', 'label': 0},\n",
              " {'filename': '014.png.npy', 'label': 0},\n",
              " {'filename': '031.png.npy', 'label': 0},\n",
              " {'filename': '028.png.npy', 'label': 0},\n",
              " {'filename': '033.png.npy', 'label': 0},\n",
              " {'filename': '034.png.npy', 'label': 0},\n",
              " {'filename': '002.png.npy', 'label': 0},\n",
              " {'filename': '017.png.npy', 'label': 0},\n",
              " {'filename': '023.png.npy', 'label': 0},\n",
              " {'filename': '004.png.npy', 'label': 0},\n",
              " {'filename': '032.png.npy', 'label': 0},\n",
              " {'filename': '008.png.npy', 'label': 0},\n",
              " {'filename': '005.png.npy', 'label': 0},\n",
              " {'filename': '035.png.npy', 'label': 0},\n",
              " {'filename': '019.png.npy', 'label': 0},\n",
              " {'filename': '025.png.npy', 'label': 0},\n",
              " {'filename': '036.png.npy', 'label': 0},\n",
              " {'filename': '029.png.npy', 'label': 0},\n",
              " {'filename': '011.png.npy', 'label': 0},\n",
              " {'filename': '021.png.npy', 'label': 0},\n",
              " {'filename': '000.png.npy', 'label': 0},\n",
              " {'filename': '003.png.npy', 'label': 0},\n",
              " {'filename': '001.png.npy', 'label': 0},\n",
              " {'filename': '016.png.npy', 'label': 0},\n",
              " {'filename': '039.png.npy', 'label': 0},\n",
              " {'filename': '038.png.npy', 'label': 0},\n",
              " {'filename': '026.png.npy', 'label': 0},\n",
              " {'filename': '037.png.npy', 'label': 0},\n",
              " {'filename': '015.png.npy', 'label': 0},\n",
              " {'filename': '009.png.npy', 'label': 0},\n",
              " {'filename': '022.png.npy', 'label': 0},\n",
              " {'filename': '024.png.npy', 'label': 0},\n",
              " {'filename': '018.png.npy', 'label': 0},\n",
              " {'filename': '027.png.npy', 'label': 0},\n",
              " {'filename': '013.png.npy', 'label': 0},\n",
              " {'filename': '030.png.npy', 'label': 0},\n",
              " {'filename': '007.png.npy', 'label': 0},\n",
              " {'filename': '012.png.npy', 'label': 0},\n",
              " {'filename': '055.png.npy', 'label': 0},\n",
              " {'filename': '075.png.npy', 'label': 0},\n",
              " {'filename': '060.png.npy', 'label': 0},\n",
              " {'filename': '099.png.npy', 'label': 0},\n",
              " {'filename': '071.png.npy', 'label': 0},\n",
              " {'filename': '062.png.npy', 'label': 0},\n",
              " {'filename': '083.png.npy', 'label': 0},\n",
              " {'filename': '079.png.npy', 'label': 0},\n",
              " {'filename': '111.png.npy', 'label': 0},\n",
              " {'filename': '105.png.npy', 'label': 0},\n",
              " {'filename': '053.png.npy', 'label': 0},\n",
              " {'filename': '089.png.npy', 'label': 0},\n",
              " {'filename': '051.png.npy', 'label': 0},\n",
              " {'filename': '047.png.npy', 'label': 0},\n",
              " {'filename': '091.png.npy', 'label': 0},\n",
              " {'filename': '101.png.npy', 'label': 0},\n",
              " {'filename': '104.png.npy', 'label': 0},\n",
              " {'filename': '057.png.npy', 'label': 0},\n",
              " {'filename': '063.png.npy', 'label': 0},\n",
              " {'filename': '068.png.npy', 'label': 0},\n",
              " {'filename': '056.png.npy', 'label': 0},\n",
              " {'filename': '084.png.npy', 'label': 0},\n",
              " {'filename': '058.png.npy', 'label': 0},\n",
              " {'filename': '078.png.npy', 'label': 0},\n",
              " {'filename': '113.png.npy', 'label': 0},\n",
              " {'filename': '082.png.npy', 'label': 0},\n",
              " {'filename': '043.png.npy', 'label': 0},\n",
              " {'filename': '102.png.npy', 'label': 0},\n",
              " {'filename': '112.png.npy', 'label': 0},\n",
              " {'filename': '065.png.npy', 'label': 0},\n",
              " {'filename': '054.png.npy', 'label': 0},\n",
              " {'filename': '103.png.npy', 'label': 0},\n",
              " {'filename': '059.png.npy', 'label': 0},\n",
              " {'filename': '052.png.npy', 'label': 0},\n",
              " {'filename': '085.png.npy', 'label': 0},\n",
              " {'filename': '086.png.npy', 'label': 0},\n",
              " {'filename': '046.png.npy', 'label': 0},\n",
              " {'filename': '110.png.npy', 'label': 0},\n",
              " {'filename': '092.png.npy', 'label': 0},\n",
              " {'filename': '044.png.npy', 'label': 0},\n",
              " {'filename': '088.png.npy', 'label': 0},\n",
              " {'filename': '080.png.npy', 'label': 0},\n",
              " {'filename': '050.png.npy', 'label': 0},\n",
              " {'filename': '109.png.npy', 'label': 0},\n",
              " {'filename': '087.png.npy', 'label': 0},\n",
              " {'filename': '069.png.npy', 'label': 0},\n",
              " {'filename': '072.png.npy', 'label': 0},\n",
              " {'filename': '081.png.npy', 'label': 0},\n",
              " {'filename': '074.png.npy', 'label': 0},\n",
              " {'filename': '106.png.npy', 'label': 0},\n",
              " {'filename': '041.png.npy', 'label': 0},\n",
              " {'filename': '076.png.npy', 'label': 0},\n",
              " {'filename': '095.png.npy', 'label': 0},\n",
              " {'filename': '061.png.npy', 'label': 0},\n",
              " {'filename': '077.png.npy', 'label': 0},\n",
              " {'filename': '070.png.npy', 'label': 0},\n",
              " {'filename': '064.png.npy', 'label': 0},\n",
              " {'filename': '096.png.npy', 'label': 0},\n",
              " {'filename': '093.png.npy', 'label': 0},\n",
              " {'filename': '049.png.npy', 'label': 0},\n",
              " {'filename': '107.png.npy', 'label': 0},\n",
              " {'filename': '073.png.npy', 'label': 0},\n",
              " {'filename': '067.png.npy', 'label': 0},\n",
              " {'filename': '097.png.npy', 'label': 0},\n",
              " {'filename': '040.png.npy', 'label': 0},\n",
              " {'filename': '048.png.npy', 'label': 0},\n",
              " {'filename': '066.png.npy', 'label': 0},\n",
              " {'filename': '098.png.npy', 'label': 0},\n",
              " {'filename': '045.png.npy', 'label': 0},\n",
              " {'filename': '100.png.npy', 'label': 0},\n",
              " {'filename': '090.png.npy', 'label': 0},\n",
              " {'filename': '042.png.npy', 'label': 0},\n",
              " {'filename': '108.png.npy', 'label': 0},\n",
              " {'filename': '094.png.npy', 'label': 0},\n",
              " {'filename': '194.png.npy', 'label': 0},\n",
              " {'filename': '122.png.npy', 'label': 0},\n",
              " {'filename': '192.png.npy', 'label': 0},\n",
              " {'filename': '141.png.npy', 'label': 0},\n",
              " {'filename': '176.png.npy', 'label': 0},\n",
              " {'filename': '121.png.npy', 'label': 0},\n",
              " {'filename': '165.png.npy', 'label': 0},\n",
              " {'filename': '142.png.npy', 'label': 0},\n",
              " {'filename': '164.png.npy', 'label': 0},\n",
              " {'filename': '116.png.npy', 'label': 0},\n",
              " {'filename': '172.png.npy', 'label': 0},\n",
              " {'filename': '126.png.npy', 'label': 0},\n",
              " {'filename': '145.png.npy', 'label': 0},\n",
              " {'filename': '166.png.npy', 'label': 0},\n",
              " {'filename': '159.png.npy', 'label': 0},\n",
              " {'filename': '138.png.npy', 'label': 0},\n",
              " {'filename': '154.png.npy', 'label': 0},\n",
              " {'filename': '152.png.npy', 'label': 0},\n",
              " {'filename': '171.png.npy', 'label': 0},\n",
              " {'filename': '117.png.npy', 'label': 0},\n",
              " {'filename': '162.png.npy', 'label': 0},\n",
              " {'filename': '183.png.npy', 'label': 0},\n",
              " {'filename': '135.png.npy', 'label': 0},\n",
              " {'filename': '185.png.npy', 'label': 0},\n",
              " {'filename': '114.png.npy', 'label': 0},\n",
              " {'filename': '151.png.npy', 'label': 0},\n",
              " {'filename': '149.png.npy', 'label': 0},\n",
              " {'filename': '179.png.npy', 'label': 0},\n",
              " {'filename': '129.png.npy', 'label': 0},\n",
              " {'filename': '157.png.npy', 'label': 0},\n",
              " {'filename': '119.png.npy', 'label': 0},\n",
              " {'filename': '128.png.npy', 'label': 0},\n",
              " {'filename': '124.png.npy', 'label': 0},\n",
              " {'filename': '177.png.npy', 'label': 0},\n",
              " {'filename': '147.png.npy', 'label': 0},\n",
              " {'filename': '193.png.npy', 'label': 0},\n",
              " {'filename': '195.png.npy', 'label': 0},\n",
              " {'filename': '146.png.npy', 'label': 0},\n",
              " {'filename': '120.png.npy', 'label': 0},\n",
              " {'filename': '115.png.npy', 'label': 0},\n",
              " {'filename': '148.png.npy', 'label': 0},\n",
              " {'filename': '168.png.npy', 'label': 0},\n",
              " {'filename': '127.png.npy', 'label': 0},\n",
              " {'filename': '191.png.npy', 'label': 0},\n",
              " {'filename': '161.png.npy', 'label': 0},\n",
              " {'filename': '140.png.npy', 'label': 0},\n",
              " {'filename': '130.png.npy', 'label': 0},\n",
              " {'filename': '188.png.npy', 'label': 0},\n",
              " {'filename': '169.png.npy', 'label': 0},\n",
              " {'filename': '180.png.npy', 'label': 0},\n",
              " {'filename': '167.png.npy', 'label': 0},\n",
              " {'filename': '174.png.npy', 'label': 0},\n",
              " {'filename': '150.png.npy', 'label': 0},\n",
              " {'filename': '132.png.npy', 'label': 0},\n",
              " {'filename': '125.png.npy', 'label': 0},\n",
              " {'filename': '175.png.npy', 'label': 0},\n",
              " {'filename': '144.png.npy', 'label': 0},\n",
              " {'filename': '186.png.npy', 'label': 0},\n",
              " {'filename': '118.png.npy', 'label': 0},\n",
              " {'filename': '190.png.npy', 'label': 0},\n",
              " {'filename': '155.png.npy', 'label': 0},\n",
              " {'filename': '182.png.npy', 'label': 0},\n",
              " {'filename': '189.png.npy', 'label': 0},\n",
              " {'filename': '123.png.npy', 'label': 0},\n",
              " {'filename': '153.png.npy', 'label': 0},\n",
              " {'filename': '131.png.npy', 'label': 0},\n",
              " {'filename': '139.png.npy', 'label': 0},\n",
              " {'filename': '160.png.npy', 'label': 0},\n",
              " {'filename': '143.png.npy', 'label': 0},\n",
              " {'filename': '170.png.npy', 'label': 0},\n",
              " {'filename': '187.png.npy', 'label': 0},\n",
              " {'filename': '173.png.npy', 'label': 0},\n",
              " {'filename': '163.png.npy', 'label': 0},\n",
              " {'filename': '136.png.npy', 'label': 0},\n",
              " {'filename': '178.png.npy', 'label': 0},\n",
              " {'filename': '137.png.npy', 'label': 0},\n",
              " {'filename': '158.png.npy', 'label': 0},\n",
              " {'filename': '133.png.npy', 'label': 0},\n",
              " {'filename': '181.png.npy', 'label': 0},\n",
              " {'filename': '184.png.npy', 'label': 0},\n",
              " {'filename': '134.png.npy', 'label': 0},\n",
              " {'filename': '156.png.npy', 'label': 0},\n",
              " {'filename': '201.png.npy', 'label': 0},\n",
              " {'filename': '206.png.npy', 'label': 0},\n",
              " {'filename': '209.png.npy', 'label': 0},\n",
              " {'filename': '207.png.npy', 'label': 0},\n",
              " {'filename': '205.png.npy', 'label': 0},\n",
              " {'filename': '196.png.npy', 'label': 0},\n",
              " {'filename': '198.png.npy', 'label': 0},\n",
              " {'filename': '204.png.npy', 'label': 0},\n",
              " {'filename': '197.png.npy', 'label': 0},\n",
              " {'filename': '202.png.npy', 'label': 0},\n",
              " {'filename': '212.png.npy', 'label': 0},\n",
              " {'filename': '199.png.npy', 'label': 0},\n",
              " {'filename': '210.png.npy', 'label': 0},\n",
              " {'filename': '211.png.npy', 'label': 0},\n",
              " {'filename': '200.png.npy', 'label': 0},\n",
              " {'filename': '203.png.npy', 'label': 0},\n",
              " {'filename': '208.png.npy', 'label': 0}]"
            ]
          },
          "metadata": {},
          "execution_count": 25
        }
      ]
    },
    {
      "cell_type": "code",
      "source": [
        "output_folder = '/content/drive/MyDrive/SK/transistor/train/bad_scaled'\n",
        "\n",
        "output_files = os.listdir(output_folder)\n",
        "\n",
        "\n",
        "for output_file in output_files:\n",
        "  label_data.append({\"filename\": output_file, \"label\": int(1)})\n",
        "\n",
        "  with open(label_file, 'w', newline='') as f:\n",
        "    writer = csv.DictWriter(f, fieldnames=fieldnames)\n",
        "    writer.writeheader()\n",
        "    writer.writerows(label_data)"
      ],
      "metadata": {
        "id": "iiSrMsma7OaX"
      },
      "execution_count": null,
      "outputs": []
    },
    {
      "cell_type": "markdown",
      "source": [
        "라벨링 파일 취합"
      ],
      "metadata": {
        "id": "aEOAycss7doe"
      }
    },
    {
      "cell_type": "code",
      "source": [
        "#good images & bad images 취합\n",
        "source_folder = '/content/drive/MyDrive/SK/transistor/train/good_scaled'  # 복사할 파일들이 있는 폴더 경로\n",
        "destination_folder = '/content/drive/MyDrive/SK/transistor/train/test_scaled'  # 복사한 파일들을 저장할 폴더 경로\n",
        "\n",
        "# 대상 폴더가 없으면 생성\n",
        "if not os.path.exists(destination_folder):\n",
        "    os.makedirs(destination_folder)\n",
        "\n",
        "# 폴더 내의 파일들을 복사\n",
        "for filename in os.listdir(source_folder):\n",
        "    source_path = os.path.join(source_folder, filename)\n",
        "    destination_path = os.path.join(destination_folder, filename)\n",
        "    shutil.copy(source_path, destination_path)\n",
        "\n",
        "source_folder = '/content/drive/MyDrive/SK/transistor/train/bad_scaled'  # 복사할 파일들이 있는 폴더 경로\n",
        "\n",
        "# 대상 폴더가 없으면 생성\n",
        "if not os.path.exists(destination_folder):\n",
        "    os.makedirs(destination_folder)\n",
        "\n",
        "# 폴더 내의 파일들을 복사\n",
        "for filename in os.listdir(source_folder):\n",
        "    source_path = os.path.join(source_folder, filename)\n",
        "    destination_path = os.path.join(destination_folder, filename)\n",
        "    shutil.copy(source_path, destination_path)"
      ],
      "metadata": {
        "id": "WK1IxU-S7cDl"
      },
      "execution_count": null,
      "outputs": []
    },
    {
      "cell_type": "markdown",
      "source": [
        "## 모델 생성 및 학습"
      ],
      "metadata": {
        "id": "kexsmfVm7U2P"
      }
    },
    {
      "cell_type": "code",
      "source": [
        "train = pd.read_csv('/content/label_files.csv')"
      ],
      "metadata": {
        "id": "0130Dmi17S_c"
      },
      "execution_count": null,
      "outputs": []
    },
    {
      "cell_type": "code",
      "source": [
        "train.shape"
      ],
      "metadata": {
        "colab": {
          "base_uri": "https://localhost:8080/"
        },
        "id": "C9YQS1oD7UEB",
        "outputId": "f426022a-f324-4eb2-c75f-abaa434f1731"
      },
      "execution_count": null,
      "outputs": [
        {
          "output_type": "execute_result",
          "data": {
            "text/plain": [
              "(253, 2)"
            ]
          },
          "metadata": {},
          "execution_count": 29
        }
      ]
    },
    {
      "cell_type": "code",
      "source": [
        "train['filename'].shape"
      ],
      "metadata": {
        "colab": {
          "base_uri": "https://localhost:8080/"
        },
        "id": "zXAk6KSv7ZRC",
        "outputId": "d87e6420-6a96-4f30-873c-73eb0ca77236"
      },
      "execution_count": null,
      "outputs": [
        {
          "output_type": "execute_result",
          "data": {
            "text/plain": [
              "(253,)"
            ]
          },
          "metadata": {},
          "execution_count": 30
        }
      ]
    },
    {
      "cell_type": "code",
      "source": [
        "#csv파일에는 이미지 관련 데이터가 따로 들어가지 않는다. 따라서 파일명에 따른 경로를 따로 지정해줘야함"
      ],
      "metadata": {
        "id": "l96j4z8K7aL_"
      },
      "execution_count": null,
      "outputs": []
    },
    {
      "cell_type": "markdown",
      "source": [
        "train data 생성"
      ],
      "metadata": {
        "id": "pN22jF2973AG"
      }
    },
    {
      "cell_type": "code",
      "source": [
        "from keras.utils import to_categorical\n",
        "\n",
        "label_file = pd.read_csv('/content/label_files.csv')\n",
        "\n",
        "x = []\n",
        "y = []\n",
        "for i in range(len(label_file)):\n",
        "  file_path = label_file['filename'][i]\n",
        "  # print(type(file_path))\n",
        "  label = label_file['label'][i]\n",
        "\n",
        "  loaded_data = np.load('/content/drive/MyDrive/SK/transistor/train/test_scaled/' + file_path)\n",
        "  x.append(loaded_data)\n",
        "  y.append(label)\n",
        "\n",
        "x = np.array(x)\n",
        "y = np.array(y)\n",
        "\n",
        "y = to_categorical(y)"
      ],
      "metadata": {
        "id": "u0_JZHee7iPA"
      },
      "execution_count": null,
      "outputs": []
    },
    {
      "cell_type": "code",
      "source": [
        "print(x)"
      ],
      "metadata": {
        "colab": {
          "base_uri": "https://localhost:8080/"
        },
        "id": "xTDNfzh779Z4",
        "outputId": "ae1d7251-138d-429b-ca14-97b7e14b0255"
      },
      "execution_count": null,
      "outputs": [
        {
          "output_type": "stream",
          "name": "stdout",
          "text": [
            "[[[[0.55294118 0.38823529 0.3372549 ]\n",
            "   [0.55294118 0.39215686 0.3372549 ]\n",
            "   [0.55294118 0.38823529 0.33333333]\n",
            "   ...\n",
            "   [0.1372549  0.09411765 0.09411765]\n",
            "   [0.34901961 0.21960784 0.2       ]\n",
            "   [0.6745098  0.4627451  0.38431373]]\n",
            "\n",
            "  [[0.55294118 0.38823529 0.3372549 ]\n",
            "   [0.55686275 0.39607843 0.3372549 ]\n",
            "   [0.55686275 0.38823529 0.33333333]\n",
            "   ...\n",
            "   [0.14117647 0.09803922 0.09411765]\n",
            "   [0.30980392 0.19607843 0.17647059]\n",
            "   [0.61960784 0.42352941 0.35686275]]\n",
            "\n",
            "  [[0.54509804 0.38823529 0.3372549 ]\n",
            "   [0.54901961 0.38823529 0.33333333]\n",
            "   [0.55294118 0.39215686 0.3372549 ]\n",
            "   ...\n",
            "   [0.14901961 0.09803922 0.09411765]\n",
            "   [0.30588235 0.19607843 0.17254902]\n",
            "   [0.58039216 0.40392157 0.34509804]]\n",
            "\n",
            "  ...\n",
            "\n",
            "  [[0.5254902  0.38039216 0.34117647]\n",
            "   [0.51764706 0.37254902 0.32941176]\n",
            "   [0.5254902  0.37647059 0.33333333]\n",
            "   ...\n",
            "   [0.58823529 0.41176471 0.35294118]\n",
            "   [0.59215686 0.41176471 0.35686275]\n",
            "   [0.59215686 0.41568627 0.36862745]]\n",
            "\n",
            "  [[0.5254902  0.37647059 0.3372549 ]\n",
            "   [0.52156863 0.37254902 0.32941176]\n",
            "   [0.52156863 0.37254902 0.32941176]\n",
            "   ...\n",
            "   [0.58823529 0.41176471 0.35686275]\n",
            "   [0.58431373 0.41568627 0.35686275]\n",
            "   [0.59215686 0.41568627 0.36078431]]\n",
            "\n",
            "  [[0.53333333 0.38039216 0.3372549 ]\n",
            "   [0.5372549  0.38039216 0.32941176]\n",
            "   [0.5372549  0.38039216 0.32941176]\n",
            "   ...\n",
            "   [0.59215686 0.41568627 0.35294118]\n",
            "   [0.59215686 0.41176471 0.35294118]\n",
            "   [0.58823529 0.40784314 0.34901961]]]\n",
            "\n",
            "\n",
            " [[[0.59215686 0.39215686 0.34117647]\n",
            "   [0.58823529 0.39607843 0.34117647]\n",
            "   [0.60392157 0.4        0.34509804]\n",
            "   ...\n",
            "   [0.58823529 0.4        0.34117647]\n",
            "   [0.59215686 0.4        0.34117647]\n",
            "   [0.58431373 0.4        0.34509804]]\n",
            "\n",
            "  [[0.59215686 0.39607843 0.34117647]\n",
            "   [0.58823529 0.39215686 0.3372549 ]\n",
            "   [0.58431373 0.39215686 0.3372549 ]\n",
            "   ...\n",
            "   [0.59607843 0.40784314 0.34509804]\n",
            "   [0.6        0.40784314 0.34509804]\n",
            "   [0.59607843 0.40392157 0.34509804]]\n",
            "\n",
            "  [[0.58823529 0.4        0.34509804]\n",
            "   [0.60392157 0.40392157 0.34509804]\n",
            "   [0.59215686 0.39607843 0.3372549 ]\n",
            "   ...\n",
            "   [0.60392157 0.40392157 0.34509804]\n",
            "   [0.60392157 0.40784314 0.34901961]\n",
            "   [0.6        0.40784314 0.34901961]]\n",
            "\n",
            "  ...\n",
            "\n",
            "  [[0.55686275 0.37647059 0.33333333]\n",
            "   [0.54901961 0.36862745 0.32156863]\n",
            "   [0.54117647 0.36862745 0.32156863]\n",
            "   ...\n",
            "   [0.60392157 0.40392157 0.34509804]\n",
            "   [0.60784314 0.40784314 0.34901961]\n",
            "   [0.60784314 0.40784314 0.35686275]]\n",
            "\n",
            "  [[0.54901961 0.36862745 0.32156863]\n",
            "   [0.5372549  0.36470588 0.31372549]\n",
            "   [0.5372549  0.36470588 0.31372549]\n",
            "   ...\n",
            "   [0.60392157 0.40784314 0.34901961]\n",
            "   [0.60392157 0.40784314 0.34509804]\n",
            "   [0.60392157 0.40392157 0.34509804]]\n",
            "\n",
            "  [[0.54901961 0.36862745 0.30980392]\n",
            "   [0.54901961 0.36862745 0.31372549]\n",
            "   [0.54509804 0.36470588 0.31372549]\n",
            "   ...\n",
            "   [0.60392157 0.40392157 0.34117647]\n",
            "   [0.61176471 0.40784314 0.34117647]\n",
            "   [0.60784314 0.40784314 0.3372549 ]]]\n",
            "\n",
            "\n",
            " [[[0.16078431 0.1372549  0.14509804]\n",
            "   [0.15686275 0.1372549  0.14509804]\n",
            "   [0.14901961 0.1254902  0.1372549 ]\n",
            "   ...\n",
            "   [0.57647059 0.40392157 0.34901961]\n",
            "   [0.56470588 0.39607843 0.34117647]\n",
            "   [0.55294118 0.39215686 0.34117647]]\n",
            "\n",
            "  [[0.18431373 0.16470588 0.17254902]\n",
            "   [0.17647059 0.15686275 0.16078431]\n",
            "   [0.16470588 0.14117647 0.14509804]\n",
            "   ...\n",
            "   [0.58431373 0.40392157 0.34509804]\n",
            "   [0.57647059 0.4        0.34117647]\n",
            "   [0.56470588 0.4        0.34117647]]\n",
            "\n",
            "  [[0.24313725 0.21960784 0.22745098]\n",
            "   [0.20392157 0.18431373 0.19215686]\n",
            "   [0.18823529 0.16862745 0.17254902]\n",
            "   ...\n",
            "   [0.58431373 0.40784314 0.34509804]\n",
            "   [0.58039216 0.40784314 0.34509804]\n",
            "   [0.56862745 0.4        0.34117647]]\n",
            "\n",
            "  ...\n",
            "\n",
            "  [[0.54117647 0.38823529 0.34509804]\n",
            "   [0.5372549  0.38039216 0.33333333]\n",
            "   [0.5372549  0.38039216 0.33333333]\n",
            "   ...\n",
            "   [0.58823529 0.41176471 0.35294118]\n",
            "   [0.59607843 0.41568627 0.35686275]\n",
            "   [0.59215686 0.41176471 0.36078431]]\n",
            "\n",
            "  [[0.53333333 0.38039216 0.3372549 ]\n",
            "   [0.5254902  0.37254902 0.3254902 ]\n",
            "   [0.52941176 0.38431373 0.33333333]\n",
            "   ...\n",
            "   [0.58431373 0.41568627 0.35686275]\n",
            "   [0.58431373 0.41176471 0.35294118]\n",
            "   [0.58823529 0.40784314 0.34901961]]\n",
            "\n",
            "  [[0.52941176 0.38039216 0.33333333]\n",
            "   [0.5372549  0.38039216 0.32941176]\n",
            "   [0.54117647 0.38823529 0.3372549 ]\n",
            "   ...\n",
            "   [0.59215686 0.41568627 0.35294118]\n",
            "   [0.58823529 0.41176471 0.35294118]\n",
            "   [0.58823529 0.40784314 0.34901961]]]\n",
            "\n",
            "\n",
            " ...\n",
            "\n",
            "\n",
            " [[[0.58431373 0.40784314 0.36470588]\n",
            "   [0.59607843 0.41568627 0.37254902]\n",
            "   [0.57647059 0.40784314 0.36862745]\n",
            "   ...\n",
            "   [0.56862745 0.40392157 0.35686275]\n",
            "   [0.57254902 0.4        0.35686275]\n",
            "   [0.56078431 0.39607843 0.35686275]]\n",
            "\n",
            "  [[0.58039216 0.40784314 0.36470588]\n",
            "   [0.58823529 0.40784314 0.36470588]\n",
            "   [0.57647059 0.40392157 0.36862745]\n",
            "   ...\n",
            "   [0.57254902 0.4        0.35686275]\n",
            "   [0.56862745 0.4        0.35686275]\n",
            "   [0.56862745 0.4        0.35294118]]\n",
            "\n",
            "  [[0.58823529 0.40784314 0.36862745]\n",
            "   [0.57254902 0.39607843 0.35686275]\n",
            "   [0.57254902 0.39607843 0.35686275]\n",
            "   ...\n",
            "   [0.58039216 0.40392157 0.36078431]\n",
            "   [0.58039216 0.40784314 0.36078431]\n",
            "   [0.57254902 0.40392157 0.35294118]]\n",
            "\n",
            "  ...\n",
            "\n",
            "  [[0.51764706 0.36862745 0.3372549 ]\n",
            "   [0.5254902  0.36862745 0.33333333]\n",
            "   [0.52156863 0.37254902 0.33333333]\n",
            "   ...\n",
            "   [0.58823529 0.40784314 0.35686275]\n",
            "   [0.60784314 0.42352941 0.36862745]\n",
            "   [0.61176471 0.41960784 0.36862745]]\n",
            "\n",
            "  [[0.51372549 0.36078431 0.32941176]\n",
            "   [0.50588235 0.35294118 0.32156863]\n",
            "   [0.50588235 0.35686275 0.31764706]\n",
            "   ...\n",
            "   [0.59607843 0.40784314 0.35686275]\n",
            "   [0.59607843 0.41568627 0.36078431]\n",
            "   [0.60784314 0.41568627 0.36862745]]\n",
            "\n",
            "  [[0.49803922 0.34901961 0.32156863]\n",
            "   [0.49803922 0.34509804 0.30980392]\n",
            "   [0.50588235 0.35294118 0.30980392]\n",
            "   ...\n",
            "   [0.6        0.41176471 0.35686275]\n",
            "   [0.60392157 0.41568627 0.35686275]\n",
            "   [0.60392157 0.41176471 0.36078431]]]\n",
            "\n",
            "\n",
            " [[[0.60784314 0.39215686 0.32941176]\n",
            "   [0.61568627 0.4        0.3372549 ]\n",
            "   [0.60392157 0.39607843 0.3372549 ]\n",
            "   ...\n",
            "   [0.6        0.39215686 0.32156863]\n",
            "   [0.59215686 0.38823529 0.32156863]\n",
            "   [0.57254902 0.37647059 0.31764706]]\n",
            "\n",
            "  [[0.61568627 0.39607843 0.32941176]\n",
            "   [0.62352941 0.40392157 0.3372549 ]\n",
            "   [0.61568627 0.4        0.33333333]\n",
            "   ...\n",
            "   [0.59607843 0.39607843 0.32941176]\n",
            "   [0.58823529 0.39215686 0.3254902 ]\n",
            "   [0.58823529 0.38823529 0.31764706]]\n",
            "\n",
            "  [[0.60784314 0.39215686 0.32941176]\n",
            "   [0.61568627 0.4        0.33333333]\n",
            "   [0.61568627 0.39607843 0.32941176]\n",
            "   ...\n",
            "   [0.61176471 0.4        0.33333333]\n",
            "   [0.59215686 0.39215686 0.32156863]\n",
            "   [0.58823529 0.38823529 0.31764706]]\n",
            "\n",
            "  ...\n",
            "\n",
            "  [[0.53333333 0.35294118 0.29803922]\n",
            "   [0.52941176 0.34901961 0.29019608]\n",
            "   [0.53333333 0.34509804 0.29411765]\n",
            "   ...\n",
            "   [0.61960784 0.40392157 0.32941176]\n",
            "   [0.62745098 0.40392157 0.33333333]\n",
            "   [0.62352941 0.40392157 0.3372549 ]]\n",
            "\n",
            "  [[0.5372549  0.34901961 0.29803922]\n",
            "   [0.5254902  0.34509804 0.29019608]\n",
            "   [0.52156863 0.34117647 0.28627451]\n",
            "   ...\n",
            "   [0.60784314 0.4        0.3254902 ]\n",
            "   [0.61960784 0.4        0.32941176]\n",
            "   [0.61568627 0.4        0.32941176]]\n",
            "\n",
            "  [[0.54901961 0.35686275 0.29803922]\n",
            "   [0.54117647 0.35294118 0.29411765]\n",
            "   [0.52941176 0.34509804 0.29019608]\n",
            "   ...\n",
            "   [0.58431373 0.38039216 0.31372549]\n",
            "   [0.61960784 0.39607843 0.32156863]\n",
            "   [0.62352941 0.40392157 0.32941176]]]\n",
            "\n",
            "\n",
            " [[[0.59607843 0.41960784 0.38039216]\n",
            "   [0.60392157 0.41960784 0.38039216]\n",
            "   [0.61568627 0.42352941 0.38039216]\n",
            "   ...\n",
            "   [0.62745098 0.43137255 0.37254902]\n",
            "   [0.61176471 0.42352941 0.37254902]\n",
            "   [0.59607843 0.41568627 0.36078431]]\n",
            "\n",
            "  [[0.59607843 0.41568627 0.36862745]\n",
            "   [0.60392157 0.41960784 0.37254902]\n",
            "   [0.6        0.41568627 0.37254902]\n",
            "   ...\n",
            "   [0.62745098 0.43529412 0.37254902]\n",
            "   [0.62352941 0.43137255 0.37254902]\n",
            "   [0.61176471 0.42352941 0.36470588]]\n",
            "\n",
            "  [[0.59215686 0.41176471 0.36470588]\n",
            "   [0.6        0.41960784 0.37254902]\n",
            "   [0.59607843 0.41960784 0.36862745]\n",
            "   ...\n",
            "   [0.62745098 0.43137255 0.37254902]\n",
            "   [0.62352941 0.42745098 0.37647059]\n",
            "   [0.61960784 0.42745098 0.36862745]]\n",
            "\n",
            "  ...\n",
            "\n",
            "  [[0.54901961 0.38823529 0.35294118]\n",
            "   [0.54117647 0.38039216 0.3372549 ]\n",
            "   [0.54117647 0.38431373 0.34117647]\n",
            "   ...\n",
            "   [0.60392157 0.41176471 0.36078431]\n",
            "   [0.6        0.41568627 0.35686275]\n",
            "   [0.61176471 0.41960784 0.36078431]]\n",
            "\n",
            "  [[0.54509804 0.38823529 0.34901961]\n",
            "   [0.53333333 0.37647059 0.3372549 ]\n",
            "   [0.53333333 0.38039216 0.33333333]\n",
            "   ...\n",
            "   [0.60392157 0.41568627 0.36078431]\n",
            "   [0.60784314 0.41568627 0.35686275]\n",
            "   [0.61176471 0.41960784 0.36470588]]\n",
            "\n",
            "  [[0.54509804 0.38823529 0.34509804]\n",
            "   [0.54117647 0.38039216 0.33333333]\n",
            "   [0.54509804 0.38039216 0.33333333]\n",
            "   ...\n",
            "   [0.60784314 0.41176471 0.35294118]\n",
            "   [0.61176471 0.41960784 0.36078431]\n",
            "   [0.61176471 0.41960784 0.36078431]]]]\n"
          ]
        }
      ]
    },
    {
      "cell_type": "markdown",
      "source": [
        "모델 생성"
      ],
      "metadata": {
        "id": "vUl3aiIh8Bcu"
      }
    },
    {
      "cell_type": "code",
      "source": [
        "from keras.applications import ResNet50\n",
        "from keras.layers import GlobalAveragePooling2D\n",
        "num_classes = 2\n",
        "\n",
        "# # Sequential 모델 구성\n",
        "# model = tf.keras.Sequential()\n",
        "\n",
        "# # 입력 레이어\n",
        "# model.add(Input(shape=(512, 512, 3)))\n",
        "\n",
        "# # 컨볼루션 레이어\n",
        "# model.add(Conv2D(32, (3, 3), activation='relu'))\n",
        "# model.add(MaxPooling2D((2, 2)))\n",
        "\n",
        "# model.add(Conv2D(64, (3, 3), activation='relu'))\n",
        "# model.add(MaxPooling2D((2, 2)))\n",
        "\n",
        "# model.add(Conv2D(128, (3, 3), activation='relu'))\n",
        "# model.add(MaxPooling2D((2, 2)))\n",
        "\n",
        "# # 플래튼(Flatten) 레이어\n",
        "# model.add(Flatten())\n",
        "\n",
        "# # 완전 연결(Dense) 레이어\n",
        "# model.add(Dense(64, activation='relu'))\n",
        "\n",
        "# # 출력 레이어\n",
        "# model.add(Dense(num_classes, activation='softmax'))\n",
        "\n",
        "# # 모델 컴파일\n",
        "# model.compile(optimizer='adam',\n",
        "#               loss='binary_crossentropy',\n",
        "#               metrics=['accuracy'])\n",
        "\n",
        "# # 모델 요약 정보 출력\n",
        "# model.summary()\n",
        "\n",
        "# 사전 훈련된 ResNet50 모델 로드\n",
        "base_model = ResNet50(weights='imagenet', include_top=False, input_shape=(224, 224, 3))\n",
        "\n",
        "# 새로운 분류 계층 추가\n",
        "model = tf.keras.Sequential()\n",
        "model.add(base_model)\n",
        "model.add(GlobalAveragePooling2D())\n",
        "model.add(Dense(num_classes, activation='softmax'))\n",
        "\n",
        "# 기반 모델 동결\n",
        "base_model.trainable = False\n",
        "\n",
        "# 모델 컴파일\n",
        "model.compile(optimizer='adam',\n",
        "              loss='binary_crossentropy',\n",
        "              metrics=['accuracy'])\n",
        "\n",
        "model.summary()\n"
      ],
      "metadata": {
        "colab": {
          "base_uri": "https://localhost:8080/"
        },
        "id": "RfC7phYv7-DK",
        "outputId": "7a7ae608-258a-4368-b357-7d3abfb62f3b"
      },
      "execution_count": null,
      "outputs": [
        {
          "output_type": "stream",
          "name": "stdout",
          "text": [
            "Downloading data from https://storage.googleapis.com/tensorflow/keras-applications/resnet/resnet50_weights_tf_dim_ordering_tf_kernels_notop.h5\n",
            "94765736/94765736 [==============================] - 1s 0us/step\n",
            "Model: \"sequential\"\n",
            "_________________________________________________________________\n",
            " Layer (type)                Output Shape              Param #   \n",
            "=================================================================\n",
            " resnet50 (Functional)       (None, 7, 7, 2048)        23587712  \n",
            "                                                                 \n",
            " global_average_pooling2d (G  (None, 2048)             0         \n",
            " lobalAveragePooling2D)                                          \n",
            "                                                                 \n",
            " dense (Dense)               (None, 2)                 4098      \n",
            "                                                                 \n",
            "=================================================================\n",
            "Total params: 23,591,810\n",
            "Trainable params: 4,098\n",
            "Non-trainable params: 23,587,712\n",
            "_________________________________________________________________\n"
          ]
        }
      ]
    },
    {
      "cell_type": "code",
      "source": [
        "x.shape"
      ],
      "metadata": {
        "colab": {
          "base_uri": "https://localhost:8080/"
        },
        "id": "-zI7Fkqn8DTt",
        "outputId": "747bc44f-a7ba-47ba-8762-a02b4e1bf335"
      },
      "execution_count": null,
      "outputs": [
        {
          "output_type": "execute_result",
          "data": {
            "text/plain": [
              "(253, 224, 224, 3)"
            ]
          },
          "metadata": {},
          "execution_count": 37
        }
      ]
    },
    {
      "cell_type": "code",
      "source": [
        "#Resnet50 인풋 라벨 편집\n",
        "y = y.astype(int)"
      ],
      "metadata": {
        "id": "wgqmlvwJ8E6V"
      },
      "execution_count": null,
      "outputs": []
    },
    {
      "cell_type": "markdown",
      "source": [
        "학습"
      ],
      "metadata": {
        "id": "lKAf8BYf8PVw"
      }
    },
    {
      "cell_type": "code",
      "source": [
        "history = model.fit(x, y, validation_split=0.2, epochs=50, verbose=1, batch_size=8)"
      ],
      "metadata": {
        "colab": {
          "base_uri": "https://localhost:8080/"
        },
        "id": "kjBLSBcX8IHL",
        "outputId": "b84048d7-3728-41cc-a462-9a601fcdc934"
      },
      "execution_count": null,
      "outputs": [
        {
          "output_type": "stream",
          "name": "stdout",
          "text": [
            "Epoch 1/50\n",
            "26/26 [==============================] - 75s 3s/step - loss: 0.2625 - accuracy: 0.8812 - val_loss: 2.9773 - val_accuracy: 0.2157\n",
            "Epoch 2/50\n",
            "26/26 [==============================] - 73s 3s/step - loss: 0.0134 - accuracy: 1.0000 - val_loss: 3.7725 - val_accuracy: 0.2157\n",
            "Epoch 3/50\n",
            "26/26 [==============================] - 47s 2s/step - loss: 0.0070 - accuracy: 1.0000 - val_loss: 4.0511 - val_accuracy: 0.2157\n",
            "Epoch 4/50\n",
            "26/26 [==============================] - 49s 2s/step - loss: 0.0052 - accuracy: 1.0000 - val_loss: 4.2503 - val_accuracy: 0.2157\n",
            "Epoch 5/50\n",
            "26/26 [==============================] - 48s 2s/step - loss: 0.0041 - accuracy: 1.0000 - val_loss: 4.4238 - val_accuracy: 0.2157\n",
            "Epoch 6/50\n",
            "26/26 [==============================] - 62s 2s/step - loss: 0.0033 - accuracy: 1.0000 - val_loss: 4.5787 - val_accuracy: 0.2157\n",
            "Epoch 7/50\n",
            "26/26 [==============================] - 47s 2s/step - loss: 0.0028 - accuracy: 1.0000 - val_loss: 4.7184 - val_accuracy: 0.2157\n",
            "Epoch 8/50\n",
            "26/26 [==============================] - 45s 2s/step - loss: 0.0023 - accuracy: 1.0000 - val_loss: 4.8447 - val_accuracy: 0.2157\n",
            "Epoch 9/50\n",
            "26/26 [==============================] - 46s 2s/step - loss: 0.0020 - accuracy: 1.0000 - val_loss: 4.9604 - val_accuracy: 0.2157\n",
            "Epoch 10/50\n",
            "26/26 [==============================] - 56s 2s/step - loss: 0.0017 - accuracy: 1.0000 - val_loss: 5.0667 - val_accuracy: 0.2157\n",
            "Epoch 11/50\n",
            "26/26 [==============================] - 46s 2s/step - loss: 0.0015 - accuracy: 1.0000 - val_loss: 5.1650 - val_accuracy: 0.2157\n",
            "Epoch 12/50\n",
            "26/26 [==============================] - 45s 2s/step - loss: 0.0013 - accuracy: 1.0000 - val_loss: 5.2567 - val_accuracy: 0.2157\n",
            "Epoch 13/50\n",
            "26/26 [==============================] - 46s 2s/step - loss: 0.0012 - accuracy: 1.0000 - val_loss: 5.3423 - val_accuracy: 0.2157\n",
            "Epoch 14/50\n",
            "26/26 [==============================] - 46s 2s/step - loss: 0.0011 - accuracy: 1.0000 - val_loss: 5.4230 - val_accuracy: 0.2157\n",
            "Epoch 15/50\n",
            "26/26 [==============================] - 48s 2s/step - loss: 9.7868e-04 - accuracy: 1.0000 - val_loss: 5.4989 - val_accuracy: 0.2157\n",
            "Epoch 16/50\n",
            "26/26 [==============================] - 52s 2s/step - loss: 8.9091e-04 - accuracy: 1.0000 - val_loss: 5.5709 - val_accuracy: 0.2157\n",
            "Epoch 17/50\n",
            "26/26 [==============================] - 46s 2s/step - loss: 8.1496e-04 - accuracy: 1.0000 - val_loss: 5.6390 - val_accuracy: 0.2157\n",
            "Epoch 18/50\n",
            "26/26 [==============================] - 56s 2s/step - loss: 7.4890e-04 - accuracy: 1.0000 - val_loss: 5.7040 - val_accuracy: 0.2157\n",
            "Epoch 19/50\n",
            "26/26 [==============================] - 57s 2s/step - loss: 6.9090e-04 - accuracy: 1.0000 - val_loss: 5.7657 - val_accuracy: 0.2157\n",
            "Epoch 20/50\n",
            "26/26 [==============================] - 48s 2s/step - loss: 6.3976e-04 - accuracy: 1.0000 - val_loss: 5.8247 - val_accuracy: 0.2157\n",
            "Epoch 21/50\n",
            "26/26 [==============================] - 47s 2s/step - loss: 5.9438e-04 - accuracy: 1.0000 - val_loss: 5.8816 - val_accuracy: 0.2157\n",
            "Epoch 22/50\n",
            "26/26 [==============================] - 46s 2s/step - loss: 5.5378e-04 - accuracy: 1.0000 - val_loss: 5.9360 - val_accuracy: 0.2157\n",
            "Epoch 23/50\n",
            "26/26 [==============================] - 46s 2s/step - loss: 5.1744e-04 - accuracy: 1.0000 - val_loss: 5.9881 - val_accuracy: 0.2157\n",
            "Epoch 24/50\n",
            "26/26 [==============================] - 48s 2s/step - loss: 4.8476e-04 - accuracy: 1.0000 - val_loss: 6.0386 - val_accuracy: 0.2157\n",
            "Epoch 25/50\n",
            "26/26 [==============================] - 47s 2s/step - loss: 4.5516e-04 - accuracy: 1.0000 - val_loss: 6.0874 - val_accuracy: 0.2157\n",
            "Epoch 26/50\n",
            "26/26 [==============================] - 48s 2s/step - loss: 4.2829e-04 - accuracy: 1.0000 - val_loss: 6.1343 - val_accuracy: 0.2157\n",
            "Epoch 27/50\n",
            "26/26 [==============================] - 48s 2s/step - loss: 4.0381e-04 - accuracy: 1.0000 - val_loss: 6.1800 - val_accuracy: 0.2157\n",
            "Epoch 28/50\n",
            "26/26 [==============================] - 46s 2s/step - loss: 3.8140e-04 - accuracy: 1.0000 - val_loss: 6.2242 - val_accuracy: 0.2157\n",
            "Epoch 29/50\n",
            "26/26 [==============================] - 48s 2s/step - loss: 3.6089e-04 - accuracy: 1.0000 - val_loss: 6.2669 - val_accuracy: 0.2157\n",
            "Epoch 30/50\n",
            "26/26 [==============================] - 46s 2s/step - loss: 3.4212e-04 - accuracy: 1.0000 - val_loss: 6.3084 - val_accuracy: 0.2157\n",
            "Epoch 31/50\n",
            "26/26 [==============================] - 46s 2s/step - loss: 3.2481e-04 - accuracy: 1.0000 - val_loss: 6.3488 - val_accuracy: 0.2157\n",
            "Epoch 32/50\n",
            "26/26 [==============================] - 46s 2s/step - loss: 3.0878e-04 - accuracy: 1.0000 - val_loss: 6.3880 - val_accuracy: 0.2157\n",
            "Epoch 33/50\n",
            "26/26 [==============================] - 57s 2s/step - loss: 2.9397e-04 - accuracy: 1.0000 - val_loss: 6.4261 - val_accuracy: 0.2157\n",
            "Epoch 34/50\n",
            "26/26 [==============================] - 46s 2s/step - loss: 2.8021e-04 - accuracy: 1.0000 - val_loss: 6.4633 - val_accuracy: 0.2157\n",
            "Epoch 35/50\n",
            "26/26 [==============================] - 46s 2s/step - loss: 2.6742e-04 - accuracy: 1.0000 - val_loss: 6.4997 - val_accuracy: 0.2157\n",
            "Epoch 36/50\n",
            "26/26 [==============================] - 47s 2s/step - loss: 2.5549e-04 - accuracy: 1.0000 - val_loss: 6.5352 - val_accuracy: 0.2157\n",
            "Epoch 37/50\n",
            "26/26 [==============================] - 48s 2s/step - loss: 2.4434e-04 - accuracy: 1.0000 - val_loss: 6.5697 - val_accuracy: 0.2157\n",
            "Epoch 38/50\n",
            "26/26 [==============================] - 51s 2s/step - loss: 2.3396e-04 - accuracy: 1.0000 - val_loss: 6.6036 - val_accuracy: 0.2157\n",
            "Epoch 39/50\n",
            "26/26 [==============================] - 47s 2s/step - loss: 2.2422e-04 - accuracy: 1.0000 - val_loss: 6.6369 - val_accuracy: 0.2157\n",
            "Epoch 40/50\n",
            "26/26 [==============================] - 46s 2s/step - loss: 2.1508e-04 - accuracy: 1.0000 - val_loss: 6.6692 - val_accuracy: 0.2157\n",
            "Epoch 41/50\n",
            "26/26 [==============================] - 47s 2s/step - loss: 2.0651e-04 - accuracy: 1.0000 - val_loss: 6.7009 - val_accuracy: 0.2157\n",
            "Epoch 42/50\n",
            "26/26 [==============================] - 48s 2s/step - loss: 1.9845e-04 - accuracy: 1.0000 - val_loss: 6.7319 - val_accuracy: 0.2157\n",
            "Epoch 43/50\n",
            "26/26 [==============================] - 49s 2s/step - loss: 1.9084e-04 - accuracy: 1.0000 - val_loss: 6.7623 - val_accuracy: 0.2157\n",
            "Epoch 44/50\n",
            "26/26 [==============================] - 46s 2s/step - loss: 1.8368e-04 - accuracy: 1.0000 - val_loss: 6.7922 - val_accuracy: 0.2157\n",
            "Epoch 45/50\n",
            "26/26 [==============================] - 46s 2s/step - loss: 1.7690e-04 - accuracy: 1.0000 - val_loss: 6.8215 - val_accuracy: 0.2157\n",
            "Epoch 46/50\n",
            "26/26 [==============================] - 46s 2s/step - loss: 1.7049e-04 - accuracy: 1.0000 - val_loss: 6.8503 - val_accuracy: 0.2157\n",
            "Epoch 47/50\n",
            "26/26 [==============================] - 48s 2s/step - loss: 1.6441e-04 - accuracy: 1.0000 - val_loss: 6.8787 - val_accuracy: 0.2157\n",
            "Epoch 48/50\n",
            "26/26 [==============================] - 48s 2s/step - loss: 1.5865e-04 - accuracy: 1.0000 - val_loss: 6.9065 - val_accuracy: 0.2157\n",
            "Epoch 49/50\n",
            "26/26 [==============================] - 48s 2s/step - loss: 1.5319e-04 - accuracy: 1.0000 - val_loss: 6.9338 - val_accuracy: 0.2157\n",
            "Epoch 50/50\n",
            "26/26 [==============================] - 46s 2s/step - loss: 1.4800e-04 - accuracy: 1.0000 - val_loss: 6.9608 - val_accuracy: 0.2157\n"
          ]
        }
      ]
    },
    {
      "cell_type": "code",
      "source": [
        "#결과 확인\n",
        "plt.plot(history.history['loss'], label='train_loss')\n",
        "plt.plot(history.history['val_loss'], label='val_loss')\n",
        "plt.legend()\n",
        "plt.show()"
      ],
      "metadata": {
        "colab": {
          "base_uri": "https://localhost:8080/",
          "height": 430
        },
        "id": "L705q-pW8SEs",
        "outputId": "1ee2c1ee-cd48-44b8-a801-3406c1f1986c"
      },
      "execution_count": null,
      "outputs": [
        {
          "output_type": "display_data",
          "data": {
            "text/plain": [
              "<Figure size 640x480 with 1 Axes>"
            ],
            "image/png": "[encoded data removed]"
          },
          "metadata": {}
        }
      ]
    },
    {
      "cell_type": "markdown",
      "source": [
        "## 모델 피드백"
      ],
      "metadata": {
        "id": "s3Qwru5d8WnU"
      }
    },
    {
      "cell_type": "markdown",
      "source": [
        "데이터 수 증강"
      ],
      "metadata": {
        "id": "sKEy0RAL8hRc"
      }
    },
    {
      "cell_type": "code",
      "source": [
        "#rotated_data = np.rot90(x)\n",
        "\n",
        "#np.save('rotated_data.npy', rotated_data)\n",
        "#np.save('rotated_data_label.npy', y)\n",
        "#(640, 253, 640, 3)\n",
        "\n",
        "flipped_data_lr = np.flip(x, axis=1)\n",
        "\n",
        "np.save('flipped_data_lr.npy', flipped_data_lr)\n",
        "np.save('flipped_data_lr_label.npy', y)\n",
        "\n",
        "flipped_data_ud = np.flip(x, axis=0)\n",
        "\n",
        "np.save('flipped_data_ud.npy', flipped_data_ud)\n",
        "np.save('flipped_data_ud_label.npy', y)\n",
        "\n",
        "mean = 0\n",
        "stddev = 0.05\n",
        "noise = np.random.normal(mean, stddev, x.shape)\n",
        "noisy_data = x + noise\n",
        "np.save('noisy_data.npy', noisy_data)\n",
        "np.save('noisy_data_label.npy', y)"
      ],
      "metadata": {
        "id": "mdf46fZj8Vjq"
      },
      "execution_count": null,
      "outputs": []
    },
    {
      "cell_type": "markdown",
      "source": [
        "모델 재훈련"
      ],
      "metadata": {
        "id": "eZpNRJqr8qOW"
      }
    },
    {
      "cell_type": "code",
      "source": [
        "flipped_data_lr = np.load('flipped_data_lr.npy')\n",
        "flipped_data_ud = np.load('flipped_data_ud.npy')\n",
        "noisy_data = np.load('noisy_data.npy')\n",
        "flipped_data_lr_label = np.load('flipped_data_lr_label.npy')\n",
        "flipped_data_ud_label = np.load('flipped_data_ud_label.npy')\n",
        "noisy_data_label = np.load('noisy_data_label.npy')\n",
        "\n",
        "total_x = np.concatenate((x, flipped_data_lr, flipped_data_ud, noisy_data), axis=0)\n",
        "total_y = np.concatenate((y, flipped_data_lr_label, flipped_data_ud_label, noisy_data_label), axis=0)\n",
        "\n",
        "history = model.fit(total_x, total_y, validation_split=0.2, epochs=50, verbose=1, batch_size=8)"
      ],
      "metadata": {
        "colab": {
          "base_uri": "https://localhost:8080/",
          "height": 1000
        },
        "id": "6fwxMP5z8juD",
        "outputId": "4ba626f3-53ed-426c-c00b-562744268aa9"
      },
      "execution_count": null,
      "outputs": [
        {
          "output_type": "stream",
          "name": "stdout",
          "text": [
            "Epoch 1/50\n",
            "102/102 [==============================] - 192s 2s/step - loss: 0.5442 - accuracy: 0.8517 - val_loss: 0.5381 - val_accuracy: 0.8030\n",
            "Epoch 2/50\n",
            "102/102 [==============================] - 191s 2s/step - loss: 0.4236 - accuracy: 0.8517 - val_loss: 0.5023 - val_accuracy: 0.8030\n",
            "Epoch 3/50\n",
            "102/102 [==============================] - 186s 2s/step - loss: 0.4224 - accuracy: 0.8517 - val_loss: 0.4928 - val_accuracy: 0.8030\n",
            "Epoch 4/50\n",
            "102/102 [==============================] - 191s 2s/step - loss: 0.4180 - accuracy: 0.8517 - val_loss: 0.5283 - val_accuracy: 0.8030\n",
            "Epoch 5/50\n",
            "102/102 [==============================] - 191s 2s/step - loss: 0.4270 - accuracy: 0.8517 - val_loss: 0.5364 - val_accuracy: 0.8030\n",
            "Epoch 6/50\n",
            "102/102 [==============================] - 190s 2s/step - loss: 0.4171 - accuracy: 0.8517 - val_loss: 0.5102 - val_accuracy: 0.8030\n",
            "Epoch 7/50\n",
            "102/102 [==============================] - 191s 2s/step - loss: 0.4177 - accuracy: 0.8517 - val_loss: 0.4881 - val_accuracy: 0.8030\n",
            "Epoch 8/50\n",
            "102/102 [==============================] - 187s 2s/step - loss: 0.4227 - accuracy: 0.8517 - val_loss: 0.5249 - val_accuracy: 0.8030\n",
            "Epoch 9/50\n",
            "102/102 [==============================] - 186s 2s/step - loss: 0.4184 - accuracy: 0.8517 - val_loss: 0.4870 - val_accuracy: 0.8030\n",
            "Epoch 10/50\n",
            "102/102 [==============================] - 188s 2s/step - loss: 0.4113 - accuracy: 0.8517 - val_loss: 0.5018 - val_accuracy: 0.8030\n",
            "Epoch 11/50\n",
            "102/102 [==============================] - 191s 2s/step - loss: 0.4133 - accuracy: 0.8517 - val_loss: 0.4961 - val_accuracy: 0.8030\n",
            "Epoch 12/50\n",
            "102/102 [==============================] - 191s 2s/step - loss: 0.4214 - accuracy: 0.8517 - val_loss: 0.5080 - val_accuracy: 0.8030\n",
            "Epoch 13/50\n",
            "102/102 [==============================] - 190s 2s/step - loss: 0.4114 - accuracy: 0.8517 - val_loss: 0.5034 - val_accuracy: 0.8030\n",
            "Epoch 14/50\n",
            "102/102 [==============================] - 190s 2s/step - loss: 0.4112 - accuracy: 0.8517 - val_loss: 0.5704 - val_accuracy: 0.8030\n",
            "Epoch 15/50\n",
            "102/102 [==============================] - 190s 2s/step - loss: 0.4170 - accuracy: 0.8517 - val_loss: 0.4794 - val_accuracy: 0.8030\n",
            "Epoch 16/50\n",
            "102/102 [==============================] - 190s 2s/step - loss: 0.4135 - accuracy: 0.8517 - val_loss: 0.5477 - val_accuracy: 0.8030\n",
            "Epoch 17/50\n",
            "102/102 [==============================] - 189s 2s/step - loss: 0.4131 - accuracy: 0.8517 - val_loss: 0.4859 - val_accuracy: 0.8030\n",
            "Epoch 18/50\n",
            "102/102 [==============================] - 183s 2s/step - loss: 0.4088 - accuracy: 0.8517 - val_loss: 0.4873 - val_accuracy: 0.8030\n",
            "Epoch 19/50\n",
            "102/102 [==============================] - 186s 2s/step - loss: 0.4099 - accuracy: 0.8517 - val_loss: 0.4994 - val_accuracy: 0.8030\n",
            "Epoch 20/50\n",
            "102/102 [==============================] - 188s 2s/step - loss: 0.4066 - accuracy: 0.8517 - val_loss: 0.4893 - val_accuracy: 0.8030\n",
            "Epoch 21/50\n",
            "102/102 [==============================] - 187s 2s/step - loss: 0.4192 - accuracy: 0.8517 - val_loss: 0.4861 - val_accuracy: 0.8030\n",
            "Epoch 22/50\n",
            "102/102 [==============================] - 185s 2s/step - loss: 0.4136 - accuracy: 0.8517 - val_loss: 0.4997 - val_accuracy: 0.8030\n",
            "Epoch 23/50\n",
            "102/102 [==============================] - 186s 2s/step - loss: 0.4082 - accuracy: 0.8517 - val_loss: 0.4703 - val_accuracy: 0.8030\n",
            "Epoch 24/50\n",
            "102/102 [==============================] - 188s 2s/step - loss: 0.4095 - accuracy: 0.8517 - val_loss: 0.4695 - val_accuracy: 0.8030\n",
            "Epoch 25/50\n",
            "102/102 [==============================] - 186s 2s/step - loss: 0.4057 - accuracy: 0.8517 - val_loss: 0.5679 - val_accuracy: 0.8030\n",
            "Epoch 26/50\n",
            "102/102 [==============================] - 187s 2s/step - loss: 0.4051 - accuracy: 0.8517 - val_loss: 0.6054 - val_accuracy: 0.8030\n",
            "Epoch 27/50\n",
            "102/102 [==============================] - 185s 2s/step - loss: 0.4072 - accuracy: 0.8517 - val_loss: 0.4740 - val_accuracy: 0.8030\n",
            "Epoch 28/50\n",
            "102/102 [==============================] - 190s 2s/step - loss: 0.4026 - accuracy: 0.8517 - val_loss: 0.5046 - val_accuracy: 0.8030\n",
            "Epoch 29/50\n",
            "102/102 [==============================] - 187s 2s/step - loss: 0.4044 - accuracy: 0.8517 - val_loss: 0.5020 - val_accuracy: 0.8030\n",
            "Epoch 30/50\n",
            "102/102 [==============================] - 186s 2s/step - loss: 0.4023 - accuracy: 0.8517 - val_loss: 0.5128 - val_accuracy: 0.8030\n",
            "Epoch 31/50\n",
            "102/102 [==============================] - 188s 2s/step - loss: 0.4034 - accuracy: 0.8517 - val_loss: 0.5237 - val_accuracy: 0.8030\n",
            "Epoch 32/50\n",
            "102/102 [==============================] - 191s 2s/step - loss: 0.4047 - accuracy: 0.8517 - val_loss: 0.4770 - val_accuracy: 0.8030\n",
            "Epoch 33/50\n",
            "102/102 [==============================] - 188s 2s/step - loss: 0.3987 - accuracy: 0.8517 - val_loss: 0.5562 - val_accuracy: 0.8030\n",
            "Epoch 34/50\n",
            "102/102 [==============================] - 186s 2s/step - loss: 0.3994 - accuracy: 0.8517 - val_loss: 0.5182 - val_accuracy: 0.8030\n",
            "Epoch 35/50\n",
            "102/102 [==============================] - 188s 2s/step - loss: 0.4102 - accuracy: 0.8517 - val_loss: 0.4770 - val_accuracy: 0.8030\n",
            "Epoch 36/50\n",
            "102/102 [==============================] - 190s 2s/step - loss: 0.3943 - accuracy: 0.8517 - val_loss: 0.5499 - val_accuracy: 0.8030\n",
            "Epoch 37/50\n",
            "102/102 [==============================] - 188s 2s/step - loss: 0.4094 - accuracy: 0.8517 - val_loss: 0.5276 - val_accuracy: 0.8030\n",
            "Epoch 38/50\n",
            "102/102 [==============================] - 188s 2s/step - loss: 0.3985 - accuracy: 0.8517 - val_loss: 0.4930 - val_accuracy: 0.8030\n",
            "Epoch 39/50\n",
            "102/102 [==============================] - 183s 2s/step - loss: 0.3975 - accuracy: 0.8517 - val_loss: 0.4887 - val_accuracy: 0.8030\n",
            "Epoch 40/50\n",
            "102/102 [==============================] - 187s 2s/step - loss: 0.3998 - accuracy: 0.8517 - val_loss: 0.5139 - val_accuracy: 0.8030\n",
            "Epoch 41/50\n",
            "102/102 [==============================] - 189s 2s/step - loss: 0.3967 - accuracy: 0.8517 - val_loss: 0.5102 - val_accuracy: 0.8030\n",
            "Epoch 42/50\n",
            "102/102 [==============================] - 189s 2s/step - loss: 0.4006 - accuracy: 0.8517 - val_loss: 0.5238 - val_accuracy: 0.8030\n",
            "Epoch 43/50\n",
            " 43/102 [===========>..................] - ETA: 1:25 - loss: 0.3893 - accuracy: 0.8576"
          ]
        },
        {
          "output_type": "error",
          "ename": "KeyboardInterrupt",
          "evalue": "ignored",
          "traceback": [
            "\u001b[0;31m---------------------------------------------------------------------------\u001b[0m",
            "\u001b[0;31mKeyboardInterrupt\u001b[0m                         Traceback (most recent call last)",
            "\u001b[0;32m<ipython-input-43-94c3fea96d83>\u001b[0m in \u001b[0;36m<cell line: 11>\u001b[0;34m()\u001b[0m\n\u001b[1;32m      9\u001b[0m \u001b[0mtotal_y\u001b[0m \u001b[0;34m=\u001b[0m \u001b[0mnp\u001b[0m\u001b[0;34m.\u001b[0m\u001b[0mconcatenate\u001b[0m\u001b[0;34m(\u001b[0m\u001b[0;34m(\u001b[0m\u001b[0my\u001b[0m\u001b[0;34m,\u001b[0m \u001b[0mflipped_data_lr_label\u001b[0m\u001b[0;34m,\u001b[0m \u001b[0mflipped_data_ud_label\u001b[0m\u001b[0;34m,\u001b[0m \u001b[0mnoisy_data_label\u001b[0m\u001b[0;34m)\u001b[0m\u001b[0;34m,\u001b[0m \u001b[0maxis\u001b[0m\u001b[0;34m=\u001b[0m\u001b[0;36m0\u001b[0m\u001b[0;34m)\u001b[0m\u001b[0;34m\u001b[0m\u001b[0;34m\u001b[0m\u001b[0m\n\u001b[1;32m     10\u001b[0m \u001b[0;34m\u001b[0m\u001b[0m\n\u001b[0;32m---> 11\u001b[0;31m \u001b[0mhistory\u001b[0m \u001b[0;34m=\u001b[0m \u001b[0mmodel\u001b[0m\u001b[0;34m.\u001b[0m\u001b[0mfit\u001b[0m\u001b[0;34m(\u001b[0m\u001b[0mtotal_x\u001b[0m\u001b[0;34m,\u001b[0m \u001b[0mtotal_y\u001b[0m\u001b[0;34m,\u001b[0m \u001b[0mvalidation_split\u001b[0m\u001b[0;34m=\u001b[0m\u001b[0;36m0.2\u001b[0m\u001b[0;34m,\u001b[0m \u001b[0mepochs\u001b[0m\u001b[0;34m=\u001b[0m\u001b[0;36m50\u001b[0m\u001b[0;34m,\u001b[0m \u001b[0mverbose\u001b[0m\u001b[0;34m=\u001b[0m\u001b[0;36m1\u001b[0m\u001b[0;34m,\u001b[0m \u001b[0mbatch_size\u001b[0m\u001b[0;34m=\u001b[0m\u001b[0;36m8\u001b[0m\u001b[0;34m)\u001b[0m\u001b[0;34m\u001b[0m\u001b[0;34m\u001b[0m\u001b[0m\n\u001b[0m",
            "\u001b[0;32m/usr/local/lib/python3.10/dist-packages/keras/utils/traceback_utils.py\u001b[0m in \u001b[0;36merror_handler\u001b[0;34m(*args, **kwargs)\u001b[0m\n\u001b[1;32m     63\u001b[0m         \u001b[0mfiltered_tb\u001b[0m \u001b[0;34m=\u001b[0m \u001b[0;32mNone\u001b[0m\u001b[0;34m\u001b[0m\u001b[0;34m\u001b[0m\u001b[0m\n\u001b[1;32m     64\u001b[0m         \u001b[0;32mtry\u001b[0m\u001b[0;34m:\u001b[0m\u001b[0;34m\u001b[0m\u001b[0;34m\u001b[0m\u001b[0m\n\u001b[0;32m---> 65\u001b[0;31m             \u001b[0;32mreturn\u001b[0m \u001b[0mfn\u001b[0m\u001b[0;34m(\u001b[0m\u001b[0;34m*\u001b[0m\u001b[0margs\u001b[0m\u001b[0;34m,\u001b[0m \u001b[0;34m**\u001b[0m\u001b[0mkwargs\u001b[0m\u001b[0;34m)\u001b[0m\u001b[0;34m\u001b[0m\u001b[0;34m\u001b[0m\u001b[0m\n\u001b[0m\u001b[1;32m     66\u001b[0m         \u001b[0;32mexcept\u001b[0m \u001b[0mException\u001b[0m \u001b[0;32mas\u001b[0m \u001b[0me\u001b[0m\u001b[0;34m:\u001b[0m\u001b[0;34m\u001b[0m\u001b[0;34m\u001b[0m\u001b[0m\n\u001b[1;32m     67\u001b[0m             \u001b[0mfiltered_tb\u001b[0m \u001b[0;34m=\u001b[0m \u001b[0m_process_traceback_frames\u001b[0m\u001b[0;34m(\u001b[0m\u001b[0me\u001b[0m\u001b[0;34m.\u001b[0m\u001b[0m__traceback__\u001b[0m\u001b[0;34m)\u001b[0m\u001b[0;34m\u001b[0m\u001b[0;34m\u001b[0m\u001b[0m\n",
            "\u001b[0;32m/usr/local/lib/python3.10/dist-packages/keras/engine/training.py\u001b[0m in \u001b[0;36mfit\u001b[0;34m(self, x, y, batch_size, epochs, verbose, callbacks, validation_split, validation_data, shuffle, class_weight, sample_weight, initial_epoch, steps_per_epoch, validation_steps, validation_batch_size, validation_freq, max_queue_size, workers, use_multiprocessing)\u001b[0m\n\u001b[1;32m   1683\u001b[0m                         ):\n\u001b[1;32m   1684\u001b[0m                             \u001b[0mcallbacks\u001b[0m\u001b[0;34m.\u001b[0m\u001b[0mon_train_batch_begin\u001b[0m\u001b[0;34m(\u001b[0m\u001b[0mstep\u001b[0m\u001b[0;34m)\u001b[0m\u001b[0;34m\u001b[0m\u001b[0;34m\u001b[0m\u001b[0m\n\u001b[0;32m-> 1685\u001b[0;31m                             \u001b[0mtmp_logs\u001b[0m \u001b[0;34m=\u001b[0m \u001b[0mself\u001b[0m\u001b[0;34m.\u001b[0m\u001b[0mtrain_function\u001b[0m\u001b[0;34m(\u001b[0m\u001b[0miterator\u001b[0m\u001b[0;34m)\u001b[0m\u001b[0;34m\u001b[0m\u001b[0;34m\u001b[0m\u001b[0m\n\u001b[0m\u001b[1;32m   1686\u001b[0m                             \u001b[0;32mif\u001b[0m \u001b[0mdata_handler\u001b[0m\u001b[0;34m.\u001b[0m\u001b[0mshould_sync\u001b[0m\u001b[0;34m:\u001b[0m\u001b[0;34m\u001b[0m\u001b[0;34m\u001b[0m\u001b[0m\n\u001b[1;32m   1687\u001b[0m                                 \u001b[0mcontext\u001b[0m\u001b[0;34m.\u001b[0m\u001b[0masync_wait\u001b[0m\u001b[0;34m(\u001b[0m\u001b[0;34m)\u001b[0m\u001b[0;34m\u001b[0m\u001b[0;34m\u001b[0m\u001b[0m\n",
            "\u001b[0;32m/usr/local/lib/python3.10/dist-packages/tensorflow/python/util/traceback_utils.py\u001b[0m in \u001b[0;36merror_handler\u001b[0;34m(*args, **kwargs)\u001b[0m\n\u001b[1;32m    148\u001b[0m     \u001b[0mfiltered_tb\u001b[0m \u001b[0;34m=\u001b[0m \u001b[0;32mNone\u001b[0m\u001b[0;34m\u001b[0m\u001b[0;34m\u001b[0m\u001b[0m\n\u001b[1;32m    149\u001b[0m     \u001b[0;32mtry\u001b[0m\u001b[0;34m:\u001b[0m\u001b[0;34m\u001b[0m\u001b[0;34m\u001b[0m\u001b[0m\n\u001b[0;32m--> 150\u001b[0;31m       \u001b[0;32mreturn\u001b[0m \u001b[0mfn\u001b[0m\u001b[0;34m(\u001b[0m\u001b[0;34m*\u001b[0m\u001b[0margs\u001b[0m\u001b[0;34m,\u001b[0m \u001b[0;34m**\u001b[0m\u001b[0mkwargs\u001b[0m\u001b[0;34m)\u001b[0m\u001b[0;34m\u001b[0m\u001b[0;34m\u001b[0m\u001b[0m\n\u001b[0m\u001b[1;32m    151\u001b[0m     \u001b[0;32mexcept\u001b[0m \u001b[0mException\u001b[0m \u001b[0;32mas\u001b[0m \u001b[0me\u001b[0m\u001b[0;34m:\u001b[0m\u001b[0;34m\u001b[0m\u001b[0;34m\u001b[0m\u001b[0m\n\u001b[1;32m    152\u001b[0m       \u001b[0mfiltered_tb\u001b[0m \u001b[0;34m=\u001b[0m \u001b[0m_process_traceback_frames\u001b[0m\u001b[0;34m(\u001b[0m\u001b[0me\u001b[0m\u001b[0;34m.\u001b[0m\u001b[0m__traceback__\u001b[0m\u001b[0;34m)\u001b[0m\u001b[0;34m\u001b[0m\u001b[0;34m\u001b[0m\u001b[0m\n",
            "\u001b[0;32m/usr/local/lib/python3.10/dist-packages/tensorflow/python/eager/polymorphic_function/polymorphic_function.py\u001b[0m in \u001b[0;36m__call__\u001b[0;34m(self, *args, **kwds)\u001b[0m\n\u001b[1;32m    892\u001b[0m \u001b[0;34m\u001b[0m\u001b[0m\n\u001b[1;32m    893\u001b[0m       \u001b[0;32mwith\u001b[0m \u001b[0mOptionalXlaContext\u001b[0m\u001b[0;34m(\u001b[0m\u001b[0mself\u001b[0m\u001b[0;34m.\u001b[0m\u001b[0m_jit_compile\u001b[0m\u001b[0;34m)\u001b[0m\u001b[0;34m:\u001b[0m\u001b[0;34m\u001b[0m\u001b[0;34m\u001b[0m\u001b[0m\n\u001b[0;32m--> 894\u001b[0;31m         \u001b[0mresult\u001b[0m \u001b[0;34m=\u001b[0m \u001b[0mself\u001b[0m\u001b[0;34m.\u001b[0m\u001b[0m_call\u001b[0m\u001b[0;34m(\u001b[0m\u001b[0;34m*\u001b[0m\u001b[0margs\u001b[0m\u001b[0;34m,\u001b[0m \u001b[0;34m**\u001b[0m\u001b[0mkwds\u001b[0m\u001b[0;34m)\u001b[0m\u001b[0;34m\u001b[0m\u001b[0;34m\u001b[0m\u001b[0m\n\u001b[0m\u001b[1;32m    895\u001b[0m \u001b[0;34m\u001b[0m\u001b[0m\n\u001b[1;32m    896\u001b[0m       \u001b[0mnew_tracing_count\u001b[0m \u001b[0;34m=\u001b[0m \u001b[0mself\u001b[0m\u001b[0;34m.\u001b[0m\u001b[0mexperimental_get_tracing_count\u001b[0m\u001b[0;34m(\u001b[0m\u001b[0;34m)\u001b[0m\u001b[0;34m\u001b[0m\u001b[0;34m\u001b[0m\u001b[0m\n",
            "\u001b[0;32m/usr/local/lib/python3.10/dist-packages/tensorflow/python/eager/polymorphic_function/polymorphic_function.py\u001b[0m in \u001b[0;36m_call\u001b[0;34m(self, *args, **kwds)\u001b[0m\n\u001b[1;32m    924\u001b[0m       \u001b[0;31m# In this case we have created variables on the first call, so we run the\u001b[0m\u001b[0;34m\u001b[0m\u001b[0;34m\u001b[0m\u001b[0m\n\u001b[1;32m    925\u001b[0m       \u001b[0;31m# defunned version which is guaranteed to never create variables.\u001b[0m\u001b[0;34m\u001b[0m\u001b[0;34m\u001b[0m\u001b[0m\n\u001b[0;32m--> 926\u001b[0;31m       \u001b[0;32mreturn\u001b[0m \u001b[0mself\u001b[0m\u001b[0;34m.\u001b[0m\u001b[0m_no_variable_creation_fn\u001b[0m\u001b[0;34m(\u001b[0m\u001b[0;34m*\u001b[0m\u001b[0margs\u001b[0m\u001b[0;34m,\u001b[0m \u001b[0;34m**\u001b[0m\u001b[0mkwds\u001b[0m\u001b[0;34m)\u001b[0m  \u001b[0;31m# pylint: disable=not-callable\u001b[0m\u001b[0;34m\u001b[0m\u001b[0;34m\u001b[0m\u001b[0m\n\u001b[0m\u001b[1;32m    927\u001b[0m     \u001b[0;32melif\u001b[0m \u001b[0mself\u001b[0m\u001b[0;34m.\u001b[0m\u001b[0m_variable_creation_fn\u001b[0m \u001b[0;32mis\u001b[0m \u001b[0;32mnot\u001b[0m \u001b[0;32mNone\u001b[0m\u001b[0;34m:\u001b[0m\u001b[0;34m\u001b[0m\u001b[0;34m\u001b[0m\u001b[0m\n\u001b[1;32m    928\u001b[0m       \u001b[0;31m# Release the lock early so that multiple threads can perform the call\u001b[0m\u001b[0;34m\u001b[0m\u001b[0;34m\u001b[0m\u001b[0m\n",
            "\u001b[0;32m/usr/local/lib/python3.10/dist-packages/tensorflow/python/eager/polymorphic_function/tracing_compiler.py\u001b[0m in \u001b[0;36m__call__\u001b[0;34m(self, *args, **kwargs)\u001b[0m\n\u001b[1;32m    141\u001b[0m       (concrete_function,\n\u001b[1;32m    142\u001b[0m        filtered_flat_args) = self._maybe_define_function(args, kwargs)\n\u001b[0;32m--> 143\u001b[0;31m     return concrete_function._call_flat(\n\u001b[0m\u001b[1;32m    144\u001b[0m         filtered_flat_args, captured_inputs=concrete_function.captured_inputs)  # pylint: disable=protected-access\n\u001b[1;32m    145\u001b[0m \u001b[0;34m\u001b[0m\u001b[0m\n",
            "\u001b[0;32m/usr/local/lib/python3.10/dist-packages/tensorflow/python/eager/polymorphic_function/monomorphic_function.py\u001b[0m in \u001b[0;36m_call_flat\u001b[0;34m(self, args, captured_inputs, cancellation_manager)\u001b[0m\n\u001b[1;32m   1755\u001b[0m         and executing_eagerly):\n\u001b[1;32m   1756\u001b[0m       \u001b[0;31m# No tape is watching; skip to running the function.\u001b[0m\u001b[0;34m\u001b[0m\u001b[0;34m\u001b[0m\u001b[0m\n\u001b[0;32m-> 1757\u001b[0;31m       return self._build_call_outputs(self._inference_function.call(\n\u001b[0m\u001b[1;32m   1758\u001b[0m           ctx, args, cancellation_manager=cancellation_manager))\n\u001b[1;32m   1759\u001b[0m     forward_backward = self._select_forward_and_backward_functions(\n",
            "\u001b[0;32m/usr/local/lib/python3.10/dist-packages/tensorflow/python/eager/polymorphic_function/monomorphic_function.py\u001b[0m in \u001b[0;36mcall\u001b[0;34m(self, ctx, args, cancellation_manager)\u001b[0m\n\u001b[1;32m    379\u001b[0m       \u001b[0;32mwith\u001b[0m \u001b[0m_InterpolateFunctionError\u001b[0m\u001b[0;34m(\u001b[0m\u001b[0mself\u001b[0m\u001b[0;34m)\u001b[0m\u001b[0;34m:\u001b[0m\u001b[0;34m\u001b[0m\u001b[0;34m\u001b[0m\u001b[0m\n\u001b[1;32m    380\u001b[0m         \u001b[0;32mif\u001b[0m \u001b[0mcancellation_manager\u001b[0m \u001b[0;32mis\u001b[0m \u001b[0;32mNone\u001b[0m\u001b[0;34m:\u001b[0m\u001b[0;34m\u001b[0m\u001b[0;34m\u001b[0m\u001b[0m\n\u001b[0;32m--> 381\u001b[0;31m           outputs = execute.execute(\n\u001b[0m\u001b[1;32m    382\u001b[0m               \u001b[0mstr\u001b[0m\u001b[0;34m(\u001b[0m\u001b[0mself\u001b[0m\u001b[0;34m.\u001b[0m\u001b[0msignature\u001b[0m\u001b[0;34m.\u001b[0m\u001b[0mname\u001b[0m\u001b[0;34m)\u001b[0m\u001b[0;34m,\u001b[0m\u001b[0;34m\u001b[0m\u001b[0;34m\u001b[0m\u001b[0m\n\u001b[1;32m    383\u001b[0m               \u001b[0mnum_outputs\u001b[0m\u001b[0;34m=\u001b[0m\u001b[0mself\u001b[0m\u001b[0;34m.\u001b[0m\u001b[0m_num_outputs\u001b[0m\u001b[0;34m,\u001b[0m\u001b[0;34m\u001b[0m\u001b[0;34m\u001b[0m\u001b[0m\n",
            "\u001b[0;32m/usr/local/lib/python3.10/dist-packages/tensorflow/python/eager/execute.py\u001b[0m in \u001b[0;36mquick_execute\u001b[0;34m(op_name, num_outputs, inputs, attrs, ctx, name)\u001b[0m\n\u001b[1;32m     50\u001b[0m   \u001b[0;32mtry\u001b[0m\u001b[0;34m:\u001b[0m\u001b[0;34m\u001b[0m\u001b[0;34m\u001b[0m\u001b[0m\n\u001b[1;32m     51\u001b[0m     \u001b[0mctx\u001b[0m\u001b[0;34m.\u001b[0m\u001b[0mensure_initialized\u001b[0m\u001b[0;34m(\u001b[0m\u001b[0;34m)\u001b[0m\u001b[0;34m\u001b[0m\u001b[0;34m\u001b[0m\u001b[0m\n\u001b[0;32m---> 52\u001b[0;31m     tensors = pywrap_tfe.TFE_Py_Execute(ctx._handle, device_name, op_name,\n\u001b[0m\u001b[1;32m     53\u001b[0m                                         inputs, attrs, num_outputs)\n\u001b[1;32m     54\u001b[0m   \u001b[0;32mexcept\u001b[0m \u001b[0mcore\u001b[0m\u001b[0;34m.\u001b[0m\u001b[0m_NotOkStatusException\u001b[0m \u001b[0;32mas\u001b[0m \u001b[0me\u001b[0m\u001b[0;34m:\u001b[0m\u001b[0;34m\u001b[0m\u001b[0;34m\u001b[0m\u001b[0m\n",
            "\u001b[0;31mKeyboardInterrupt\u001b[0m: "
          ]
        }
      ]
    },
    {
      "cell_type": "markdown",
      "source": [
        "결과 확인"
      ],
      "metadata": {
        "id": "6uVePasb8sJX"
      }
    },
    {
      "cell_type": "code",
      "source": [
        "plt.plot(history.history['loss'], label='train_loss')\n",
        "plt.plot(history.history['val_loss'], label='val_loss')\n",
        "plt.legend()\n",
        "plt.show()"
      ],
      "metadata": {
        "id": "cgEpyZrm8oQk"
      },
      "execution_count": null,
      "outputs": []
    },
    {
      "cell_type": "markdown",
      "source": [
        "epochs 증가"
      ],
      "metadata": {
        "id": "vKJmPQyV8uue"
      }
    },
    {
      "cell_type": "code",
      "source": [
        "history = model.fit(total_x, total_y, validation_split=0.2, epochs=100, verbose=1, batch_size=8)"
      ],
      "metadata": {
        "id": "OVOL8Wh38wfK"
      },
      "execution_count": null,
      "outputs": []
    },
    {
      "cell_type": "markdown",
      "source": [
        "데이터 확인 및 저장"
      ],
      "metadata": {
        "id": "4mcY3hWe8y-w"
      }
    },
    {
      "cell_type": "code",
      "source": [
        "plt.plot(history.history['loss'], label='train_loss')\n",
        "plt.plot(history.history['val_loss'], label='val_loss')\n",
        "plt.legend()\n",
        "plt.show()\n",
        "model.save('transistor_cnn.h5')"
      ],
      "metadata": {
        "id": "P0tXra2r8xki"
      },
      "execution_count": null,
      "outputs": []
    }
  ]
}